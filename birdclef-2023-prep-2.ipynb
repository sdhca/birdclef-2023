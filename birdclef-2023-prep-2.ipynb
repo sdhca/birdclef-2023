{
 "cells": [
  {
   "cell_type": "markdown",
   "id": "b71a1495-2a86-40df-aeed-acfc887ac737",
   "metadata": {},
   "source": [
    "# BirdCLEF 2023 - Audio Preprocessing 2\n",
    "The goal here is to apply the guidelines and approach presented in the [First Steps, Road to the Top](https://www.kaggle.com/code/jhoward/first-steps-road-to-the-top-part-1) series of notebooks. Following that series, we'll look to use FastAI/PyTorch to create an effective validation set and iterate rapidly!\n",
    "\n",
    "To overall plan is to start with transfer learning to train CNNs on spectrograms.\n",
    "\n",
    "This notebook focuses on one-time audio preprocessing that will take place prior to creation of data loaders.\n",
    "\n",
    "## Todo\n",
    "\n",
    " 1. [ ] Complete Part 1\n",
    " 2. [ ] Complete Part 2\n",
    " 3. [ ] Complete Part 3\n",
    " 4. [ ] Complete Part 4\n",
    " 5. [ ] Try fastaudio for audio preprocessing [fastaudio]\n",
    " 6. [ ] Try TorchAudio for audio preprocessing [torchaudio]\n",
    " 7. [ ] Experiment with secondary labels"
   ]
  },
  {
   "cell_type": "markdown",
   "id": "a41a34b3-d44d-4c72-a2cd-839eb426ec52",
   "metadata": {},
   "source": [
    "# Setup"
   ]
  },
  {
   "cell_type": "markdown",
   "id": "2244aaca-99f7-49eb-b99b-5d5f2dceb206",
   "metadata": {},
   "source": [
    "## Download competition data and install packages\n",
    "Prerequisites if running off of Kaggle:\n",
    "1. Create a python environment\n",
    "2. [Create `~/.kaggle/kaggle.json`](https://www.kaggle.com/docs/api)\n",
    "3. [Join the competition](https://www.kaggle.com/competitions/birdclef-2023)"
   ]
  },
  {
   "cell_type": "code",
   "execution_count": 1,
   "id": "0484b2d6-e9c0-47b6-91ad-b64b2e3c0dc3",
   "metadata": {
    "tags": []
   },
   "outputs": [
    {
     "data": {
      "text/plain": [
       "(#7) [Path('birdclef-2023/train_audio_prep-2'),Path('birdclef-2023/eBird_Taxonomy_v2021.csv'),Path('birdclef-2023/test_soundscapes'),Path('birdclef-2023/train_metadata.csv'),Path('birdclef-2023/train_audio'),Path('birdclef-2023/sample_submission.csv'),Path('birdclef-2023/train_audio_prep-1')]"
      ]
     },
     "execution_count": 1,
     "metadata": {},
     "output_type": "execute_result"
    }
   ],
   "source": [
    "from fastkaggle import setup_comp\n",
    "\n",
    "comp  = 'birdclef-2023'\n",
    "comp_path = setup_comp(comp, install='fastai timm fastaudio')\n",
    "comp_path.ls()"
   ]
  },
  {
   "cell_type": "markdown",
   "id": "08275eb4-dab0-4722-8e4b-e1af08eecc48",
   "metadata": {
    "tags": []
   },
   "source": [
    "## Load packages"
   ]
  },
  {
   "cell_type": "code",
   "execution_count": 2,
   "id": "cf722958-14e1-4613-992e-5b703268d49a",
   "metadata": {
    "tags": []
   },
   "outputs": [
    {
     "name": "stderr",
     "output_type": "stream",
     "text": [
      "/home/sdhca/mambaforge/envs/fastai/lib/python3.9/site-packages/torchvision/io/image.py:13: UserWarning: Failed to load image Python extension: libtorch_cuda_cu.so: cannot open shared object file: No such file or directory\n",
      "  warn(f\"Failed to load image Python extension: {e}\")\n"
     ]
    },
    {
     "name": "stdout",
     "output_type": "stream",
     "text": [
      "2.0.0+cu117 2.0.1+cu117\n"
     ]
    }
   ],
   "source": [
    "from fastai.vision.all import *\n",
    "import pandas as pd\n",
    "import itertools\n",
    "import torch\n",
    "import torchaudio\n",
    "import IPython.display\n",
    "import mimetypes\n",
    "from tqdm.auto import tqdm\n",
    "\n",
    "from sklearn.model_selection import StratifiedKFold\n",
    "from fastaudio.core.all import *\n",
    "from fastaudio.augment.all import *\n",
    "\n",
    "print(torch.__version__, torchaudio.__version__)"
   ]
  },
  {
   "cell_type": "code",
   "execution_count": 3,
   "id": "e6596aec-d473-40eb-adbe-c73ea9892621",
   "metadata": {},
   "outputs": [
    {
     "data": {
      "text/plain": [
       "True"
      ]
     },
     "execution_count": 3,
     "metadata": {},
     "output_type": "execute_result"
    }
   ],
   "source": [
    "torch.cuda.is_available()"
   ]
  },
  {
   "cell_type": "code",
   "execution_count": 4,
   "id": "bcdd1ff7-afba-4d25-8f08-e939bfa056ec",
   "metadata": {},
   "outputs": [
    {
     "data": {
      "text/plain": [
       "'NVIDIA GeForce RTX 3060'"
      ]
     },
     "execution_count": 4,
     "metadata": {},
     "output_type": "execute_result"
    }
   ],
   "source": [
    "torch.cuda.get_device_name(0)"
   ]
  },
  {
   "cell_type": "markdown",
   "id": "49184222-b5ad-4d2d-8c98-71d2927f6c2a",
   "metadata": {},
   "source": [
    "# Load Metadata"
   ]
  },
  {
   "cell_type": "code",
   "execution_count": 5,
   "id": "094f4d47-e334-41d1-8dd9-01b0f9ee8a6e",
   "metadata": {
    "tags": []
   },
   "outputs": [
    {
     "data": {
      "text/plain": [
       "(#264) [Path('birdclef-2023/train_audio_prep-1/somgre1'),Path('birdclef-2023/train_audio_prep-1/whcpri2'),Path('birdclef-2023/train_audio_prep-1/egygoo'),Path('birdclef-2023/train_audio_prep-1/woosan'),Path('birdclef-2023/train_audio_prep-1/yebapa1'),Path('birdclef-2023/train_audio_prep-1/hamerk1'),Path('birdclef-2023/train_audio_prep-1/hartur1'),Path('birdclef-2023/train_audio_prep-1/rebfir2'),Path('birdclef-2023/train_audio_prep-1/strher'),Path('birdclef-2023/train_audio_prep-1/wtbeat1')...]"
      ]
     },
     "execution_count": 5,
     "metadata": {},
     "output_type": "execute_result"
    }
   ],
   "source": [
    "trn_path = comp_path/'train_audio_prep-1'\n",
    "trn_path.ls()"
   ]
  },
  {
   "cell_type": "markdown",
   "id": "8d6d5d3e-e8cc-4cbf-8b67-1474c994dc9b",
   "metadata": {},
   "source": [
    "## Provided Metadata"
   ]
  },
  {
   "cell_type": "code",
   "execution_count": 6,
   "id": "781f6030-9058-40ca-aa13-15b30103a63c",
   "metadata": {
    "tags": []
   },
   "outputs": [
    {
     "data": {
      "text/html": [
       "<div>\n",
       "<style scoped>\n",
       "    .dataframe tbody tr th:only-of-type {\n",
       "        vertical-align: middle;\n",
       "    }\n",
       "\n",
       "    .dataframe tbody tr th {\n",
       "        vertical-align: top;\n",
       "    }\n",
       "\n",
       "    .dataframe thead th {\n",
       "        text-align: right;\n",
       "    }\n",
       "</style>\n",
       "<table border=\"1\" class=\"dataframe\">\n",
       "  <thead>\n",
       "    <tr style=\"text-align: right;\">\n",
       "      <th></th>\n",
       "      <th>0</th>\n",
       "      <th>1</th>\n",
       "      <th>2</th>\n",
       "      <th>3</th>\n",
       "      <th>4</th>\n",
       "    </tr>\n",
       "  </thead>\n",
       "  <tbody>\n",
       "    <tr>\n",
       "      <th>primary_label</th>\n",
       "      <td>abethr1</td>\n",
       "      <td>abethr1</td>\n",
       "      <td>abethr1</td>\n",
       "      <td>abethr1</td>\n",
       "      <td>abethr1</td>\n",
       "    </tr>\n",
       "    <tr>\n",
       "      <th>secondary_labels</th>\n",
       "      <td>[]</td>\n",
       "      <td>[]</td>\n",
       "      <td>[]</td>\n",
       "      <td>[]</td>\n",
       "      <td>[]</td>\n",
       "    </tr>\n",
       "    <tr>\n",
       "      <th>type</th>\n",
       "      <td>['song']</td>\n",
       "      <td>['call']</td>\n",
       "      <td>['song']</td>\n",
       "      <td>['song']</td>\n",
       "      <td>['call',  'song']</td>\n",
       "    </tr>\n",
       "    <tr>\n",
       "      <th>latitude</th>\n",
       "      <td>4.3906</td>\n",
       "      <td>-2.9524</td>\n",
       "      <td>-2.9524</td>\n",
       "      <td>-2.9524</td>\n",
       "      <td>-2.9524</td>\n",
       "    </tr>\n",
       "    <tr>\n",
       "      <th>longitude</th>\n",
       "      <td>38.2788</td>\n",
       "      <td>38.2921</td>\n",
       "      <td>38.2921</td>\n",
       "      <td>38.2921</td>\n",
       "      <td>38.2921</td>\n",
       "    </tr>\n",
       "    <tr>\n",
       "      <th>scientific_name</th>\n",
       "      <td>Turdus tephronotus</td>\n",
       "      <td>Turdus tephronotus</td>\n",
       "      <td>Turdus tephronotus</td>\n",
       "      <td>Turdus tephronotus</td>\n",
       "      <td>Turdus tephronotus</td>\n",
       "    </tr>\n",
       "    <tr>\n",
       "      <th>common_name</th>\n",
       "      <td>African Bare-eyed Thrush</td>\n",
       "      <td>African Bare-eyed Thrush</td>\n",
       "      <td>African Bare-eyed Thrush</td>\n",
       "      <td>African Bare-eyed Thrush</td>\n",
       "      <td>African Bare-eyed Thrush</td>\n",
       "    </tr>\n",
       "    <tr>\n",
       "      <th>author</th>\n",
       "      <td>Rolf A. de By</td>\n",
       "      <td>James Bradley</td>\n",
       "      <td>James Bradley</td>\n",
       "      <td>James Bradley</td>\n",
       "      <td>James Bradley</td>\n",
       "    </tr>\n",
       "    <tr>\n",
       "      <th>license</th>\n",
       "      <td>Creative Commons Attribution-NonCommercial-ShareAlike 3.0</td>\n",
       "      <td>Creative Commons Attribution-NonCommercial-ShareAlike 4.0</td>\n",
       "      <td>Creative Commons Attribution-NonCommercial-ShareAlike 4.0</td>\n",
       "      <td>Creative Commons Attribution-NonCommercial-ShareAlike 4.0</td>\n",
       "      <td>Creative Commons Attribution-NonCommercial-ShareAlike 4.0</td>\n",
       "    </tr>\n",
       "    <tr>\n",
       "      <th>rating</th>\n",
       "      <td>4.0</td>\n",
       "      <td>3.5</td>\n",
       "      <td>3.5</td>\n",
       "      <td>5.0</td>\n",
       "      <td>4.5</td>\n",
       "    </tr>\n",
       "    <tr>\n",
       "      <th>url</th>\n",
       "      <td>https://www.xeno-canto.org/128013</td>\n",
       "      <td>https://www.xeno-canto.org/363501</td>\n",
       "      <td>https://www.xeno-canto.org/363502</td>\n",
       "      <td>https://www.xeno-canto.org/363503</td>\n",
       "      <td>https://www.xeno-canto.org/363504</td>\n",
       "    </tr>\n",
       "    <tr>\n",
       "      <th>filename</th>\n",
       "      <td>abethr1/XC128013.ogg</td>\n",
       "      <td>abethr1/XC363501.ogg</td>\n",
       "      <td>abethr1/XC363502.ogg</td>\n",
       "      <td>abethr1/XC363503.ogg</td>\n",
       "      <td>abethr1/XC363504.ogg</td>\n",
       "    </tr>\n",
       "  </tbody>\n",
       "</table>\n",
       "</div>"
      ],
      "text/plain": [
       "                                                                          0  \\\n",
       "primary_label                                                       abethr1   \n",
       "secondary_labels                                                         []   \n",
       "type                                                               ['song']   \n",
       "latitude                                                             4.3906   \n",
       "longitude                                                           38.2788   \n",
       "scientific_name                                          Turdus tephronotus   \n",
       "common_name                                        African Bare-eyed Thrush   \n",
       "author                                                        Rolf A. de By   \n",
       "license           Creative Commons Attribution-NonCommercial-ShareAlike 3.0   \n",
       "rating                                                                  4.0   \n",
       "url                                       https://www.xeno-canto.org/128013   \n",
       "filename                                               abethr1/XC128013.ogg   \n",
       "\n",
       "                                                                          1  \\\n",
       "primary_label                                                       abethr1   \n",
       "secondary_labels                                                         []   \n",
       "type                                                               ['call']   \n",
       "latitude                                                            -2.9524   \n",
       "longitude                                                           38.2921   \n",
       "scientific_name                                          Turdus tephronotus   \n",
       "common_name                                        African Bare-eyed Thrush   \n",
       "author                                                        James Bradley   \n",
       "license           Creative Commons Attribution-NonCommercial-ShareAlike 4.0   \n",
       "rating                                                                  3.5   \n",
       "url                                       https://www.xeno-canto.org/363501   \n",
       "filename                                               abethr1/XC363501.ogg   \n",
       "\n",
       "                                                                          2  \\\n",
       "primary_label                                                       abethr1   \n",
       "secondary_labels                                                         []   \n",
       "type                                                               ['song']   \n",
       "latitude                                                            -2.9524   \n",
       "longitude                                                           38.2921   \n",
       "scientific_name                                          Turdus tephronotus   \n",
       "common_name                                        African Bare-eyed Thrush   \n",
       "author                                                        James Bradley   \n",
       "license           Creative Commons Attribution-NonCommercial-ShareAlike 4.0   \n",
       "rating                                                                  3.5   \n",
       "url                                       https://www.xeno-canto.org/363502   \n",
       "filename                                               abethr1/XC363502.ogg   \n",
       "\n",
       "                                                                          3  \\\n",
       "primary_label                                                       abethr1   \n",
       "secondary_labels                                                         []   \n",
       "type                                                               ['song']   \n",
       "latitude                                                            -2.9524   \n",
       "longitude                                                           38.2921   \n",
       "scientific_name                                          Turdus tephronotus   \n",
       "common_name                                        African Bare-eyed Thrush   \n",
       "author                                                        James Bradley   \n",
       "license           Creative Commons Attribution-NonCommercial-ShareAlike 4.0   \n",
       "rating                                                                  5.0   \n",
       "url                                       https://www.xeno-canto.org/363503   \n",
       "filename                                               abethr1/XC363503.ogg   \n",
       "\n",
       "                                                                          4  \n",
       "primary_label                                                       abethr1  \n",
       "secondary_labels                                                         []  \n",
       "type                                                      ['call',  'song']  \n",
       "latitude                                                            -2.9524  \n",
       "longitude                                                           38.2921  \n",
       "scientific_name                                          Turdus tephronotus  \n",
       "common_name                                        African Bare-eyed Thrush  \n",
       "author                                                        James Bradley  \n",
       "license           Creative Commons Attribution-NonCommercial-ShareAlike 4.0  \n",
       "rating                                                                  4.5  \n",
       "url                                       https://www.xeno-canto.org/363504  \n",
       "filename                                               abethr1/XC363504.ogg  "
      ]
     },
     "execution_count": 6,
     "metadata": {},
     "output_type": "execute_result"
    }
   ],
   "source": [
    "trn_df = pd.read_csv(comp_path/'train_metadata.csv')\n",
    "lst_cols = ['secondary_labels', 'type']\n",
    "for col in lst_cols:\n",
    "    trn_df[col] = trn_df[col].apply(lambda x: x[1:-1].split(','))\n",
    "    \n",
    "trn_df.head().T"
   ]
  },
  {
   "cell_type": "markdown",
   "id": "25a67bb4-2e3e-4ec4-9a87-e1ab94d5e3f1",
   "metadata": {
    "tags": []
   },
   "source": [
    "# Audio Preprocessing\n",
    "\n",
    "Here, we will preprocess audio and save new files. In part 1, we removed silence and resampled the audio. Here, we will resize audio to the same length."
   ]
  },
  {
   "cell_type": "code",
   "execution_count": 7,
   "id": "ff7f6615-ec06-4620-a200-7692e57fd14e",
   "metadata": {
    "tags": []
   },
   "outputs": [],
   "source": [
    "prep_path = comp_path/'train_audio_prep-2b'\n",
    "prep_path.mkdir(exist_ok=True)"
   ]
  },
  {
   "cell_type": "markdown",
   "id": "e96872e4-480d-4b95-b1ff-1a4c6b055332",
   "metadata": {},
   "source": [
    "## Create Augmentation Pipeline\n",
    "\n",
    "Initially, I'm not resizing. I want to see the distribution of sizes after removing silence before deciding what length of audio to use."
   ]
  },
  {
   "cell_type": "code",
   "execution_count": 8,
   "id": "f92b07f9-2ec5-4b99-8a52-ac108c9db9d0",
   "metadata": {
    "tags": []
   },
   "outputs": [],
   "source": [
    "# cfg = AudioConfig.BasicSpectrogram()\n",
    "# aud2spec = AudioToSpec.from_cfg(cfg)\n",
    "resize = ResizeSignal(duration=30e3)\n",
    "pipe = Pipeline([resize])"
   ]
  },
  {
   "cell_type": "markdown",
   "id": "20c83204-390b-4cf3-aa04-f730985a4ba9",
   "metadata": {},
   "source": [
    "## Preprocess"
   ]
  },
  {
   "cell_type": "code",
   "execution_count": 9,
   "id": "fdf0655d-8305-4a21-b324-2435e2a85762",
   "metadata": {
    "tags": []
   },
   "outputs": [
    {
     "data": {
      "application/vnd.jupyter.widget-view+json": {
       "model_id": "eb225e3cb8ff46418f8d3400c2076084",
       "version_major": 2,
       "version_minor": 0
      },
      "text/plain": [
       "  0%|          | 0/16941 [00:00<?, ?it/s]"
      ]
     },
     "metadata": {},
     "output_type": "display_data"
    },
    {
     "data": {
      "text/plain": [
       "Path('birdclef-2023/train_audio_prep-2b')"
      ]
     },
     "execution_count": 9,
     "metadata": {},
     "output_type": "execute_result"
    }
   ],
   "source": [
    "preprocess_audio_folder(trn_path, output_dir=prep_path, pipeline=pipe)"
   ]
  },
  {
   "cell_type": "markdown",
   "id": "3a2971bc-ef1d-46b0-88ed-e935165be888",
   "metadata": {},
   "source": [
    "## Check Audio Lengths"
   ]
  },
  {
   "cell_type": "code",
   "execution_count": 10,
   "id": "4db89adb-fbed-4c5c-a643-98e6110cb222",
   "metadata": {
    "tags": []
   },
   "outputs": [
    {
     "data": {
      "application/vnd.jupyter.widget-view+json": {
       "model_id": "40108a76b377446f8b84cda18ee55392",
       "version_major": 2,
       "version_minor": 0
      },
      "text/plain": [
       "Extracting audio metadata:   0%|          | 0/16941 [00:00<?, ?it/s]"
      ]
     },
     "metadata": {},
     "output_type": "display_data"
    }
   ],
   "source": [
    "# audio_prep_md_df = get_audio_files_metadata(get_audio_files(prep_path))\n",
    "audio_prep_md_df = get_audio_files_metadata(trn_df.filename, parent=prep_path)"
   ]
  },
  {
   "cell_type": "code",
   "execution_count": 11,
   "id": "d606bcbd-d25c-43b4-9989-539f046465c1",
   "metadata": {
    "tags": []
   },
   "outputs": [
    {
     "data": {
      "image/png": "[encoded data removed]",
      "text/plain": [
       "<Figure size 640x480 with 1 Axes>"
      ]
     },
     "metadata": {},
     "output_type": "display_data"
    }
   ],
   "source": [
    "_ = audio_prep_md_df.seconds.plot.hist(logy=True, bins=100)"
   ]
  },
  {
   "cell_type": "code",
   "execution_count": 12,
   "id": "fd57860c-1378-4cc3-9363-501e2deaae56",
   "metadata": {
    "tags": []
   },
   "outputs": [
    {
     "data": {
      "text/html": [
       "<div>\n",
       "<style scoped>\n",
       "    .dataframe tbody tr th:only-of-type {\n",
       "        vertical-align: middle;\n",
       "    }\n",
       "\n",
       "    .dataframe tbody tr th {\n",
       "        vertical-align: top;\n",
       "    }\n",
       "\n",
       "    .dataframe thead th {\n",
       "        text-align: right;\n",
       "    }\n",
       "</style>\n",
       "<table border=\"1\" class=\"dataframe\">\n",
       "  <thead>\n",
       "    <tr style=\"text-align: right;\">\n",
       "      <th></th>\n",
       "      <th>sample_rate</th>\n",
       "      <th>num_frames</th>\n",
       "      <th>num_channels</th>\n",
       "      <th>bits_per_sample</th>\n",
       "      <th>seconds</th>\n",
       "    </tr>\n",
       "  </thead>\n",
       "  <tbody>\n",
       "    <tr>\n",
       "      <th>count</th>\n",
       "      <td>16941.0</td>\n",
       "      <td>16941.0</td>\n",
       "      <td>16941.0</td>\n",
       "      <td>16941.0</td>\n",
       "      <td>16941.0</td>\n",
       "    </tr>\n",
       "    <tr>\n",
       "      <th>mean</th>\n",
       "      <td>16000.0</td>\n",
       "      <td>480000.0</td>\n",
       "      <td>1.0</td>\n",
       "      <td>0.0</td>\n",
       "      <td>30.0</td>\n",
       "    </tr>\n",
       "    <tr>\n",
       "      <th>std</th>\n",
       "      <td>0.0</td>\n",
       "      <td>0.0</td>\n",
       "      <td>0.0</td>\n",
       "      <td>0.0</td>\n",
       "      <td>0.0</td>\n",
       "    </tr>\n",
       "    <tr>\n",
       "      <th>min</th>\n",
       "      <td>16000.0</td>\n",
       "      <td>480000.0</td>\n",
       "      <td>1.0</td>\n",
       "      <td>0.0</td>\n",
       "      <td>30.0</td>\n",
       "    </tr>\n",
       "    <tr>\n",
       "      <th>25%</th>\n",
       "      <td>16000.0</td>\n",
       "      <td>480000.0</td>\n",
       "      <td>1.0</td>\n",
       "      <td>0.0</td>\n",
       "      <td>30.0</td>\n",
       "    </tr>\n",
       "    <tr>\n",
       "      <th>50%</th>\n",
       "      <td>16000.0</td>\n",
       "      <td>480000.0</td>\n",
       "      <td>1.0</td>\n",
       "      <td>0.0</td>\n",
       "      <td>30.0</td>\n",
       "    </tr>\n",
       "    <tr>\n",
       "      <th>75%</th>\n",
       "      <td>16000.0</td>\n",
       "      <td>480000.0</td>\n",
       "      <td>1.0</td>\n",
       "      <td>0.0</td>\n",
       "      <td>30.0</td>\n",
       "    </tr>\n",
       "    <tr>\n",
       "      <th>max</th>\n",
       "      <td>16000.0</td>\n",
       "      <td>480000.0</td>\n",
       "      <td>1.0</td>\n",
       "      <td>0.0</td>\n",
       "      <td>30.0</td>\n",
       "    </tr>\n",
       "  </tbody>\n",
       "</table>\n",
       "</div>"
      ],
      "text/plain": [
       "       sample_rate  num_frames  num_channels  bits_per_sample  seconds\n",
       "count      16941.0     16941.0       16941.0          16941.0  16941.0\n",
       "mean       16000.0    480000.0           1.0              0.0     30.0\n",
       "std            0.0         0.0           0.0              0.0      0.0\n",
       "min        16000.0    480000.0           1.0              0.0     30.0\n",
       "25%        16000.0    480000.0           1.0              0.0     30.0\n",
       "50%        16000.0    480000.0           1.0              0.0     30.0\n",
       "75%        16000.0    480000.0           1.0              0.0     30.0\n",
       "max        16000.0    480000.0           1.0              0.0     30.0"
      ]
     },
     "execution_count": 12,
     "metadata": {},
     "output_type": "execute_result"
    }
   ],
   "source": [
    "audio_prep_md_df.describe()"
   ]
  },
  {
   "cell_type": "markdown",
   "id": "961d2278-9732-4873-b55c-ba3130e76e83",
   "metadata": {
    "tags": []
   },
   "source": [
    "# Datablock\n",
    "Confirm that we can create a data block."
   ]
  },
  {
   "cell_type": "code",
   "execution_count": 13,
   "id": "1829db3d-c76e-40a2-b6ea-8ef7365c8f3b",
   "metadata": {},
   "outputs": [
    {
     "ename": "NameError",
     "evalue": "name 'hypp' is not defined",
     "output_type": "error",
     "traceback": [
      "\u001b[0;31m---------------------------------------------------------------------------\u001b[0m",
      "\u001b[0;31mNameError\u001b[0m                                 Traceback (most recent call last)",
      "Cell \u001b[0;32mIn[13], line 1\u001b[0m\n\u001b[0;32m----> 1\u001b[0m cfg \u001b[38;5;241m=\u001b[39m AudioConfig\u001b[38;5;241m.\u001b[39mBasicMelSpectrogram(n_fft\u001b[38;5;241m=\u001b[39m\u001b[43mhypp\u001b[49m[\u001b[38;5;124m'\u001b[39m\u001b[38;5;124mn_fft\u001b[39m\u001b[38;5;124m'\u001b[39m])\n\u001b[1;32m      2\u001b[0m a2s \u001b[38;5;241m=\u001b[39m AudioToSpec\u001b[38;5;241m.\u001b[39mfrom_cfg(cfg)\n",
      "\u001b[0;31mNameError\u001b[0m: name 'hypp' is not defined"
     ]
    }
   ],
   "source": [
    "cfg = AudioConfig.BasicMelSpectrogram(n_fft=hypp['n_fft'])\n",
    "a2s = AudioToSpec.from_cfg(cfg)"
   ]
  },
  {
   "cell_type": "code",
   "execution_count": null,
   "id": "19a66b84-5800-42ce-ab68-e55b0d1a75c1",
   "metadata": {
    "tags": []
   },
   "outputs": [],
   "source": [
    "def _get_label(df, label_col):\n",
    "    return df[label_col]\n",
    "\n",
    "get_label = partial(_get_label, label_col='primary_label')"
   ]
  },
  {
   "cell_type": "code",
   "execution_count": null,
   "id": "7b42fc33-2bc9-4d6e-a0c2-e413746f9abb",
   "metadata": {},
   "outputs": [],
   "source": [
    "db = DataBlock(blocks=(AudioBlock, CategoryBlock),\n",
    "               get_x=ColReader('filename', pref=prep_path),\n",
    "               # get_y=parent_label,\n",
    "               get_y=get_label,\n",
    "               splitter=IndexSplitter(test_index),\n",
    "               batch_tfms = [a2s])"
   ]
  },
  {
   "cell_type": "code",
   "execution_count": null,
   "id": "1fdab31c-24d4-45c1-b681-a999315c1fff",
   "metadata": {
    "tags": []
   },
   "outputs": [],
   "source": [
    "db.summary(trn_df)"
   ]
  },
  {
   "cell_type": "code",
   "execution_count": null,
   "id": "9d820592-4cfd-4210-8e1f-d056f43ef926",
   "metadata": {
    "tags": []
   },
   "outputs": [],
   "source": [
    "dls = db.dataloaders(trn_df, bs=64)"
   ]
  },
  {
   "cell_type": "code",
   "execution_count": null,
   "id": "f9d89ef9-8b2b-4f7a-88c8-9165765e8ef8",
   "metadata": {
    "tags": []
   },
   "outputs": [],
   "source": [
    "dls.show_batch(max_n=20)"
   ]
  },
  {
   "cell_type": "code",
   "execution_count": null,
   "id": "2e419333-1868-476e-9f3b-dd0fbabe54c0",
   "metadata": {
    "tags": []
   },
   "outputs": [],
   "source": [
    "dls.show_batch()"
   ]
  },
  {
   "cell_type": "markdown",
   "id": "0cd9a79d-a15d-4e7b-948c-f129e6cc2d86",
   "metadata": {},
   "source": [
    "# Dataloaders\n"
   ]
  },
  {
   "cell_type": "markdown",
   "id": "6f0d86f6-23e3-4761-8d54-e95095a6506f",
   "metadata": {},
   "source": [
    "# References"
   ]
  },
  {
   "cell_type": "markdown",
   "id": "fce997be-26a4-4be1-bc15-e5bb5ab0558f",
   "metadata": {
    "tags": []
   },
   "source": [
    "[fastaudio]: Coultas Blum, Harry A, Lucas G. Scart, and Robert Bracco. 2020.\n",
    "“Fastaudio.” *GitHub*. <https://github.com/fastaudio/fastaudio>."
   ]
  },
  {
   "cell_type": "markdown",
   "id": "b2454637-1f68-4109-9879-fef8a4c49878",
   "metadata": {},
   "source": [
    "# Further Exploration\n",
    "\n",
    "* [TorchAudio](https://pytorch.org/audio/stable/feature_classifications.html)\n",
    "* Use more of fastkaggle https://fastai.github.io/fastkaggle/\n",
    "* FastAudio: https://colab.research.google.com/github/fastaudio/fastaudio/blob/master/docs/ESC50:%20Environmental%20Sound%20Classification.ipynb#scrollTo=6T8g4m4h3hNq\n",
    "\n",
    "* One challenge with the dataset here is we have training audio of varying length with lots of quiet periods between bird calls. When we divide up a training audio signal, some pieces will not have bird calls and we don't want to assign the label(s) of the entire file to each piece. We could try multiple instance learning to deal with this. \n",
    "\n",
    "* Training audio with multiple labels may further complicate training. Can we start with multiple instance learning using only the training sets with single labels and then use that model to divide our multiple instances into groups with different labels for further training?\n",
    "\n",
    "* Try TorchAudio pre-trained models as a backbone\n",
    "\n",
    "* One-hot-encode extras? https://stackoverflow.com/questions/45312377/how-to-one-hot-encode-from-a-pandas-column-containing-a-list"
   ]
  },
  {
   "cell_type": "code",
   "execution_count": null,
   "id": "40ad74c4-2758-4829-a19b-56b53faf5f96",
   "metadata": {},
   "outputs": [],
   "source": []
  }
 ],
 "metadata": {
  "kernelspec": {
   "display_name": "Python 3 (ipykernel)",
   "language": "python",
   "name": "python3"
  },
  "language_info": {
   "codemirror_mode": {
    "name": "ipython",
    "version": 3
   },
   "file_extension": ".py",
   "mimetype": "text/x-python",
   "name": "python",
   "nbconvert_exporter": "python",
   "pygments_lexer": "ipython3",
   "version": "3.9.16"
  }
 },
 "nbformat": 4,
 "nbformat_minor": 5
}
