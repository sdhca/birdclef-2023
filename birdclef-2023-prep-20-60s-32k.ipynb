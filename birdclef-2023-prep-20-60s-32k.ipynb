{
 "cells": [
  {
   "cell_type": "markdown",
   "id": "b71a1495-2a86-40df-aeed-acfc887ac737",
   "metadata": {},
   "source": [
    "# BirdCLEF 2023 - Audio Preprocessing\n",
    "The goal here is to apply the guidelines and approach presented in the [First Steps, Road to the Top](https://www.kaggle.com/code/jhoward/first-steps-road-to-the-top-part-1) series of notebooks. Following that series, we'll look to use FastAI/PyTorch to create an effective validation set and iterate rapidly!\n",
    "\n",
    "To overall plan is to start with transfer learning to train CNNs on spectrograms.\n",
    "\n",
    "This notebook focuses on one-time audio preprocessing that will take place prior to creation of data loaders.\n",
    "\n",
    "## Todo\n",
    "\n",
    " 1. [ ] Complete Part 1\n",
    " 2. [ ] Complete Part 2\n",
    " 3. [ ] Complete Part 3\n",
    " 4. [ ] Complete Part 4\n",
    " 5. [ ] Try fastaudio for audio preprocessing [fastaudio]\n",
    " 6. [ ] Try TorchAudio for audio preprocessing [torchaudio]\n",
    " 7. [ ] Experiment with secondary labels"
   ]
  },
  {
   "cell_type": "markdown",
   "id": "a41a34b3-d44d-4c72-a2cd-839eb426ec52",
   "metadata": {},
   "source": [
    "# Setup"
   ]
  },
  {
   "cell_type": "markdown",
   "id": "2244aaca-99f7-49eb-b99b-5d5f2dceb206",
   "metadata": {},
   "source": [
    "## Download competition data and install packages\n",
    "Prerequisites if running off of Kaggle:\n",
    "1. Create a python environment\n",
    "2. [Create `~/.kaggle/kaggle.json`](https://www.kaggle.com/docs/api)\n",
    "3. [Join the competition](https://www.kaggle.com/competitions/birdclef-2023)"
   ]
  },
  {
   "cell_type": "code",
   "execution_count": 1,
   "id": "0484b2d6-e9c0-47b6-91ad-b64b2e3c0dc3",
   "metadata": {
    "tags": []
   },
   "outputs": [
    {
     "data": {
      "text/plain": [
       "(#10) [Path('birdclef-2023/train_audio_prep-2'),Path('birdclef-2023/eBird_Taxonomy_v2021.csv'),Path('birdclef-2023/test_soundscapes'),Path('birdclef-2023/train_metadata.csv'),Path('birdclef-2023/train_audio_prep-2b'),Path('birdclef-2023/train_audio'),Path('birdclef-2023/sample_submission.csv'),Path('birdclef-2023/train_audio_prep'),Path('birdclef-2023/train_audio_prep-30s-32k'),Path('birdclef-2023/train_audio_prep-1')]"
      ]
     },
     "execution_count": 1,
     "metadata": {},
     "output_type": "execute_result"
    }
   ],
   "source": [
    "from fastkaggle import setup_comp\n",
    "\n",
    "debug_on = False\n",
    "\n",
    "comp  = 'birdclef-2023'\n",
    "comp_path = setup_comp(comp, install='fastai timm fastaudio')\n",
    "comp_path.ls()"
   ]
  },
  {
   "cell_type": "markdown",
   "id": "08275eb4-dab0-4722-8e4b-e1af08eecc48",
   "metadata": {
    "tags": []
   },
   "source": [
    "## Load packages"
   ]
  },
  {
   "cell_type": "code",
   "execution_count": 2,
   "id": "cf722958-14e1-4613-992e-5b703268d49a",
   "metadata": {
    "tags": []
   },
   "outputs": [
    {
     "name": "stderr",
     "output_type": "stream",
     "text": [
      "/home/sdhca/mambaforge/envs/fastai/lib/python3.9/site-packages/torchvision/io/image.py:13: UserWarning: Failed to load image Python extension: libtorch_cuda_cu.so: cannot open shared object file: No such file or directory\n",
      "  warn(f\"Failed to load image Python extension: {e}\")\n"
     ]
    },
    {
     "name": "stdout",
     "output_type": "stream",
     "text": [
      "2.0.0+cu117 2.0.1+cu117\n"
     ]
    }
   ],
   "source": [
    "from fastai.vision.all import *\n",
    "import pandas as pd\n",
    "import itertools\n",
    "import torch\n",
    "import torchaudio\n",
    "import IPython.display\n",
    "import mimetypes\n",
    "from tqdm.auto import tqdm\n",
    "\n",
    "from sklearn.model_selection import StratifiedKFold\n",
    "from fastaudio.core.all import *\n",
    "from fastaudio.augment.all import *\n",
    "\n",
    "print(torch.__version__, torchaudio.__version__)"
   ]
  },
  {
   "cell_type": "markdown",
   "id": "49184222-b5ad-4d2d-8c98-71d2927f6c2a",
   "metadata": {},
   "source": [
    "# Load Metadata"
   ]
  },
  {
   "cell_type": "code",
   "execution_count": 3,
   "id": "094f4d47-e334-41d1-8dd9-01b0f9ee8a6e",
   "metadata": {
    "tags": []
   },
   "outputs": [
    {
     "data": {
      "text/plain": [
       "(#264) [Path('birdclef-2023/train_audio/somgre1'),Path('birdclef-2023/train_audio/whcpri2'),Path('birdclef-2023/train_audio/egygoo'),Path('birdclef-2023/train_audio/woosan'),Path('birdclef-2023/train_audio/yebapa1'),Path('birdclef-2023/train_audio/hamerk1'),Path('birdclef-2023/train_audio/hartur1'),Path('birdclef-2023/train_audio/rebfir2'),Path('birdclef-2023/train_audio/strher'),Path('birdclef-2023/train_audio/wtbeat1')...]"
      ]
     },
     "execution_count": 3,
     "metadata": {},
     "output_type": "execute_result"
    }
   ],
   "source": [
    "trn_path = comp_path/'train_audio'\n",
    "trn_path.ls()"
   ]
  },
  {
   "cell_type": "markdown",
   "id": "8d6d5d3e-e8cc-4cbf-8b67-1474c994dc9b",
   "metadata": {},
   "source": [
    "## Provided Metadata"
   ]
  },
  {
   "cell_type": "code",
   "execution_count": 4,
   "id": "781f6030-9058-40ca-aa13-15b30103a63c",
   "metadata": {
    "tags": []
   },
   "outputs": [
    {
     "data": {
      "text/html": [
       "<div>\n",
       "<style scoped>\n",
       "    .dataframe tbody tr th:only-of-type {\n",
       "        vertical-align: middle;\n",
       "    }\n",
       "\n",
       "    .dataframe tbody tr th {\n",
       "        vertical-align: top;\n",
       "    }\n",
       "\n",
       "    .dataframe thead th {\n",
       "        text-align: right;\n",
       "    }\n",
       "</style>\n",
       "<table border=\"1\" class=\"dataframe\">\n",
       "  <thead>\n",
       "    <tr style=\"text-align: right;\">\n",
       "      <th></th>\n",
       "      <th>0</th>\n",
       "      <th>1</th>\n",
       "      <th>2</th>\n",
       "      <th>3</th>\n",
       "      <th>4</th>\n",
       "    </tr>\n",
       "  </thead>\n",
       "  <tbody>\n",
       "    <tr>\n",
       "      <th>primary_label</th>\n",
       "      <td>abethr1</td>\n",
       "      <td>abethr1</td>\n",
       "      <td>abethr1</td>\n",
       "      <td>abethr1</td>\n",
       "      <td>abethr1</td>\n",
       "    </tr>\n",
       "    <tr>\n",
       "      <th>secondary_labels</th>\n",
       "      <td>[]</td>\n",
       "      <td>[]</td>\n",
       "      <td>[]</td>\n",
       "      <td>[]</td>\n",
       "      <td>[]</td>\n",
       "    </tr>\n",
       "    <tr>\n",
       "      <th>type</th>\n",
       "      <td>['song']</td>\n",
       "      <td>['call']</td>\n",
       "      <td>['song']</td>\n",
       "      <td>['song']</td>\n",
       "      <td>['call',  'song']</td>\n",
       "    </tr>\n",
       "    <tr>\n",
       "      <th>latitude</th>\n",
       "      <td>4.3906</td>\n",
       "      <td>-2.9524</td>\n",
       "      <td>-2.9524</td>\n",
       "      <td>-2.9524</td>\n",
       "      <td>-2.9524</td>\n",
       "    </tr>\n",
       "    <tr>\n",
       "      <th>longitude</th>\n",
       "      <td>38.2788</td>\n",
       "      <td>38.2921</td>\n",
       "      <td>38.2921</td>\n",
       "      <td>38.2921</td>\n",
       "      <td>38.2921</td>\n",
       "    </tr>\n",
       "    <tr>\n",
       "      <th>scientific_name</th>\n",
       "      <td>Turdus tephronotus</td>\n",
       "      <td>Turdus tephronotus</td>\n",
       "      <td>Turdus tephronotus</td>\n",
       "      <td>Turdus tephronotus</td>\n",
       "      <td>Turdus tephronotus</td>\n",
       "    </tr>\n",
       "    <tr>\n",
       "      <th>common_name</th>\n",
       "      <td>African Bare-eyed Thrush</td>\n",
       "      <td>African Bare-eyed Thrush</td>\n",
       "      <td>African Bare-eyed Thrush</td>\n",
       "      <td>African Bare-eyed Thrush</td>\n",
       "      <td>African Bare-eyed Thrush</td>\n",
       "    </tr>\n",
       "    <tr>\n",
       "      <th>author</th>\n",
       "      <td>Rolf A. de By</td>\n",
       "      <td>James Bradley</td>\n",
       "      <td>James Bradley</td>\n",
       "      <td>James Bradley</td>\n",
       "      <td>James Bradley</td>\n",
       "    </tr>\n",
       "    <tr>\n",
       "      <th>license</th>\n",
       "      <td>Creative Commons Attribution-NonCommercial-ShareAlike 3.0</td>\n",
       "      <td>Creative Commons Attribution-NonCommercial-ShareAlike 4.0</td>\n",
       "      <td>Creative Commons Attribution-NonCommercial-ShareAlike 4.0</td>\n",
       "      <td>Creative Commons Attribution-NonCommercial-ShareAlike 4.0</td>\n",
       "      <td>Creative Commons Attribution-NonCommercial-ShareAlike 4.0</td>\n",
       "    </tr>\n",
       "    <tr>\n",
       "      <th>rating</th>\n",
       "      <td>4.0</td>\n",
       "      <td>3.5</td>\n",
       "      <td>3.5</td>\n",
       "      <td>5.0</td>\n",
       "      <td>4.5</td>\n",
       "    </tr>\n",
       "    <tr>\n",
       "      <th>url</th>\n",
       "      <td>https://www.xeno-canto.org/128013</td>\n",
       "      <td>https://www.xeno-canto.org/363501</td>\n",
       "      <td>https://www.xeno-canto.org/363502</td>\n",
       "      <td>https://www.xeno-canto.org/363503</td>\n",
       "      <td>https://www.xeno-canto.org/363504</td>\n",
       "    </tr>\n",
       "    <tr>\n",
       "      <th>filename</th>\n",
       "      <td>abethr1/XC128013.ogg</td>\n",
       "      <td>abethr1/XC363501.ogg</td>\n",
       "      <td>abethr1/XC363502.ogg</td>\n",
       "      <td>abethr1/XC363503.ogg</td>\n",
       "      <td>abethr1/XC363504.ogg</td>\n",
       "    </tr>\n",
       "  </tbody>\n",
       "</table>\n",
       "</div>"
      ],
      "text/plain": [
       "                                                                          0  \\\n",
       "primary_label                                                       abethr1   \n",
       "secondary_labels                                                         []   \n",
       "type                                                               ['song']   \n",
       "latitude                                                             4.3906   \n",
       "longitude                                                           38.2788   \n",
       "scientific_name                                          Turdus tephronotus   \n",
       "common_name                                        African Bare-eyed Thrush   \n",
       "author                                                        Rolf A. de By   \n",
       "license           Creative Commons Attribution-NonCommercial-ShareAlike 3.0   \n",
       "rating                                                                  4.0   \n",
       "url                                       https://www.xeno-canto.org/128013   \n",
       "filename                                               abethr1/XC128013.ogg   \n",
       "\n",
       "                                                                          1  \\\n",
       "primary_label                                                       abethr1   \n",
       "secondary_labels                                                         []   \n",
       "type                                                               ['call']   \n",
       "latitude                                                            -2.9524   \n",
       "longitude                                                           38.2921   \n",
       "scientific_name                                          Turdus tephronotus   \n",
       "common_name                                        African Bare-eyed Thrush   \n",
       "author                                                        James Bradley   \n",
       "license           Creative Commons Attribution-NonCommercial-ShareAlike 4.0   \n",
       "rating                                                                  3.5   \n",
       "url                                       https://www.xeno-canto.org/363501   \n",
       "filename                                               abethr1/XC363501.ogg   \n",
       "\n",
       "                                                                          2  \\\n",
       "primary_label                                                       abethr1   \n",
       "secondary_labels                                                         []   \n",
       "type                                                               ['song']   \n",
       "latitude                                                            -2.9524   \n",
       "longitude                                                           38.2921   \n",
       "scientific_name                                          Turdus tephronotus   \n",
       "common_name                                        African Bare-eyed Thrush   \n",
       "author                                                        James Bradley   \n",
       "license           Creative Commons Attribution-NonCommercial-ShareAlike 4.0   \n",
       "rating                                                                  3.5   \n",
       "url                                       https://www.xeno-canto.org/363502   \n",
       "filename                                               abethr1/XC363502.ogg   \n",
       "\n",
       "                                                                          3  \\\n",
       "primary_label                                                       abethr1   \n",
       "secondary_labels                                                         []   \n",
       "type                                                               ['song']   \n",
       "latitude                                                            -2.9524   \n",
       "longitude                                                           38.2921   \n",
       "scientific_name                                          Turdus tephronotus   \n",
       "common_name                                        African Bare-eyed Thrush   \n",
       "author                                                        James Bradley   \n",
       "license           Creative Commons Attribution-NonCommercial-ShareAlike 4.0   \n",
       "rating                                                                  5.0   \n",
       "url                                       https://www.xeno-canto.org/363503   \n",
       "filename                                               abethr1/XC363503.ogg   \n",
       "\n",
       "                                                                          4  \n",
       "primary_label                                                       abethr1  \n",
       "secondary_labels                                                         []  \n",
       "type                                                      ['call',  'song']  \n",
       "latitude                                                            -2.9524  \n",
       "longitude                                                           38.2921  \n",
       "scientific_name                                          Turdus tephronotus  \n",
       "common_name                                        African Bare-eyed Thrush  \n",
       "author                                                        James Bradley  \n",
       "license           Creative Commons Attribution-NonCommercial-ShareAlike 4.0  \n",
       "rating                                                                  4.5  \n",
       "url                                       https://www.xeno-canto.org/363504  \n",
       "filename                                               abethr1/XC363504.ogg  "
      ]
     },
     "execution_count": 4,
     "metadata": {},
     "output_type": "execute_result"
    }
   ],
   "source": [
    "trn_df = pd.read_csv(comp_path/'train_metadata.csv')\n",
    "lst_cols = ['secondary_labels', 'type']\n",
    "for col in lst_cols:\n",
    "    trn_df[col] = trn_df[col].apply(lambda x: x[1:-1].split(','))\n",
    "    \n",
    "trn_df.head().T"
   ]
  },
  {
   "cell_type": "markdown",
   "id": "8f37e2c1-7df9-42c4-9e08-a5246175dca1",
   "metadata": {},
   "source": [
    "## Audio Metadata"
   ]
  },
  {
   "cell_type": "code",
   "execution_count": 5,
   "id": "ac6a2485-3494-4a3a-9b5f-8635aa1821e7",
   "metadata": {
    "tags": []
   },
   "outputs": [
    {
     "data": {
      "text/html": [
       "<div>\n",
       "<style scoped>\n",
       "    .dataframe tbody tr th:only-of-type {\n",
       "        vertical-align: middle;\n",
       "    }\n",
       "\n",
       "    .dataframe tbody tr th {\n",
       "        vertical-align: top;\n",
       "    }\n",
       "\n",
       "    .dataframe thead th {\n",
       "        text-align: right;\n",
       "    }\n",
       "</style>\n",
       "<table border=\"1\" class=\"dataframe\">\n",
       "  <thead>\n",
       "    <tr style=\"text-align: right;\">\n",
       "      <th></th>\n",
       "      <th>0</th>\n",
       "      <th>1</th>\n",
       "      <th>2</th>\n",
       "      <th>3</th>\n",
       "      <th>4</th>\n",
       "    </tr>\n",
       "  </thead>\n",
       "  <tbody>\n",
       "    <tr>\n",
       "      <th>filename</th>\n",
       "      <td>abethr1/XC128013.ogg</td>\n",
       "      <td>abethr1/XC363501.ogg</td>\n",
       "      <td>abethr1/XC363502.ogg</td>\n",
       "      <td>abethr1/XC363503.ogg</td>\n",
       "      <td>abethr1/XC363504.ogg</td>\n",
       "    </tr>\n",
       "    <tr>\n",
       "      <th>sample_rate</th>\n",
       "      <td>32000</td>\n",
       "      <td>32000</td>\n",
       "      <td>32000</td>\n",
       "      <td>32000</td>\n",
       "      <td>32000</td>\n",
       "    </tr>\n",
       "    <tr>\n",
       "      <th>num_frames</th>\n",
       "      <td>1459513</td>\n",
       "      <td>597682</td>\n",
       "      <td>1240503</td>\n",
       "      <td>936229</td>\n",
       "      <td>1355024</td>\n",
       "    </tr>\n",
       "    <tr>\n",
       "      <th>num_channels</th>\n",
       "      <td>1</td>\n",
       "      <td>1</td>\n",
       "      <td>1</td>\n",
       "      <td>1</td>\n",
       "      <td>1</td>\n",
       "    </tr>\n",
       "    <tr>\n",
       "      <th>bits_per_sample</th>\n",
       "      <td>0</td>\n",
       "      <td>0</td>\n",
       "      <td>0</td>\n",
       "      <td>0</td>\n",
       "      <td>0</td>\n",
       "    </tr>\n",
       "    <tr>\n",
       "      <th>encoding</th>\n",
       "      <td>VORBIS</td>\n",
       "      <td>VORBIS</td>\n",
       "      <td>VORBIS</td>\n",
       "      <td>VORBIS</td>\n",
       "      <td>VORBIS</td>\n",
       "    </tr>\n",
       "    <tr>\n",
       "      <th>seconds</th>\n",
       "      <td>45.609781</td>\n",
       "      <td>18.677563</td>\n",
       "      <td>38.765719</td>\n",
       "      <td>29.257156</td>\n",
       "      <td>42.3445</td>\n",
       "    </tr>\n",
       "  </tbody>\n",
       "</table>\n",
       "</div>"
      ],
      "text/plain": [
       "                                    0                     1  \\\n",
       "filename         abethr1/XC128013.ogg  abethr1/XC363501.ogg   \n",
       "sample_rate                     32000                 32000   \n",
       "num_frames                    1459513                597682   \n",
       "num_channels                        1                     1   \n",
       "bits_per_sample                     0                     0   \n",
       "encoding                       VORBIS                VORBIS   \n",
       "seconds                     45.609781             18.677563   \n",
       "\n",
       "                                    2                     3  \\\n",
       "filename         abethr1/XC363502.ogg  abethr1/XC363503.ogg   \n",
       "sample_rate                     32000                 32000   \n",
       "num_frames                    1240503                936229   \n",
       "num_channels                        1                     1   \n",
       "bits_per_sample                     0                     0   \n",
       "encoding                       VORBIS                VORBIS   \n",
       "seconds                     38.765719             29.257156   \n",
       "\n",
       "                                    4  \n",
       "filename         abethr1/XC363504.ogg  \n",
       "sample_rate                     32000  \n",
       "num_frames                    1355024  \n",
       "num_channels                        1  \n",
       "bits_per_sample                     0  \n",
       "encoding                       VORBIS  \n",
       "seconds                       42.3445  "
      ]
     },
     "execution_count": 5,
     "metadata": {},
     "output_type": "execute_result"
    }
   ],
   "source": [
    "audio_metadata_df = pd.read_csv('audio_metadata.csv')\n",
    "audio_metadata_df.head().T"
   ]
  },
  {
   "cell_type": "markdown",
   "id": "25a67bb4-2e3e-4ec4-9a87-e1ab94d5e3f1",
   "metadata": {
    "tags": []
   },
   "source": [
    "# Audio Preprocessing\n",
    "\n",
    "Here, we will preprocess audio and save new files. Some things to do:\n",
    "1. Remove silence\n",
    "2. Reduce sampling rate\n",
    "3. Resize"
   ]
  },
  {
   "cell_type": "code",
   "execution_count": 6,
   "id": "ff7f6615-ec06-4620-a200-7692e57fd14e",
   "metadata": {
    "tags": []
   },
   "outputs": [],
   "source": [
    "prep_path = comp_path/'train_audio_prep-20-60s-32k'\n",
    "prep_path.mkdir(exist_ok=True)"
   ]
  },
  {
   "cell_type": "markdown",
   "id": "e96872e4-480d-4b95-b1ff-1a4c6b055332",
   "metadata": {},
   "source": [
    "## Create Augmentation Pipeline"
   ]
  },
  {
   "cell_type": "code",
   "execution_count": 7,
   "id": "f92b07f9-2ec5-4b99-8a52-ac108c9db9d0",
   "metadata": {
    "tags": []
   },
   "outputs": [],
   "source": [
    "resample = Resample(sr_new=32000)\n",
    "rmsilence = RemoveSilence(remove_type=RemoveType.All, threshold=30)\n",
    "resize1 = ResizeSignal(duration=60e3, pad_mode=AudioPadType.NoPadding)\n",
    "limit_size = LimitSignalSize(min_duration=20e3, max_duration=60e3, pad_mode=AudioPadType.Repeat)\n",
    "pipe = Pipeline([resample, rmsilence, limit_size])"
   ]
  },
  {
   "cell_type": "markdown",
   "id": "20c83204-390b-4cf3-aa04-f730985a4ba9",
   "metadata": {},
   "source": [
    "## Preprocess"
   ]
  },
  {
   "cell_type": "code",
   "execution_count": 8,
   "id": "fdf0655d-8305-4a21-b324-2435e2a85762",
   "metadata": {
    "tags": []
   },
   "outputs": [
    {
     "data": {
      "application/vnd.jupyter.widget-view+json": {
       "model_id": "da7f20e01aa043d7ab2f7a514b6392ca",
       "version_major": 2,
       "version_minor": 0
      },
      "text/plain": [
       "  0%|          | 0/16941 [00:00<?, ?it/s]"
      ]
     },
     "metadata": {},
     "output_type": "display_data"
    },
    {
     "data": {
      "text/plain": [
       "Path('birdclef-2023/train_audio_prep-20-60s-32k')"
      ]
     },
     "execution_count": 8,
     "metadata": {},
     "output_type": "execute_result"
    }
   ],
   "source": [
    "max_files = 100 if debug_on else None\n",
    "preprocess_audio_folder(trn_path, output_dir=prep_path, max_files=max_files, pipeline=pipe)"
   ]
  },
  {
   "cell_type": "markdown",
   "id": "3a2971bc-ef1d-46b0-88ed-e935165be888",
   "metadata": {},
   "source": [
    "### Check Audio Lengths"
   ]
  },
  {
   "cell_type": "code",
   "execution_count": 9,
   "id": "4db89adb-fbed-4c5c-a643-98e6110cb222",
   "metadata": {
    "tags": []
   },
   "outputs": [
    {
     "data": {
      "application/vnd.jupyter.widget-view+json": {
       "model_id": "ccd9030be6844337b58deb93e2e7b304",
       "version_major": 2,
       "version_minor": 0
      },
      "text/plain": [
       "Extracting audio metadata:   0%|          | 0/16941 [00:00<?, ?it/s]"
      ]
     },
     "metadata": {},
     "output_type": "display_data"
    }
   ],
   "source": [
    "audio_source = get_files(prep_path, '.ogg') if debug_on else trn_df.filename\n",
    "parent = Path('.') if debug_on else prep_path\n",
    "\n",
    "audio_prep_md_df = get_audio_files_metadata(audio_source, parent=parent)\n",
    "# audio_prep_md_df = get_audio_files_metadata(audio_source)"
   ]
  },
  {
   "cell_type": "code",
   "execution_count": 10,
   "id": "d606bcbd-d25c-43b4-9989-539f046465c1",
   "metadata": {
    "tags": []
   },
   "outputs": [
    {
     "data": {
      "image/png": "[encoded data removed]",
      "text/plain": [
       "<Figure size 640x480 with 1 Axes>"
      ]
     },
     "metadata": {},
     "output_type": "display_data"
    }
   ],
   "source": [
    "_ = audio_prep_md_df.seconds.plot.hist(logy=True, bins=100)"
   ]
  },
  {
   "cell_type": "code",
   "execution_count": 11,
   "id": "fd57860c-1378-4cc3-9363-501e2deaae56",
   "metadata": {
    "tags": []
   },
   "outputs": [
    {
     "data": {
      "text/html": [
       "<div>\n",
       "<style scoped>\n",
       "    .dataframe tbody tr th:only-of-type {\n",
       "        vertical-align: middle;\n",
       "    }\n",
       "\n",
       "    .dataframe tbody tr th {\n",
       "        vertical-align: top;\n",
       "    }\n",
       "\n",
       "    .dataframe thead th {\n",
       "        text-align: right;\n",
       "    }\n",
       "</style>\n",
       "<table border=\"1\" class=\"dataframe\">\n",
       "  <thead>\n",
       "    <tr style=\"text-align: right;\">\n",
       "      <th></th>\n",
       "      <th>sample_rate</th>\n",
       "      <th>num_frames</th>\n",
       "      <th>num_channels</th>\n",
       "      <th>bits_per_sample</th>\n",
       "      <th>seconds</th>\n",
       "    </tr>\n",
       "  </thead>\n",
       "  <tbody>\n",
       "    <tr>\n",
       "      <th>count</th>\n",
       "      <td>16941.0</td>\n",
       "      <td>1.694100e+04</td>\n",
       "      <td>16941.0</td>\n",
       "      <td>16941.0</td>\n",
       "      <td>16941.000000</td>\n",
       "    </tr>\n",
       "    <tr>\n",
       "      <th>mean</th>\n",
       "      <td>32000.0</td>\n",
       "      <td>9.593111e+05</td>\n",
       "      <td>1.0</td>\n",
       "      <td>0.0</td>\n",
       "      <td>29.978472</td>\n",
       "    </tr>\n",
       "    <tr>\n",
       "      <th>std</th>\n",
       "      <td>0.0</td>\n",
       "      <td>4.621564e+05</td>\n",
       "      <td>0.0</td>\n",
       "      <td>0.0</td>\n",
       "      <td>14.442386</td>\n",
       "    </tr>\n",
       "    <tr>\n",
       "      <th>min</th>\n",
       "      <td>32000.0</td>\n",
       "      <td>6.400000e+05</td>\n",
       "      <td>1.0</td>\n",
       "      <td>0.0</td>\n",
       "      <td>20.000000</td>\n",
       "    </tr>\n",
       "    <tr>\n",
       "      <th>25%</th>\n",
       "      <td>32000.0</td>\n",
       "      <td>6.400000e+05</td>\n",
       "      <td>1.0</td>\n",
       "      <td>0.0</td>\n",
       "      <td>20.000000</td>\n",
       "    </tr>\n",
       "    <tr>\n",
       "      <th>50%</th>\n",
       "      <td>32000.0</td>\n",
       "      <td>6.400000e+05</td>\n",
       "      <td>1.0</td>\n",
       "      <td>0.0</td>\n",
       "      <td>20.000000</td>\n",
       "    </tr>\n",
       "    <tr>\n",
       "      <th>75%</th>\n",
       "      <td>32000.0</td>\n",
       "      <td>1.171200e+06</td>\n",
       "      <td>1.0</td>\n",
       "      <td>0.0</td>\n",
       "      <td>36.600000</td>\n",
       "    </tr>\n",
       "    <tr>\n",
       "      <th>max</th>\n",
       "      <td>32000.0</td>\n",
       "      <td>1.920000e+06</td>\n",
       "      <td>1.0</td>\n",
       "      <td>0.0</td>\n",
       "      <td>60.000000</td>\n",
       "    </tr>\n",
       "  </tbody>\n",
       "</table>\n",
       "</div>"
      ],
      "text/plain": [
       "       sample_rate    num_frames  num_channels  bits_per_sample       seconds\n",
       "count      16941.0  1.694100e+04       16941.0          16941.0  16941.000000\n",
       "mean       32000.0  9.593111e+05           1.0              0.0     29.978472\n",
       "std            0.0  4.621564e+05           0.0              0.0     14.442386\n",
       "min        32000.0  6.400000e+05           1.0              0.0     20.000000\n",
       "25%        32000.0  6.400000e+05           1.0              0.0     20.000000\n",
       "50%        32000.0  6.400000e+05           1.0              0.0     20.000000\n",
       "75%        32000.0  1.171200e+06           1.0              0.0     36.600000\n",
       "max        32000.0  1.920000e+06           1.0              0.0     60.000000"
      ]
     },
     "execution_count": 11,
     "metadata": {},
     "output_type": "execute_result"
    }
   ],
   "source": [
    "audio_prep_md_df.describe()"
   ]
  },
  {
   "cell_type": "markdown",
   "id": "6f0d86f6-23e3-4761-8d54-e95095a6506f",
   "metadata": {},
   "source": [
    "# References"
   ]
  },
  {
   "cell_type": "markdown",
   "id": "fce997be-26a4-4be1-bc15-e5bb5ab0558f",
   "metadata": {
    "tags": []
   },
   "source": [
    "[fastaudio]: Coultas Blum, Harry A, Lucas G. Scart, and Robert Bracco. 2020.\n",
    "“Fastaudio.” *GitHub*. <https://github.com/fastaudio/fastaudio>."
   ]
  },
  {
   "cell_type": "markdown",
   "id": "b2454637-1f68-4109-9879-fef8a4c49878",
   "metadata": {},
   "source": [
    "# Further Exploration\n",
    "\n",
    "* [TorchAudio](https://pytorch.org/audio/stable/feature_classifications.html)\n",
    "* Use more of fastkaggle https://fastai.github.io/fastkaggle/\n",
    "* FastAudio: https://colab.research.google.com/github/fastaudio/fastaudio/blob/master/docs/ESC50:%20Environmental%20Sound%20Classification.ipynb#scrollTo=6T8g4m4h3hNq\n",
    "\n",
    "* One challenge with the dataset here is we have training audio of varying length with lots of quiet periods between bird calls. When we divide up a training audio signal, some pieces will not have bird calls and we don't want to assign the label(s) of the entire file to each piece. We could try multiple instance learning to deal with this. \n",
    "\n",
    "* Training audio with multiple labels may further complicate training. Can we start with multiple instance learning using only the training sets with single labels and then use that model to divide our multiple instances into groups with different labels for further training?\n",
    "\n",
    "* Try TorchAudio pre-trained models as a backbone\n",
    "\n",
    "* One-hot-encode extras? https://stackoverflow.com/questions/45312377/how-to-one-hot-encode-from-a-pandas-column-containing-a-list"
   ]
  },
  {
   "cell_type": "code",
   "execution_count": null,
   "id": "40ad74c4-2758-4829-a19b-56b53faf5f96",
   "metadata": {},
   "outputs": [],
   "source": []
  }
 ],
 "metadata": {
  "kernelspec": {
   "display_name": "Python 3 (ipykernel)",
   "language": "python",
   "name": "python3"
  },
  "language_info": {
   "codemirror_mode": {
    "name": "ipython",
    "version": 3
   },
   "file_extension": ".py",
   "mimetype": "text/x-python",
   "name": "python",
   "nbconvert_exporter": "python",
   "pygments_lexer": "ipython3",
   "version": "3.9.16"
  }
 },
 "nbformat": 4,
 "nbformat_minor": 5
}
