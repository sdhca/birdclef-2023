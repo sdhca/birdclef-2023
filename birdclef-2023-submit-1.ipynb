{
 "cells": [
  {
   "cell_type": "markdown",
   "id": "11a751c0",
   "metadata": {
    "papermill": {
     "duration": 0.013264,
     "end_time": "2023-05-12T12:43:39.060134",
     "exception": false,
     "start_time": "2023-05-12T12:43:39.046870",
     "status": "completed"
    },
    "tags": []
   },
   "source": [
    "In this notebook, we'll use a pre-trained machine learning model to generate a submission to the [BirdClef2023 competition](https://www.kaggle.com/c/birdclef-2023).  The goal of the competition is to identify Eastern African bird species by sound."
   ]
  },
  {
   "cell_type": "markdown",
   "id": "54abb4cc",
   "metadata": {
    "papermill": {
     "duration": 0.011929,
     "end_time": "2023-05-12T12:43:39.084434",
     "exception": false,
     "start_time": "2023-05-12T12:43:39.072505",
     "status": "completed"
    },
    "tags": []
   },
   "source": [
    "# Step 1: Setup\n",
    "The convnext model was too slow, so I've gone back to the resnet model (offline models pinned to version 3)"
   ]
  },
  {
   "cell_type": "code",
   "execution_count": 1,
   "id": "2eecaa8d",
   "metadata": {
    "execution": {
     "iopub.execute_input": "2023-05-12T12:43:39.111165Z",
     "iopub.status.busy": "2023-05-12T12:43:39.110491Z",
     "iopub.status.idle": "2023-05-12T12:43:40.203814Z",
     "shell.execute_reply": "2023-05-12T12:43:40.202361Z"
    },
    "papermill": {
     "duration": 1.110234,
     "end_time": "2023-05-12T12:43:40.206864",
     "exception": false,
     "start_time": "2023-05-12T12:43:39.096630",
     "status": "completed"
    },
    "tags": []
   },
   "outputs": [
    {
     "name": "stdout",
     "output_type": "stream",
     "text": [
      "birdclef-2023  birdclef-2023-offline-models  birdclef-2023-offline-packages\r\n"
     ]
    }
   ],
   "source": [
    "!ls /kaggle/input"
   ]
  },
  {
   "cell_type": "markdown",
   "id": "76d3cc7a",
   "metadata": {
    "papermill": {
     "duration": 0.012075,
     "end_time": "2023-05-12T12:43:40.231455",
     "exception": false,
     "start_time": "2023-05-12T12:43:40.219380",
     "status": "completed"
    },
    "tags": []
   },
   "source": [
    "## Config"
   ]
  },
  {
   "cell_type": "code",
   "execution_count": 2,
   "id": "ea944bbf",
   "metadata": {
    "execution": {
     "iopub.execute_input": "2023-05-12T12:43:40.259000Z",
     "iopub.status.busy": "2023-05-12T12:43:40.257745Z",
     "iopub.status.idle": "2023-05-12T12:43:40.266902Z",
     "shell.execute_reply": "2023-05-12T12:43:40.265689Z"
    },
    "papermill": {
     "duration": 0.025893,
     "end_time": "2023-05-12T12:43:40.269710",
     "exception": false,
     "start_time": "2023-05-12T12:43:40.243817",
     "status": "completed"
    },
    "tags": []
   },
   "outputs": [],
   "source": [
    "from pathlib import Path\n",
    "\n",
    "debug_on = False\n",
    "remove_tfms = False\n",
    "model_path = Path('/kaggle/input/birdclef-2023-offline-models')\n",
    "model_fname = 'birdclef-2023-eca_nfnet_l0-20230511-231507.pkl'\n",
    "package_path = Path('/kaggle/input/birdclef-2023-offline-packages')\n",
    "\n",
    "required_test_audio_sample_rate_hz = 32000\n",
    "\n",
    "input_path = Path('/kaggle/input/birdclef-2023')\n",
    "working_path = Path('/kaggle/working')\n",
    "temp_path = Path('/kaggle/temp')\n",
    "temp_path.mkdir(parents=True, exist_ok=True)\n",
    "sub_dir = 'test_soundscapes'"
   ]
  },
  {
   "cell_type": "markdown",
   "id": "2098903d",
   "metadata": {
    "papermill": {
     "duration": 0.012011,
     "end_time": "2023-05-12T12:43:40.294231",
     "exception": false,
     "start_time": "2023-05-12T12:43:40.282220",
     "status": "completed"
    },
    "tags": []
   },
   "source": [
    "## Installs & Imports\n",
    "\n",
    "`fastaudio` should be installed last because other wheel file change dependency versions relative to what comes pre-installed."
   ]
  },
  {
   "cell_type": "code",
   "execution_count": 3,
   "id": "10c8c3d1",
   "metadata": {
    "execution": {
     "iopub.execute_input": "2023-05-12T12:43:40.321805Z",
     "iopub.status.busy": "2023-05-12T12:43:40.321061Z",
     "iopub.status.idle": "2023-05-12T12:43:49.285499Z",
     "shell.execute_reply": "2023-05-12T12:43:49.283861Z"
    },
    "papermill": {
     "duration": 8.982383,
     "end_time": "2023-05-12T12:43:49.289031",
     "exception": false,
     "start_time": "2023-05-12T12:43:40.306648",
     "status": "completed"
    },
    "tags": []
   },
   "outputs": [
    {
     "name": "stdout",
     "output_type": "stream",
     "text": [
      "Installing:\r\n",
      "colorednoise-2.1.0-py3-none-any.whl\r\n",
      "fastaudio-1.0.2.post0.dev9gb80fa16.dirty-py2.py3-none-any.whl\r\n",
      "resampy-0.4.2-py3-none-any.whl\r\n",
      "soundfile-0.12.1-py2.py3-none-manylinux_2_31_x86_64.whl\r\n",
      "--------------------------------------------------------------------------------\r\n",
      "Processing ./colorednoise-2.1.0-py3-none-any.whl\r\n",
      "Processing ./resampy-0.4.2-py3-none-any.whl\r\n",
      "Installing collected packages: resampy, colorednoise\r\n",
      "Successfully installed colorednoise-2.1.0 resampy-0.4.2\r\n",
      "\u001b[33mWARNING: Running pip as the 'root' user can result in broken permissions and conflicting behaviour with the system package manager. It is recommended to use a virtual environment instead: https://pip.pypa.io/warnings/venv\u001b[0m\u001b[33m\r\n",
      "\u001b[0mProcessing ./fastaudio-1.0.2.post0.dev9gb80fa16.dirty-py2.py3-none-any.whl\r\n",
      "Installing collected packages: fastaudio\r\n",
      "Successfully installed fastaudio-1.0.2.post0.dev9+gb80fa16.dirty\r\n",
      "\u001b[33mWARNING: Running pip as the 'root' user can result in broken permissions and conflicting behaviour with the system package manager. It is recommended to use a virtual environment instead: https://pip.pypa.io/warnings/venv\u001b[0m\u001b[33m\r\n",
      "\u001b[0m"
     ]
    }
   ],
   "source": [
    "# !cd {package_path}; pip install *.whl --dry-run\n",
    "!echo \"Installing:\"\n",
    "!cd {package_path}; ls *.whl;\n",
    "!echo \"--------------------------------------------------------------------------------\"\n",
    "!cd {package_path}; pip install --no-index --no-deps `ls *.whl | egrep -v 'fastaudio|soundfile'`\n",
    "!cd {package_path}; pip install --no-index --no-deps fastaudio*.whl"
   ]
  },
  {
   "cell_type": "code",
   "execution_count": 4,
   "id": "a654c8f7",
   "metadata": {
    "_cell_guid": "b1076dfc-b9ad-4769-8c92-a6c4dae69d19",
    "_uuid": "8f2839f25d086af736a60e9eeb907d3b93b6e0e5",
    "execution": {
     "iopub.execute_input": "2023-05-12T12:43:49.324344Z",
     "iopub.status.busy": "2023-05-12T12:43:49.323774Z",
     "iopub.status.idle": "2023-05-12T12:43:57.365809Z",
     "shell.execute_reply": "2023-05-12T12:43:57.364005Z"
    },
    "papermill": {
     "duration": 8.060455,
     "end_time": "2023-05-12T12:43:57.368567",
     "exception": false,
     "start_time": "2023-05-12T12:43:49.308112",
     "status": "completed"
    },
    "tags": []
   },
   "outputs": [
    {
     "name": "stdout",
     "output_type": "stream",
     "text": [
      "fastai: 2.7.11\n",
      "torchaudio: 0.13.0+cpu\n",
      "fastaudio: 1.0.3\n"
     ]
    }
   ],
   "source": [
    "# import tensorflow as tf\n",
    "# import tensorflow_hub as hub\n",
    "# import tensorflow_io as tfio\n",
    "\n",
    "import pandas as pd\n",
    "import numpy as np\n",
    "# import soundfile\n",
    "# print(f'soundfile: {soundfile.__version__}')\n",
    "# import librosa\n",
    "# print(f'librosa: {librosa.__version__}')\n",
    "import glob\n",
    "\n",
    "import fastai\n",
    "from fastai.vision.all import load_learner\n",
    "print(f'fastai: {fastai.__version__}')\n",
    "import torchaudio\n",
    "print(f'torchaudio: {torchaudio.__version__}')\n",
    "\n",
    "import fastaudio\n",
    "from fastaudio.core.all import *\n",
    "from fastaudio.augment.all import *\n",
    "print(f'fastaudio: {fastaudio.__version__}')\n",
    "# import csv\n",
    "# import io\n",
    "\n",
    "from collections import OrderedDict\n",
    "from IPython.display import Audio"
   ]
  },
  {
   "cell_type": "markdown",
   "id": "7050b38d",
   "metadata": {
    "papermill": {
     "duration": 0.012953,
     "end_time": "2023-05-12T12:43:57.395108",
     "exception": false,
     "start_time": "2023-05-12T12:43:57.382155",
     "status": "completed"
    },
    "tags": []
   },
   "source": [
    "# Step 2: Preprocessing functions"
   ]
  },
  {
   "cell_type": "code",
   "execution_count": 5,
   "id": "a9a2b188",
   "metadata": {
    "execution": {
     "iopub.execute_input": "2023-05-12T12:43:57.424190Z",
     "iopub.status.busy": "2023-05-12T12:43:57.423741Z",
     "iopub.status.idle": "2023-05-12T12:43:57.432704Z",
     "shell.execute_reply": "2023-05-12T12:43:57.431464Z"
    },
    "papermill": {
     "duration": 0.026743,
     "end_time": "2023-05-12T12:43:57.435127",
     "exception": false,
     "start_time": "2023-05-12T12:43:57.408384",
     "status": "completed"
    },
    "tags": []
   },
   "outputs": [],
   "source": [
    "# https://discuss.pytorch.org/t/pytorch-equivalent-to-tf-signal-frame/123239\n",
    "def torch_frame(signal, frame_length, frame_step, pad_end=False, pad_value=0, axis=-1):\n",
    "    \"\"\"\n",
    "    equivalent of tf.signal.frame\n",
    "    \"\"\"\n",
    "    signal_length = signal.shape[axis]\n",
    "    if pad_end:\n",
    "        frames_overlap = frame_length - frame_step\n",
    "        rest_samples = np.abs(signal_length - frames_overlap) % np.abs(frame_length - frames_overlap)\n",
    "        pad_size = int(frame_length - rest_samples)\n",
    "        if pad_size != 0:\n",
    "            pad_axis = [0] * signal.ndim\n",
    "            pad_axis[axis] = pad_size\n",
    "            signal = F.pad(signal, pad_axis, \"constant\", pad_value)\n",
    "    frames=signal.unfold(axis, frame_length, frame_step)\n",
    "    return frames"
   ]
  },
  {
   "cell_type": "code",
   "execution_count": 6,
   "id": "a776dfff",
   "metadata": {
    "execution": {
     "iopub.execute_input": "2023-05-12T12:43:57.464117Z",
     "iopub.status.busy": "2023-05-12T12:43:57.463424Z",
     "iopub.status.idle": "2023-05-12T12:43:57.473460Z",
     "shell.execute_reply": "2023-05-12T12:43:57.472244Z"
    },
    "papermill": {
     "duration": 0.027828,
     "end_time": "2023-05-12T12:43:57.476345",
     "exception": false,
     "start_time": "2023-05-12T12:43:57.448517",
     "status": "completed"
    },
    "tags": []
   },
   "outputs": [],
   "source": [
    "def frame_audio(\n",
    "      audio_array: np.ndarray,\n",
    "      window_size_s: float = 5.0,\n",
    "      hop_size_s: float = 5.0,\n",
    "      sample_rate = 32000,\n",
    "      repeat: int = None\n",
    "      ) -> np.ndarray:\n",
    "    \n",
    "    \"\"\"Helper function for framing audio for inference.\"\"\"\n",
    "    \"\"\" using tf.signal \"\"\"\n",
    "    if window_size_s is None or window_size_s < 0:\n",
    "        return audio_array[np.newaxis, :]\n",
    "    frame_length = int(window_size_s * sample_rate)\n",
    "    hop_length = int(hop_size_s * sample_rate)\n",
    "    framed_audio = torch_frame(audio_array, frame_length, hop_length, pad_end=True)\n",
    "    framed_audio = torch.squeeze(framed_audio, 0)\n",
    "    if repeat:\n",
    "        framed_audio = framed_audio.repeat(1, repeat)\n",
    "    return framed_audio\n",
    "\n",
    "def ensure_sample_rate(waveform, original_sample_rate,\n",
    "                       desired_sample_rate=32000):\n",
    "    \"\"\"Resample waveform if required.\"\"\"\n",
    "    if original_sample_rate != desired_sample_rate:\n",
    "        waveform = torchaudio.functional.resample(waveform, original_sample_rate, desired_sample_rate)\n",
    "    return waveform, desired_sample_rate"
   ]
  },
  {
   "cell_type": "markdown",
   "id": "54d7eae3",
   "metadata": {
    "papermill": {
     "duration": 0.012645,
     "end_time": "2023-05-12T12:43:57.502916",
     "exception": false,
     "start_time": "2023-05-12T12:43:57.490271",
     "status": "completed"
    },
    "tags": []
   },
   "source": [
    "Below we load one training sample - use the Audio function to listen to the samples inside the notebook!"
   ]
  },
  {
   "cell_type": "code",
   "execution_count": 7,
   "id": "3a70fbec",
   "metadata": {
    "execution": {
     "iopub.execute_input": "2023-05-12T12:43:57.532172Z",
     "iopub.status.busy": "2023-05-12T12:43:57.531074Z",
     "iopub.status.idle": "2023-05-12T12:43:57.537213Z",
     "shell.execute_reply": "2023-05-12T12:43:57.536326Z"
    },
    "papermill": {
     "duration": 0.023153,
     "end_time": "2023-05-12T12:43:57.539529",
     "exception": false,
     "start_time": "2023-05-12T12:43:57.516376",
     "status": "completed"
    },
    "tags": []
   },
   "outputs": [],
   "source": [
    "if debug_on:\n",
    "    # Test example\n",
    "    audio, sample_rate = torchaudio.load(input_path/'train_audio/barswa/XC113914.ogg')\n",
    "    print(sample_rate)\n",
    "    audio, sample_rate = ensure_sample_rate(audio, sample_rate, required_test_audio_sample_rate_hz)\n",
    "    print(sample_rate)\n",
    "    Audio(audio, rate=sample_rate)"
   ]
  },
  {
   "cell_type": "markdown",
   "id": "2f8bf582",
   "metadata": {
    "execution": {
     "iopub.execute_input": "2023-04-18T01:56:55.176439Z",
     "iopub.status.busy": "2023-04-18T01:56:55.176021Z",
     "iopub.status.idle": "2023-04-18T01:56:55.189054Z",
     "shell.execute_reply": "2023-04-18T01:56:55.187430Z",
     "shell.execute_reply.started": "2023-04-18T01:56:55.176401Z"
    },
    "papermill": {
     "duration": 0.012785,
     "end_time": "2023-05-12T12:43:57.565575",
     "exception": false,
     "start_time": "2023-05-12T12:43:57.552790",
     "status": "completed"
    },
    "tags": []
   },
   "source": [
    "if debug_on:\n",
    "    print(audio.shape)\n",
    "    test_framed = frame_audio(audio, sample_rate=sample_rate, repeat=2)\n",
    "    print(test_framed.shape)\n",
    "    print(test_framed.__class__)"
   ]
  },
  {
   "cell_type": "markdown",
   "id": "bc44803d",
   "metadata": {
    "papermill": {
     "duration": 0.01278,
     "end_time": "2023-05-12T12:43:57.591538",
     "exception": false,
     "start_time": "2023-05-12T12:43:57.578758",
     "status": "completed"
    },
    "tags": []
   },
   "source": [
    "# Step 3: Prediction functions\n",
    "Each test sample is cut into 5-second chunks. We use the pretrained model to return probabilities for all 10k birds included in the model, then pull out the classes used in this competition to create a final submission row. Note that we are NOT doing anything special to handle the 3 missing classes; those will need fine-tuning / transfer learning, which will be handled in a separate notebook."
   ]
  },
  {
   "cell_type": "code",
   "execution_count": 8,
   "id": "42686297",
   "metadata": {
    "execution": {
     "iopub.execute_input": "2023-05-12T12:43:57.620346Z",
     "iopub.status.busy": "2023-05-12T12:43:57.619207Z",
     "iopub.status.idle": "2023-05-12T12:43:57.635109Z",
     "shell.execute_reply": "2023-05-12T12:43:57.634099Z"
    },
    "papermill": {
     "duration": 0.033248,
     "end_time": "2023-05-12T12:43:57.637895",
     "exception": false,
     "start_time": "2023-05-12T12:43:57.604647",
     "status": "completed"
    },
    "tags": []
   },
   "outputs": [],
   "source": [
    "def cmAP(preds, labels, num_classes=264):\n",
    "    probs = F.one_hot(torch.argmax(preds, dim=1), num_classes=num_classes).cpu().numpy()\n",
    "    labels_oh = F.one_hot(labels, num_classes=num_classes).cpu().numpy()\n",
    "    return average_precision_score(labels_oh, probs, average='macro')\n",
    "\n",
    "def cmAP_probs(preds, labels, num_classes=264):\n",
    "    probs = F.softmax(preds, dim=1).cpu().numpy()\n",
    "    labels_oh = F.one_hot(labels, num_classes=num_classes).cpu().numpy()\n",
    "    return average_precision_score(labels_oh, probs, average='macro')\n",
    "\n",
    "def padded_cmAP(preds, labels, num_classes=264, padding_factor=1):\n",
    "    padding = torch.ones((padding_factor, num_classes))\n",
    "    probs = torch.cat((F.one_hot(torch.argmax(preds, dim=1), num_classes=num_classes).cpu(), padding)).numpy()\n",
    "    labels_oh = torch.cat((F.one_hot(labels, num_classes=num_classes).cpu(), padding)).numpy()\n",
    "    return average_precision_score(labels_oh, probs, average='macro')\n",
    "\n",
    "def padded_cmAP_probs(preds, labels, num_classes=264, padding_factor=1):\n",
    "    padding = torch.ones((padding_factor, num_classes))\n",
    "    probs = torch.cat((F.softmax(preds, dim=1).cpu(), padding)).numpy()\n",
    "    labels_oh = torch.cat((F.one_hot(labels, num_classes=num_classes).cpu(), padding)).numpy()\n",
    "    return average_precision_score(labels_oh, probs, average='macro')\n",
    "\n",
    "def error_rate_multi(preds, labels, thresh=0.5, sigmoid=True):\n",
    "    return 1 - accuracy_multi(preds, labels, thresh, sigmoid)"
   ]
  },
  {
   "cell_type": "code",
   "execution_count": 9,
   "id": "30b61d83",
   "metadata": {
    "execution": {
     "iopub.execute_input": "2023-05-12T12:43:57.666144Z",
     "iopub.status.busy": "2023-05-12T12:43:57.665687Z",
     "iopub.status.idle": "2023-05-12T12:43:58.806443Z",
     "shell.execute_reply": "2023-05-12T12:43:58.805017Z"
    },
    "papermill": {
     "duration": 1.158403,
     "end_time": "2023-05-12T12:43:58.809587",
     "exception": false,
     "start_time": "2023-05-12T12:43:57.651184",
     "status": "completed"
    },
    "tags": []
   },
   "outputs": [],
   "source": [
    "def _get_label(df, label_col):\n",
    "    return df[label_col]\n",
    "\n",
    "get_label = partial(_get_label, label_col='primary_label')\n",
    "\n",
    "model = load_learner(model_path/model_fname)"
   ]
  },
  {
   "cell_type": "code",
   "execution_count": 10,
   "id": "7b77bc1c",
   "metadata": {
    "execution": {
     "iopub.execute_input": "2023-05-12T12:43:58.838315Z",
     "iopub.status.busy": "2023-05-12T12:43:58.837870Z",
     "iopub.status.idle": "2023-05-12T12:43:58.847154Z",
     "shell.execute_reply": "2023-05-12T12:43:58.846103Z"
    },
    "papermill": {
     "duration": 0.025945,
     "end_time": "2023-05-12T12:43:58.849360",
     "exception": false,
     "start_time": "2023-05-12T12:43:58.823415",
     "status": "completed"
    },
    "tags": []
   },
   "outputs": [
    {
     "data": {
      "text/plain": [
       "[Resample:\n",
       " encodes: (AudioTensor,object) -> encodes\n",
       " decodes: ,\n",
       " DownmixMono:\n",
       " encodes: (AudioTensor,object) -> encodes\n",
       " decodes: ,\n",
       " AudioToSpec:\n",
       " encodes: (AudioTensor,object) -> encodes\n",
       " decodes: ,\n",
       " ToTensor:\n",
       " encodes: (PILMask,object) -> encodes\n",
       " (PILBase,object) -> encodes\n",
       " decodes: ]"
      ]
     },
     "execution_count": 10,
     "metadata": {},
     "output_type": "execute_result"
    }
   ],
   "source": [
    "model.dls.valid.after_item.fs"
   ]
  },
  {
   "cell_type": "markdown",
   "id": "5e09131e",
   "metadata": {
    "papermill": {
     "duration": 0.013212,
     "end_time": "2023-05-12T12:43:58.876147",
     "exception": false,
     "start_time": "2023-05-12T12:43:58.862935",
     "status": "completed"
    },
    "tags": []
   },
   "source": [
    "## Ugly hack\n",
    "Some FastAudio transforms wouldn't work on GPU, so I put them in item_tfms instead of batch_tfms. They shouldn't be use for inference, so this hack removes them.\n",
    "\n",
    "Starting Apr. 22, moved the hack to the model training script so the model is exported with the desired transforms for inference."
   ]
  },
  {
   "cell_type": "code",
   "execution_count": 11,
   "id": "7f6e6c5d",
   "metadata": {
    "execution": {
     "iopub.execute_input": "2023-05-12T12:43:58.905890Z",
     "iopub.status.busy": "2023-05-12T12:43:58.904618Z",
     "iopub.status.idle": "2023-05-12T12:43:58.910423Z",
     "shell.execute_reply": "2023-05-12T12:43:58.909369Z"
    },
    "papermill": {
     "duration": 0.023039,
     "end_time": "2023-05-12T12:43:58.912887",
     "exception": false,
     "start_time": "2023-05-12T12:43:58.889848",
     "status": "completed"
    },
    "tags": []
   },
   "outputs": [],
   "source": [
    "# if remove_tfms:\n",
    "#     model.dls.valid.after_item.fs.pop(3)\n",
    "#     model.dls.valid.after_item.fs.pop(3)\n",
    "# model.dls.valid.after_item.fs"
   ]
  },
  {
   "cell_type": "code",
   "execution_count": 12,
   "id": "9282bbfc",
   "metadata": {
    "execution": {
     "iopub.execute_input": "2023-05-12T12:43:58.942324Z",
     "iopub.status.busy": "2023-05-12T12:43:58.941650Z",
     "iopub.status.idle": "2023-05-12T12:43:58.948673Z",
     "shell.execute_reply": "2023-05-12T12:43:58.947241Z"
    },
    "papermill": {
     "duration": 0.024617,
     "end_time": "2023-05-12T12:43:58.951327",
     "exception": false,
     "start_time": "2023-05-12T12:43:58.926710",
     "status": "completed"
    },
    "tags": []
   },
   "outputs": [],
   "source": [
    "if debug_on:\n",
    "    fixed_tm = frame_audio(audio, sample_rate=required_test_audio_sample_rate_hz)\n",
    "    # print(fixed_tm.shape)\n",
    "    for window in fixed_tm:\n",
    "        window = window.unsqueeze(0)\n",
    "    #     print(window.shape)\n",
    "        at = AudioTensor(window, required_test_audio_sample_rate_hz)\n",
    "        pred = model.predict(at)\n",
    "        print(f'{pred[0]}:, {torch.max(pred[2])}, {torch.argmax(pred[2])}')"
   ]
  },
  {
   "cell_type": "code",
   "execution_count": 13,
   "id": "7a56a693",
   "metadata": {
    "execution": {
     "iopub.execute_input": "2023-05-12T12:43:58.979916Z",
     "iopub.status.busy": "2023-05-12T12:43:58.979505Z",
     "iopub.status.idle": "2023-05-12T12:43:58.989465Z",
     "shell.execute_reply": "2023-05-12T12:43:58.988299Z"
    },
    "papermill": {
     "duration": 0.027224,
     "end_time": "2023-05-12T12:43:58.991893",
     "exception": false,
     "start_time": "2023-05-12T12:43:58.964669",
     "status": "completed"
    },
    "tags": []
   },
   "outputs": [],
   "source": [
    "def predict_for_sample(filename, required_sample_rate, pred_dict, frame_limit_secs=None):\n",
    "    file_id = filename.split(\".ogg\")[0].split(\"/\")[-1]\n",
    "    audio, sample_rate = torchaudio.load(filename)\n",
    "    wav_data, sample_rate = ensure_sample_rate(audio, sample_rate, required_sample_rate)\n",
    "    fixed_tm = frame_audio(wav_data, sample_rate=sample_rate)\n",
    "    frame = 5\n",
    "    for window in fixed_tm:\n",
    "        if frame_limit_secs and frame > frame_limit_secs:\n",
    "            continue\n",
    "        window = window.unsqueeze(0)\n",
    "        at = AudioTensor(window, required_sample_rate)\n",
    "        with model.no_bar():\n",
    "            preds = model.predict(at)\n",
    "        \n",
    "        # Todo: make sure training columns and sample submission columns are in the same order\n",
    "        key = file_id + '_' + str(frame)\n",
    "        pred_dict[key] = np.copy(preds[2].numpy())\n",
    "        frame += 5"
   ]
  },
  {
   "cell_type": "markdown",
   "id": "4c15e9a0",
   "metadata": {
    "papermill": {
     "duration": 0.013136,
     "end_time": "2023-05-12T12:43:59.018432",
     "exception": false,
     "start_time": "2023-05-12T12:43:59.005296",
     "status": "completed"
    },
    "tags": []
   },
   "source": [
    "# Step 4: Generate a submission"
   ]
  },
  {
   "cell_type": "code",
   "execution_count": 14,
   "id": "8b49db39",
   "metadata": {
    "execution": {
     "iopub.execute_input": "2023-05-12T12:43:59.048165Z",
     "iopub.status.busy": "2023-05-12T12:43:59.046961Z",
     "iopub.status.idle": "2023-05-12T12:44:00.185531Z",
     "shell.execute_reply": "2023-05-12T12:44:00.183891Z"
    },
    "papermill": {
     "duration": 1.156727,
     "end_time": "2023-05-12T12:44:00.188988",
     "exception": false,
     "start_time": "2023-05-12T12:43:59.032261",
     "status": "completed"
    },
    "tags": []
   },
   "outputs": [
    {
     "name": "stdout",
     "output_type": "stream",
     "text": [
      "XC113914.ogg\r\n",
      "XC129647.ogg\r\n",
      "XC132406.ogg\r\n",
      "XC133096.ogg\r\n",
      "XC133802.ogg\r\n",
      "XC134349.ogg\r\n",
      "XC135474.ogg\r\n",
      "XC139171.ogg\r\n",
      "XC141346.ogg\r\n",
      "XC141678.ogg\r\n"
     ]
    }
   ],
   "source": [
    "!ls /kaggle/input/birdclef-2023/train_audio/barswa | head"
   ]
  },
  {
   "cell_type": "code",
   "execution_count": 15,
   "id": "500907c4",
   "metadata": {
    "execution": {
     "iopub.execute_input": "2023-05-12T12:44:00.219594Z",
     "iopub.status.busy": "2023-05-12T12:44:00.218686Z",
     "iopub.status.idle": "2023-05-12T12:44:00.231388Z",
     "shell.execute_reply": "2023-05-12T12:44:00.230286Z"
    },
    "papermill": {
     "duration": 0.031038,
     "end_time": "2023-05-12T12:44:00.233934",
     "exception": false,
     "start_time": "2023-05-12T12:44:00.202896",
     "status": "completed"
    },
    "tags": []
   },
   "outputs": [
    {
     "data": {
      "text/plain": [
       "['/kaggle/input/birdclef-2023/test_soundscapes/soundscape_29201.ogg']"
      ]
     },
     "execution_count": 15,
     "metadata": {},
     "output_type": "execute_result"
    }
   ],
   "source": [
    "test_samples = list(glob.glob(\"/kaggle/input/birdclef-2023/test_soundscapes/*.ogg\"))\n",
    "\n",
    "if debug_on:\n",
    "    test_samples.insert(0, '/kaggle/input/birdclef-2023/train_audio/barswa/XC113914.ogg')\n",
    "    test_samples.insert(1, '/kaggle/input/birdclef-2023/train_audio/barswa/XC129647.ogg')\n",
    "    \n",
    "test_samples[:5]"
   ]
  },
  {
   "cell_type": "code",
   "execution_count": 16,
   "id": "19f298d1",
   "metadata": {
    "execution": {
     "iopub.execute_input": "2023-05-12T12:44:00.263763Z",
     "iopub.status.busy": "2023-05-12T12:44:00.263352Z",
     "iopub.status.idle": "2023-05-12T12:44:00.325972Z",
     "shell.execute_reply": "2023-05-12T12:44:00.324793Z"
    },
    "papermill": {
     "duration": 0.080897,
     "end_time": "2023-05-12T12:44:00.328802",
     "exception": false,
     "start_time": "2023-05-12T12:44:00.247905",
     "status": "completed"
    },
    "tags": []
   },
   "outputs": [
    {
     "data": {
      "text/html": [
       "<div>\n",
       "<style scoped>\n",
       "    .dataframe tbody tr th:only-of-type {\n",
       "        vertical-align: middle;\n",
       "    }\n",
       "\n",
       "    .dataframe tbody tr th {\n",
       "        vertical-align: top;\n",
       "    }\n",
       "\n",
       "    .dataframe thead th {\n",
       "        text-align: right;\n",
       "    }\n",
       "</style>\n",
       "<table border=\"1\" class=\"dataframe\">\n",
       "  <thead>\n",
       "    <tr style=\"text-align: right;\">\n",
       "      <th></th>\n",
       "      <th>row_id</th>\n",
       "      <th>abethr1</th>\n",
       "      <th>abhori1</th>\n",
       "      <th>abythr1</th>\n",
       "      <th>afbfly1</th>\n",
       "      <th>afdfly1</th>\n",
       "      <th>afecuc1</th>\n",
       "      <th>affeag1</th>\n",
       "      <th>afgfly1</th>\n",
       "      <th>afghor1</th>\n",
       "      <th>...</th>\n",
       "      <th>yebsto1</th>\n",
       "      <th>yeccan1</th>\n",
       "      <th>yefcan</th>\n",
       "      <th>yelbis1</th>\n",
       "      <th>yenspu1</th>\n",
       "      <th>yertin1</th>\n",
       "      <th>yesbar1</th>\n",
       "      <th>yespet1</th>\n",
       "      <th>yetgre1</th>\n",
       "      <th>yewgre1</th>\n",
       "    </tr>\n",
       "  </thead>\n",
       "  <tbody>\n",
       "    <tr>\n",
       "      <th>0</th>\n",
       "      <td>soundscape_29201_5</td>\n",
       "      <td>0</td>\n",
       "      <td>0</td>\n",
       "      <td>0</td>\n",
       "      <td>0</td>\n",
       "      <td>0</td>\n",
       "      <td>0</td>\n",
       "      <td>0</td>\n",
       "      <td>0</td>\n",
       "      <td>0</td>\n",
       "      <td>...</td>\n",
       "      <td>0</td>\n",
       "      <td>0</td>\n",
       "      <td>0</td>\n",
       "      <td>0</td>\n",
       "      <td>0</td>\n",
       "      <td>0</td>\n",
       "      <td>0</td>\n",
       "      <td>0</td>\n",
       "      <td>0</td>\n",
       "      <td>0</td>\n",
       "    </tr>\n",
       "    <tr>\n",
       "      <th>1</th>\n",
       "      <td>soundscape_29201_10</td>\n",
       "      <td>0</td>\n",
       "      <td>0</td>\n",
       "      <td>0</td>\n",
       "      <td>0</td>\n",
       "      <td>0</td>\n",
       "      <td>0</td>\n",
       "      <td>0</td>\n",
       "      <td>0</td>\n",
       "      <td>0</td>\n",
       "      <td>...</td>\n",
       "      <td>0</td>\n",
       "      <td>0</td>\n",
       "      <td>0</td>\n",
       "      <td>0</td>\n",
       "      <td>0</td>\n",
       "      <td>0</td>\n",
       "      <td>0</td>\n",
       "      <td>0</td>\n",
       "      <td>0</td>\n",
       "      <td>0</td>\n",
       "    </tr>\n",
       "    <tr>\n",
       "      <th>2</th>\n",
       "      <td>soundscape_29201_15</td>\n",
       "      <td>0</td>\n",
       "      <td>0</td>\n",
       "      <td>0</td>\n",
       "      <td>0</td>\n",
       "      <td>0</td>\n",
       "      <td>0</td>\n",
       "      <td>0</td>\n",
       "      <td>0</td>\n",
       "      <td>0</td>\n",
       "      <td>...</td>\n",
       "      <td>0</td>\n",
       "      <td>0</td>\n",
       "      <td>0</td>\n",
       "      <td>0</td>\n",
       "      <td>0</td>\n",
       "      <td>0</td>\n",
       "      <td>0</td>\n",
       "      <td>0</td>\n",
       "      <td>0</td>\n",
       "      <td>0</td>\n",
       "    </tr>\n",
       "  </tbody>\n",
       "</table>\n",
       "<p>3 rows × 265 columns</p>\n",
       "</div>"
      ],
      "text/plain": [
       "                row_id  abethr1  abhori1  abythr1  afbfly1  afdfly1  afecuc1  \\\n",
       "0   soundscape_29201_5        0        0        0        0        0        0   \n",
       "1  soundscape_29201_10        0        0        0        0        0        0   \n",
       "2  soundscape_29201_15        0        0        0        0        0        0   \n",
       "\n",
       "   affeag1  afgfly1  afghor1  ...  yebsto1  yeccan1  yefcan  yelbis1  yenspu1  \\\n",
       "0        0        0        0  ...        0        0       0        0        0   \n",
       "1        0        0        0  ...        0        0       0        0        0   \n",
       "2        0        0        0  ...        0        0       0        0        0   \n",
       "\n",
       "   yertin1  yesbar1  yespet1  yetgre1  yewgre1  \n",
       "0        0        0        0        0        0  \n",
       "1        0        0        0        0        0  \n",
       "2        0        0        0        0        0  \n",
       "\n",
       "[3 rows x 265 columns]"
      ]
     },
     "execution_count": 16,
     "metadata": {},
     "output_type": "execute_result"
    }
   ],
   "source": [
    "# train_metadata = pd.read_csv(\"/kaggle/input/birdclef-2023/train_metadata.csv\")\n",
    "# competition_classes = sorted(train_metadata.primary_label.unique())\n",
    "sample_sub_df = pd.read_csv(\"/kaggle/input/birdclef-2023/sample_submission.csv\")\n",
    "sample_sub_df.head()\n",
    "# sample_sub_df[competition_classes] = sample_sub[competition_classes].astype(np.float32)\n",
    "# sample_sub.head()"
   ]
  },
  {
   "cell_type": "markdown",
   "id": "eb3344ce",
   "metadata": {
    "papermill": {
     "duration": 0.01377,
     "end_time": "2023-05-12T12:44:00.356897",
     "exception": false,
     "start_time": "2023-05-12T12:44:00.343127",
     "status": "completed"
    },
    "tags": []
   },
   "source": [
    "## Serial prediction"
   ]
  },
  {
   "cell_type": "code",
   "execution_count": 17,
   "id": "7278a567",
   "metadata": {
    "execution": {
     "iopub.execute_input": "2023-05-12T12:44:00.387040Z",
     "iopub.status.busy": "2023-05-12T12:44:00.386585Z",
     "iopub.status.idle": "2023-05-12T12:44:40.303282Z",
     "shell.execute_reply": "2023-05-12T12:44:40.302143Z"
    },
    "papermill": {
     "duration": 39.935367,
     "end_time": "2023-05-12T12:44:40.306292",
     "exception": false,
     "start_time": "2023-05-12T12:44:00.370925",
     "status": "completed"
    },
    "tags": []
   },
   "outputs": [],
   "source": [
    "frame_limit_secs = 15 if sample_sub_df.shape[0] == 3 else None\n",
    "\n",
    "predictions = OrderedDict()\n",
    "for sample_filename in test_samples:\n",
    "    predict_for_sample(sample_filename, required_test_audio_sample_rate_hz, predictions, frame_limit_secs=600)"
   ]
  },
  {
   "cell_type": "markdown",
   "id": "2eb3b374",
   "metadata": {
    "papermill": {
     "duration": 0.013974,
     "end_time": "2023-05-12T12:44:40.334733",
     "exception": false,
     "start_time": "2023-05-12T12:44:40.320759",
     "status": "completed"
    },
    "tags": []
   },
   "source": [
    "## Parallel prediction"
   ]
  },
  {
   "cell_type": "code",
   "execution_count": 18,
   "id": "420bccd9",
   "metadata": {
    "execution": {
     "iopub.execute_input": "2023-05-12T12:44:40.365457Z",
     "iopub.status.busy": "2023-05-12T12:44:40.365034Z",
     "iopub.status.idle": "2023-05-12T12:44:40.370298Z",
     "shell.execute_reply": "2023-05-12T12:44:40.368915Z"
    },
    "papermill": {
     "duration": 0.023782,
     "end_time": "2023-05-12T12:44:40.372846",
     "exception": false,
     "start_time": "2023-05-12T12:44:40.349064",
     "status": "completed"
    },
    "tags": []
   },
   "outputs": [],
   "source": [
    "# torch.set_num_threads(1)\n",
    "# from fastcore.parallel import parallel_gen\n",
    "\n",
    "# class PredictToOrderedDict():\n",
    "#     def __init__(self, required_sample_rate: int=32000, frame_limit_secs: int=600):\n",
    "#         self.sr = required_sample_rate\n",
    "#         self.limit = frame_limit_secs\n",
    "#         self.predictions = OrderedDict()\n",
    "        \n",
    "#     def __call__(self, batch):\n",
    "#         for sample in batch:\n",
    "#             predict_for_sample(sample, self.sr, self.predictions, self.limit)\n",
    "#         yield self.predictions"
   ]
  },
  {
   "cell_type": "code",
   "execution_count": 19,
   "id": "bd0f3043",
   "metadata": {
    "execution": {
     "iopub.execute_input": "2023-05-12T12:44:40.404098Z",
     "iopub.status.busy": "2023-05-12T12:44:40.403218Z",
     "iopub.status.idle": "2023-05-12T12:44:40.408042Z",
     "shell.execute_reply": "2023-05-12T12:44:40.406801Z"
    },
    "papermill": {
     "duration": 0.023474,
     "end_time": "2023-05-12T12:44:40.410776",
     "exception": false,
     "start_time": "2023-05-12T12:44:40.387302",
     "status": "completed"
    },
    "tags": []
   },
   "outputs": [],
   "source": [
    "# %%timeit -n 1\n",
    "# results = list(parallel_gen(PredictToOrderedDict, test_samples, n_workers=0))"
   ]
  },
  {
   "cell_type": "code",
   "execution_count": 20,
   "id": "edf67e57",
   "metadata": {
    "execution": {
     "iopub.execute_input": "2023-05-12T12:44:40.442057Z",
     "iopub.status.busy": "2023-05-12T12:44:40.440746Z",
     "iopub.status.idle": "2023-05-12T12:44:40.446397Z",
     "shell.execute_reply": "2023-05-12T12:44:40.445459Z"
    },
    "papermill": {
     "duration": 0.023575,
     "end_time": "2023-05-12T12:44:40.448698",
     "exception": false,
     "start_time": "2023-05-12T12:44:40.425123",
     "status": "completed"
    },
    "tags": []
   },
   "outputs": [],
   "source": [
    "# class _C:\n",
    "#     def __call__(self, o): return ((i+1) for i in o)\n",
    "\n",
    "# items = range(5)\n",
    "\n",
    "# res = L(parallel_gen(_C, items, n_workers=0))\n",
    "# idxs,dat1 = zip(*res.sorted(itemgetter(0)))\n",
    "# test_eq(dat1, range(1,6))\n",
    "\n",
    "# res = L(parallel_gen(_C, items, n_workers=3))\n",
    "# idxs,dat2 = zip(*res.sorted(itemgetter(0)))\n",
    "# test_eq(dat2, dat1)"
   ]
  },
  {
   "cell_type": "markdown",
   "id": "cb4b09c4",
   "metadata": {
    "papermill": {
     "duration": 0.013755,
     "end_time": "2023-05-12T12:44:40.476720",
     "exception": false,
     "start_time": "2023-05-12T12:44:40.462965",
     "status": "completed"
    },
    "tags": []
   },
   "source": [
    "## Create submission file"
   ]
  },
  {
   "cell_type": "code",
   "execution_count": 21,
   "id": "e493ba19",
   "metadata": {
    "execution": {
     "iopub.execute_input": "2023-05-12T12:44:40.507517Z",
     "iopub.status.busy": "2023-05-12T12:44:40.506701Z",
     "iopub.status.idle": "2023-05-12T12:44:40.543628Z",
     "shell.execute_reply": "2023-05-12T12:44:40.542385Z"
    },
    "papermill": {
     "duration": 0.055966,
     "end_time": "2023-05-12T12:44:40.546793",
     "exception": false,
     "start_time": "2023-05-12T12:44:40.490827",
     "status": "completed"
    },
    "tags": []
   },
   "outputs": [],
   "source": [
    "sub_df = pd.DataFrame.from_dict(predictions, orient='index')\n",
    "sub_df.index.name = 'row_id'\n",
    "sub_df = sub_df.reset_index()\n",
    "sub_df.columns = sample_sub_df.columns"
   ]
  },
  {
   "cell_type": "code",
   "execution_count": 22,
   "id": "4f5a933d",
   "metadata": {
    "execution": {
     "iopub.execute_input": "2023-05-12T12:44:40.576816Z",
     "iopub.status.busy": "2023-05-12T12:44:40.576381Z",
     "iopub.status.idle": "2023-05-12T12:44:40.606401Z",
     "shell.execute_reply": "2023-05-12T12:44:40.605299Z"
    },
    "papermill": {
     "duration": 0.048238,
     "end_time": "2023-05-12T12:44:40.609239",
     "exception": false,
     "start_time": "2023-05-12T12:44:40.561001",
     "status": "completed"
    },
    "tags": []
   },
   "outputs": [
    {
     "data": {
      "text/html": [
       "<div>\n",
       "<style scoped>\n",
       "    .dataframe tbody tr th:only-of-type {\n",
       "        vertical-align: middle;\n",
       "    }\n",
       "\n",
       "    .dataframe tbody tr th {\n",
       "        vertical-align: top;\n",
       "    }\n",
       "\n",
       "    .dataframe thead th {\n",
       "        text-align: right;\n",
       "    }\n",
       "</style>\n",
       "<table border=\"1\" class=\"dataframe\">\n",
       "  <thead>\n",
       "    <tr style=\"text-align: right;\">\n",
       "      <th></th>\n",
       "      <th>row_id</th>\n",
       "      <th>abethr1</th>\n",
       "      <th>abhori1</th>\n",
       "      <th>abythr1</th>\n",
       "      <th>afbfly1</th>\n",
       "      <th>afdfly1</th>\n",
       "      <th>afecuc1</th>\n",
       "      <th>affeag1</th>\n",
       "      <th>afgfly1</th>\n",
       "      <th>afghor1</th>\n",
       "      <th>...</th>\n",
       "      <th>yebsto1</th>\n",
       "      <th>yeccan1</th>\n",
       "      <th>yefcan</th>\n",
       "      <th>yelbis1</th>\n",
       "      <th>yenspu1</th>\n",
       "      <th>yertin1</th>\n",
       "      <th>yesbar1</th>\n",
       "      <th>yespet1</th>\n",
       "      <th>yetgre1</th>\n",
       "      <th>yewgre1</th>\n",
       "    </tr>\n",
       "  </thead>\n",
       "  <tbody>\n",
       "    <tr>\n",
       "      <th>0</th>\n",
       "      <td>soundscape_29201_5</td>\n",
       "      <td>1.647948e-03</td>\n",
       "      <td>0.000342</td>\n",
       "      <td>0.002274</td>\n",
       "      <td>0.000025</td>\n",
       "      <td>3.997433e-04</td>\n",
       "      <td>1.299993e-03</td>\n",
       "      <td>4.900931e-03</td>\n",
       "      <td>0.000636</td>\n",
       "      <td>0.002335</td>\n",
       "      <td>...</td>\n",
       "      <td>0.000089</td>\n",
       "      <td>0.000018</td>\n",
       "      <td>3.677559e-04</td>\n",
       "      <td>0.000043</td>\n",
       "      <td>0.000088</td>\n",
       "      <td>0.000577</td>\n",
       "      <td>0.001068</td>\n",
       "      <td>0.000136</td>\n",
       "      <td>0.001791</td>\n",
       "      <td>1.834079e-03</td>\n",
       "    </tr>\n",
       "    <tr>\n",
       "      <th>1</th>\n",
       "      <td>soundscape_29201_10</td>\n",
       "      <td>5.817847e-05</td>\n",
       "      <td>0.010233</td>\n",
       "      <td>0.000016</td>\n",
       "      <td>0.002161</td>\n",
       "      <td>1.262999e-03</td>\n",
       "      <td>6.628463e-05</td>\n",
       "      <td>2.829918e-04</td>\n",
       "      <td>0.001370</td>\n",
       "      <td>0.000124</td>\n",
       "      <td>...</td>\n",
       "      <td>0.000311</td>\n",
       "      <td>0.000069</td>\n",
       "      <td>2.970379e-04</td>\n",
       "      <td>0.002000</td>\n",
       "      <td>0.000070</td>\n",
       "      <td>0.000313</td>\n",
       "      <td>0.000266</td>\n",
       "      <td>0.001280</td>\n",
       "      <td>0.000110</td>\n",
       "      <td>1.399656e-03</td>\n",
       "    </tr>\n",
       "    <tr>\n",
       "      <th>2</th>\n",
       "      <td>soundscape_29201_15</td>\n",
       "      <td>1.712860e-06</td>\n",
       "      <td>0.000044</td>\n",
       "      <td>0.000017</td>\n",
       "      <td>0.000010</td>\n",
       "      <td>3.209770e-07</td>\n",
       "      <td>1.061228e-04</td>\n",
       "      <td>1.317631e-06</td>\n",
       "      <td>0.000003</td>\n",
       "      <td>0.000008</td>\n",
       "      <td>...</td>\n",
       "      <td>0.000001</td>\n",
       "      <td>0.000009</td>\n",
       "      <td>2.130616e-05</td>\n",
       "      <td>0.000096</td>\n",
       "      <td>0.000008</td>\n",
       "      <td>0.000252</td>\n",
       "      <td>0.000045</td>\n",
       "      <td>0.000016</td>\n",
       "      <td>0.000056</td>\n",
       "      <td>4.708157e-04</td>\n",
       "    </tr>\n",
       "    <tr>\n",
       "      <th>3</th>\n",
       "      <td>soundscape_29201_20</td>\n",
       "      <td>7.663779e-06</td>\n",
       "      <td>0.000073</td>\n",
       "      <td>0.000059</td>\n",
       "      <td>0.000227</td>\n",
       "      <td>4.312716e-04</td>\n",
       "      <td>9.863844e-06</td>\n",
       "      <td>3.511371e-06</td>\n",
       "      <td>0.000172</td>\n",
       "      <td>0.000044</td>\n",
       "      <td>...</td>\n",
       "      <td>0.000186</td>\n",
       "      <td>0.000022</td>\n",
       "      <td>1.158271e-05</td>\n",
       "      <td>0.000903</td>\n",
       "      <td>0.000157</td>\n",
       "      <td>0.000196</td>\n",
       "      <td>0.000009</td>\n",
       "      <td>0.000085</td>\n",
       "      <td>0.000272</td>\n",
       "      <td>2.264296e-06</td>\n",
       "    </tr>\n",
       "    <tr>\n",
       "      <th>4</th>\n",
       "      <td>soundscape_29201_25</td>\n",
       "      <td>7.184537e-07</td>\n",
       "      <td>0.000003</td>\n",
       "      <td>0.000041</td>\n",
       "      <td>0.000033</td>\n",
       "      <td>1.686615e-04</td>\n",
       "      <td>9.759963e-07</td>\n",
       "      <td>1.643771e-07</td>\n",
       "      <td>0.000016</td>\n",
       "      <td>0.000015</td>\n",
       "      <td>...</td>\n",
       "      <td>0.000040</td>\n",
       "      <td>0.000002</td>\n",
       "      <td>9.071156e-07</td>\n",
       "      <td>0.000084</td>\n",
       "      <td>0.000006</td>\n",
       "      <td>0.000033</td>\n",
       "      <td>0.000002</td>\n",
       "      <td>0.000002</td>\n",
       "      <td>0.000018</td>\n",
       "      <td>6.582222e-07</td>\n",
       "    </tr>\n",
       "  </tbody>\n",
       "</table>\n",
       "<p>5 rows × 265 columns</p>\n",
       "</div>"
      ],
      "text/plain": [
       "                row_id       abethr1   abhori1   abythr1   afbfly1  \\\n",
       "0   soundscape_29201_5  1.647948e-03  0.000342  0.002274  0.000025   \n",
       "1  soundscape_29201_10  5.817847e-05  0.010233  0.000016  0.002161   \n",
       "2  soundscape_29201_15  1.712860e-06  0.000044  0.000017  0.000010   \n",
       "3  soundscape_29201_20  7.663779e-06  0.000073  0.000059  0.000227   \n",
       "4  soundscape_29201_25  7.184537e-07  0.000003  0.000041  0.000033   \n",
       "\n",
       "        afdfly1       afecuc1       affeag1   afgfly1   afghor1  ...  \\\n",
       "0  3.997433e-04  1.299993e-03  4.900931e-03  0.000636  0.002335  ...   \n",
       "1  1.262999e-03  6.628463e-05  2.829918e-04  0.001370  0.000124  ...   \n",
       "2  3.209770e-07  1.061228e-04  1.317631e-06  0.000003  0.000008  ...   \n",
       "3  4.312716e-04  9.863844e-06  3.511371e-06  0.000172  0.000044  ...   \n",
       "4  1.686615e-04  9.759963e-07  1.643771e-07  0.000016  0.000015  ...   \n",
       "\n",
       "    yebsto1   yeccan1        yefcan   yelbis1   yenspu1   yertin1   yesbar1  \\\n",
       "0  0.000089  0.000018  3.677559e-04  0.000043  0.000088  0.000577  0.001068   \n",
       "1  0.000311  0.000069  2.970379e-04  0.002000  0.000070  0.000313  0.000266   \n",
       "2  0.000001  0.000009  2.130616e-05  0.000096  0.000008  0.000252  0.000045   \n",
       "3  0.000186  0.000022  1.158271e-05  0.000903  0.000157  0.000196  0.000009   \n",
       "4  0.000040  0.000002  9.071156e-07  0.000084  0.000006  0.000033  0.000002   \n",
       "\n",
       "    yespet1   yetgre1       yewgre1  \n",
       "0  0.000136  0.001791  1.834079e-03  \n",
       "1  0.001280  0.000110  1.399656e-03  \n",
       "2  0.000016  0.000056  4.708157e-04  \n",
       "3  0.000085  0.000272  2.264296e-06  \n",
       "4  0.000002  0.000018  6.582222e-07  \n",
       "\n",
       "[5 rows x 265 columns]"
      ]
     },
     "execution_count": 22,
     "metadata": {},
     "output_type": "execute_result"
    }
   ],
   "source": [
    "sub_df.head()"
   ]
  },
  {
   "cell_type": "code",
   "execution_count": 23,
   "id": "88759599",
   "metadata": {
    "execution": {
     "iopub.execute_input": "2023-05-12T12:44:40.640506Z",
     "iopub.status.busy": "2023-05-12T12:44:40.640068Z",
     "iopub.status.idle": "2023-05-12T12:44:40.645535Z",
     "shell.execute_reply": "2023-05-12T12:44:40.644329Z"
    },
    "papermill": {
     "duration": 0.023838,
     "end_time": "2023-05-12T12:44:40.647901",
     "exception": false,
     "start_time": "2023-05-12T12:44:40.624063",
     "status": "completed"
    },
    "tags": []
   },
   "outputs": [],
   "source": [
    "if debug_on:\n",
    "    print(sub_df)"
   ]
  },
  {
   "cell_type": "code",
   "execution_count": 24,
   "id": "acd53004",
   "metadata": {
    "execution": {
     "iopub.execute_input": "2023-05-12T12:44:40.678553Z",
     "iopub.status.busy": "2023-05-12T12:44:40.678112Z",
     "iopub.status.idle": "2023-05-12T12:44:40.736320Z",
     "shell.execute_reply": "2023-05-12T12:44:40.735113Z"
    },
    "papermill": {
     "duration": 0.077135,
     "end_time": "2023-05-12T12:44:40.739394",
     "exception": false,
     "start_time": "2023-05-12T12:44:40.662259",
     "status": "completed"
    },
    "tags": []
   },
   "outputs": [],
   "source": [
    "sub_df.to_csv(\"submission.csv\", index=False)"
   ]
  },
  {
   "cell_type": "code",
   "execution_count": 25,
   "id": "a20759a8",
   "metadata": {
    "execution": {
     "iopub.execute_input": "2023-05-12T12:44:40.770374Z",
     "iopub.status.busy": "2023-05-12T12:44:40.769602Z",
     "iopub.status.idle": "2023-05-12T12:44:40.774517Z",
     "shell.execute_reply": "2023-05-12T12:44:40.773641Z"
    },
    "papermill": {
     "duration": 0.022843,
     "end_time": "2023-05-12T12:44:40.776834",
     "exception": false,
     "start_time": "2023-05-12T12:44:40.753991",
     "status": "completed"
    },
    "tags": []
   },
   "outputs": [],
   "source": [
    "# if debug_on:\n",
    "#     !head submission.csv"
   ]
  },
  {
   "cell_type": "code",
   "execution_count": 26,
   "id": "59799a55",
   "metadata": {
    "execution": {
     "iopub.execute_input": "2023-05-12T12:44:40.807803Z",
     "iopub.status.busy": "2023-05-12T12:44:40.806652Z",
     "iopub.status.idle": "2023-05-12T12:44:40.812648Z",
     "shell.execute_reply": "2023-05-12T12:44:40.811533Z"
    },
    "papermill": {
     "duration": 0.024316,
     "end_time": "2023-05-12T12:44:40.815225",
     "exception": false,
     "start_time": "2023-05-12T12:44:40.790909",
     "status": "completed"
    },
    "tags": []
   },
   "outputs": [],
   "source": [
    "if debug_on:\n",
    "    print(np.argmax(sub_df.iloc[0][1:]))"
   ]
  },
  {
   "cell_type": "code",
   "execution_count": 27,
   "id": "6da5463c",
   "metadata": {
    "execution": {
     "iopub.execute_input": "2023-05-12T12:44:40.846686Z",
     "iopub.status.busy": "2023-05-12T12:44:40.845379Z",
     "iopub.status.idle": "2023-05-12T12:44:40.853850Z",
     "shell.execute_reply": "2023-05-12T12:44:40.852997Z"
    },
    "papermill": {
     "duration": 0.026521,
     "end_time": "2023-05-12T12:44:40.856197",
     "exception": false,
     "start_time": "2023-05-12T12:44:40.829676",
     "status": "completed"
    },
    "tags": []
   },
   "outputs": [],
   "source": [
    "if debug_on:\n",
    "    for i in range(len(sub_df)):\n",
    "        argmax_loc = np.argmax(sub_df.iloc[i][1:]) + 1\n",
    "        argmax_prob = sub_df.iloc[i, argmax_loc]\n",
    "        argmax_class = sub_df.columns[argmax_loc]\n",
    "        print(f'{sub_df.iloc[i, 0]}: {100*argmax_prob:.1f}% {argmax_class} (class {argmax_loc})')"
   ]
  }
 ],
 "metadata": {
  "kernelspec": {
   "display_name": "Python 3",
   "language": "python",
   "name": "python3"
  },
  "language_info": {
   "codemirror_mode": {
    "name": "ipython",
    "version": 3
   },
   "file_extension": ".py",
   "mimetype": "text/x-python",
   "name": "python",
   "nbconvert_exporter": "python",
   "pygments_lexer": "ipython3",
   "version": "3.7.12"
  },
  "papermill": {
   "default_parameters": {},
   "duration": 75.838686,
   "end_time": "2023-05-12T12:44:42.396770",
   "environment_variables": {},
   "exception": null,
   "input_path": "__notebook__.ipynb",
   "output_path": "__notebook__.ipynb",
   "parameters": {},
   "start_time": "2023-05-12T12:43:26.558084",
   "version": "2.4.0"
  }
 },
 "nbformat": 4,
 "nbformat_minor": 5
}
