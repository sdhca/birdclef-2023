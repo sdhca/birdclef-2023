{
 "cells": [
  {
   "cell_type": "markdown",
   "id": "993bf8fc-0aec-4bcf-a25b-01c369ac9945",
   "metadata": {},
   "source": [
    "# BirdCLEF 2023 - Model Fitting 1\n",
    "\n",
    "The goal here is to apply the guidelines and approach presented in the [First Steps, Road to the Top](https://www.kaggle.com/code/jhoward/first-steps-road-to-the-top-part-1) series of notebooks. Following that series, we'll look to use FastAI/PyTorch to create an effective validation set and iterate rapidly!\n",
    "\n",
    "To overall plan is to start with transfer learning to train CNNs on spectrograms.\n",
    "\n",
    "This notebook focuses transfer learning to train CNNs on spectrograms.\n",
    "\n",
    "## Competition\n",
    "https://www.kaggle.com/competitions/birdclef-2023\n",
    "\n",
    "## Inputs\n",
    "Original Ogg files with noise removed, downsampled, and resized to 30s.\n",
    "\n",
    "<!-- | Notebook | Version |\n",
    "| :-------- | :-----: |\n",
    "| https://www.kaggle.com/code/stephenhudson/rsna-smbcd-2023-eda-part-1 | 3 |\n",
    "| https://www.kaggle.com/code/stephenhudson/rsna-smbcd-2023-eda-part-2 | 2 |\n",
    "| https://www.kaggle.com/code/stephenhudson/rsna-smbcd-2023-data-prep | 3 |\n",
    "| https://www.kaggle.com/code/stephenhudson/rsna-smbcd-2023-data-prep-partition | 2 |\n",
    " -->"
   ]
  },
  {
   "cell_type": "markdown",
   "id": "5d360790-5b98-46bd-b440-a2b6a6cb3f1c",
   "metadata": {},
   "source": [
    "# Setup\n",
    "## Kaggle"
   ]
  },
  {
   "cell_type": "code",
   "execution_count": 1,
   "id": "82d64c89-6cd7-4181-9a76-e52f8173c872",
   "metadata": {},
   "outputs": [
    {
     "data": {
      "text/plain": [
       "(#9) [Path('birdclef-2023/train_audio_prep-2'),Path('birdclef-2023/eBird_Taxonomy_v2021.csv'),Path('birdclef-2023/test_soundscapes'),Path('birdclef-2023/train_metadata.csv'),Path('birdclef-2023/train_audio_prep-2b'),Path('birdclef-2023/train_audio'),Path('birdclef-2023/sample_submission.csv'),Path('birdclef-2023/train_audio_prep-30s-32k'),Path('birdclef-2023/train_audio_prep-1')]"
      ]
     },
     "execution_count": 1,
     "metadata": {},
     "output_type": "execute_result"
    }
   ],
   "source": [
    "from fastkaggle import setup_comp, iskaggle\n",
    "\n",
    "comp  = 'birdclef-2023'\n",
    "comp_path = setup_comp(comp, install='fastai timm fastaudio')\n",
    "comp_path.ls()"
   ]
  },
  {
   "cell_type": "markdown",
   "id": "858a85cb-5662-4f60-93b1-4b91b713fa5d",
   "metadata": {},
   "source": [
    "## Imports"
   ]
  },
  {
   "cell_type": "code",
   "execution_count": 2,
   "id": "cfcfd620-4778-48fe-920c-addd4a1c7183",
   "metadata": {},
   "outputs": [
    {
     "name": "stderr",
     "output_type": "stream",
     "text": [
      "/home/sdhca/mambaforge/envs/fastai/lib/python3.9/site-packages/torchvision/io/image.py:13: UserWarning: Failed to load image Python extension: libtorch_cuda_cu.so: cannot open shared object file: No such file or directory\n",
      "  warn(f\"Failed to load image Python extension: {e}\")\n"
     ]
    },
    {
     "name": "stdout",
     "output_type": "stream",
     "text": [
      "2.0.0+cu117\n"
     ]
    }
   ],
   "source": [
    "from fastai.vision.all import *\n",
    "import torch\n",
    "import timm\n",
    "from sklearn.model_selection import StratifiedKFold, StratifiedShuffleSplit\n",
    "\n",
    "from fastaudio.core.all import *\n",
    "from fastaudio.augment.all import *\n",
    "\n",
    "from pathlib import Path\n",
    "import time\n",
    "import pickle\n",
    "import warnings\n",
    "warnings.filterwarnings('ignore', category=UserWarning, message='TypedStorage is deprecated')\n",
    "\n",
    "print(torch.__version__)"
   ]
  },
  {
   "cell_type": "code",
   "execution_count": 3,
   "id": "8778c5d2-7a89-40c3-b95f-ff9650d6a0ab",
   "metadata": {
    "tags": []
   },
   "outputs": [],
   "source": [
    "assert torch.cuda.is_available(), 'Cuda is not available!'"
   ]
  },
  {
   "cell_type": "markdown",
   "id": "d88a92c9-0967-4d66-b555-9a703835d074",
   "metadata": {},
   "source": [
    "# Config"
   ]
  },
  {
   "cell_type": "code",
   "execution_count": 4,
   "id": "1d1a6d2f-6bf5-49a6-bd60-49a9f2b2add3",
   "metadata": {},
   "outputs": [],
   "source": [
    "debug_on = False\n",
    "\n",
    "wandb_on = False\n",
    "wandb_project = 'birdclef-2023'\n",
    "\n",
    "trn_sub_folder = 'train_audio_prep-30s-32k'\n",
    "trn_path = comp_path/trn_sub_folder\n",
    "lr_find_on = True\n",
    "max_images = None\n",
    "\n",
    "if debug_on:\n",
    "    lr_find_on = False\n",
    "    wandb_on = False\n",
    "    max_images = 512  # for debugging. Set to None to use all"
   ]
  },
  {
   "cell_type": "markdown",
   "id": "79a4d62b-4551-4542-aa3f-8ce33b5a021a",
   "metadata": {},
   "source": [
    "## Hyperparameters"
   ]
  },
  {
   "cell_type": "code",
   "execution_count": 5,
   "id": "3275fe03-d7ce-4629-89a6-0bf43992d429",
   "metadata": {},
   "outputs": [],
   "source": [
    "hypp = dict(\n",
    "    batch_size=16,\n",
    "    effective_batch_size=64,\n",
    "    n_epochs=24,\n",
    "    # nn_arch='mixnet_s',\n",
    "    nn_arch='convnext_tiny_in22k',\n",
    "    freeze_epochs=1,\n",
    "    base_lr = 2e-2,\n",
    "    approach='Vanilla',\n",
    "    to_fp16 = True,\n",
    "    audio_config=dict(\n",
    "        sample_rate=32000,\n",
    "        n_fft=512,\n",
    "        win_length=None,\n",
    "        hop_length=None,\n",
    "        f_min=10.0,\n",
    "        f_max=16000,\n",
    "        n_mels=64,\n",
    "        power=2.0,\n",
    "        normalized=False,\n",
    "        center=True,\n",
    "        pad_mode='reflect',\n",
    "        mel=True,\n",
    "        to_db=True\n",
    "    )\n",
    ")"
   ]
  },
  {
   "cell_type": "code",
   "execution_count": 6,
   "id": "36e9073c-b1bc-4ce0-906e-29857a5b708f",
   "metadata": {
    "tags": []
   },
   "outputs": [
    {
     "data": {
      "text/plain": [
       "{'batch_size': 16,\n",
       " 'effective_batch_size': 64,\n",
       " 'n_epochs': 24,\n",
       " 'nn_arch': 'convnext_tiny_in22k',\n",
       " 'freeze_epochs': 1,\n",
       " 'base_lr': 0.02,\n",
       " 'approach': 'Vanilla',\n",
       " 'to_fp16': True,\n",
       " 'audio_config': {'sample_rate': 32000,\n",
       "  'n_fft': 512,\n",
       "  'win_length': None,\n",
       "  'hop_length': None,\n",
       "  'f_min': 10.0,\n",
       "  'f_max': 16000,\n",
       "  'n_mels': 64,\n",
       "  'power': 2.0,\n",
       "  'normalized': False,\n",
       "  'center': True,\n",
       "  'pad_mode': 'reflect',\n",
       "  'mel': True,\n",
       "  'to_db': True}}"
      ]
     },
     "execution_count": 6,
     "metadata": {},
     "output_type": "execute_result"
    }
   ],
   "source": [
    "hypp"
   ]
  },
  {
   "cell_type": "markdown",
   "id": "60597128-eba2-46cf-8cb8-39a3275433c6",
   "metadata": {},
   "source": [
    "## Weights & Biases"
   ]
  },
  {
   "cell_type": "code",
   "execution_count": 7,
   "id": "e8cd61da-ea03-4d92-bea0-5469bb861ae2",
   "metadata": {},
   "outputs": [],
   "source": [
    "wandb_run = None\n",
    "if wandb_on:\n",
    "    import wandb\n",
    "    from fastai.callback.wandb import *\n",
    "    wandb.init(project=wandb_project, config=hypp)\n",
    "    wandb_callback = WandbCallback(log_preds=False)"
   ]
  },
  {
   "cell_type": "markdown",
   "id": "9796e33e-dbf0-47b1-bfeb-59e617ad9a92",
   "metadata": {},
   "source": [
    "# Model Selection\n",
    "\n",
    "Useful resources:\n",
    " * https://timm.fast.ai/\n",
    " * https://huggingface.co/docs/timm/results\n",
    " * https://ai.googleblog.com/2019/05/efficientnet-improving-accuracy-and.html\n",
    " * https://towardsdatascience.com/does-imagenet-pretraining-work-for-chest-radiography-images-covid-19-2e2d9f5f0875\n",
    " * https://towardsdatascience.com/getting-started-with-pytorch-image-models-timm-a-practitioners-guide-4e77b4bf9055\n",
    " \n",
    " Let's start with `mixnet_s` for fast iteration because it has only 4 M parameters."
   ]
  },
  {
   "cell_type": "code",
   "execution_count": 8,
   "id": "ef53953b-a33b-49da-a81c-e7a8f5b3c297",
   "metadata": {},
   "outputs": [
    {
     "data": {
      "text/plain": [
       "['mixnet_l', 'mixnet_m', 'mixnet_s', 'mixnet_xl']"
      ]
     },
     "execution_count": 8,
     "metadata": {},
     "output_type": "execute_result"
    }
   ],
   "source": [
    "timm.list_models('mixnet*', pretrained=True)"
   ]
  },
  {
   "cell_type": "code",
   "execution_count": 9,
   "id": "bc905507-a3a7-4983-a836-18e08fc733dc",
   "metadata": {},
   "outputs": [
    {
     "data": {
      "text/plain": [
       "['efficientformer_l1',\n",
       " 'efficientformer_l3',\n",
       " 'efficientformer_l7',\n",
       " 'efficientnet_b0',\n",
       " 'efficientnet_b1',\n",
       " 'efficientnet_b1_pruned',\n",
       " 'efficientnet_b2',\n",
       " 'efficientnet_b2_pruned',\n",
       " 'efficientnet_b3',\n",
       " 'efficientnet_b3_pruned',\n",
       " 'efficientnet_b4',\n",
       " 'efficientnet_el',\n",
       " 'efficientnet_el_pruned',\n",
       " 'efficientnet_em',\n",
       " 'efficientnet_es',\n",
       " 'efficientnet_es_pruned',\n",
       " 'efficientnet_lite0',\n",
       " 'efficientnetv2_rw_m',\n",
       " 'efficientnetv2_rw_s',\n",
       " 'efficientnetv2_rw_t',\n",
       " 'gc_efficientnetv2_rw_t',\n",
       " 'tf_efficientnet_b0',\n",
       " 'tf_efficientnet_b0_ap',\n",
       " 'tf_efficientnet_b0_ns',\n",
       " 'tf_efficientnet_b1',\n",
       " 'tf_efficientnet_b1_ap',\n",
       " 'tf_efficientnet_b1_ns',\n",
       " 'tf_efficientnet_b2',\n",
       " 'tf_efficientnet_b2_ap',\n",
       " 'tf_efficientnet_b2_ns',\n",
       " 'tf_efficientnet_b3',\n",
       " 'tf_efficientnet_b3_ap',\n",
       " 'tf_efficientnet_b3_ns',\n",
       " 'tf_efficientnet_b4',\n",
       " 'tf_efficientnet_b4_ap',\n",
       " 'tf_efficientnet_b4_ns',\n",
       " 'tf_efficientnet_b5',\n",
       " 'tf_efficientnet_b5_ap',\n",
       " 'tf_efficientnet_b5_ns',\n",
       " 'tf_efficientnet_b6',\n",
       " 'tf_efficientnet_b6_ap',\n",
       " 'tf_efficientnet_b6_ns',\n",
       " 'tf_efficientnet_b7',\n",
       " 'tf_efficientnet_b7_ap',\n",
       " 'tf_efficientnet_b7_ns',\n",
       " 'tf_efficientnet_b8',\n",
       " 'tf_efficientnet_b8_ap',\n",
       " 'tf_efficientnet_cc_b0_4e',\n",
       " 'tf_efficientnet_cc_b0_8e',\n",
       " 'tf_efficientnet_cc_b1_8e',\n",
       " 'tf_efficientnet_el',\n",
       " 'tf_efficientnet_em',\n",
       " 'tf_efficientnet_es',\n",
       " 'tf_efficientnet_l2_ns',\n",
       " 'tf_efficientnet_l2_ns_475',\n",
       " 'tf_efficientnet_lite0',\n",
       " 'tf_efficientnet_lite1',\n",
       " 'tf_efficientnet_lite2',\n",
       " 'tf_efficientnet_lite3',\n",
       " 'tf_efficientnet_lite4',\n",
       " 'tf_efficientnetv2_b0',\n",
       " 'tf_efficientnetv2_b1',\n",
       " 'tf_efficientnetv2_b2',\n",
       " 'tf_efficientnetv2_b3',\n",
       " 'tf_efficientnetv2_l',\n",
       " 'tf_efficientnetv2_l_in21ft1k',\n",
       " 'tf_efficientnetv2_l_in21k',\n",
       " 'tf_efficientnetv2_m',\n",
       " 'tf_efficientnetv2_m_in21ft1k',\n",
       " 'tf_efficientnetv2_m_in21k',\n",
       " 'tf_efficientnetv2_s',\n",
       " 'tf_efficientnetv2_s_in21ft1k',\n",
       " 'tf_efficientnetv2_s_in21k',\n",
       " 'tf_efficientnetv2_xl_in21ft1k',\n",
       " 'tf_efficientnetv2_xl_in21k']"
      ]
     },
     "execution_count": 9,
     "metadata": {},
     "output_type": "execute_result"
    }
   ],
   "source": [
    "timm.list_models('*efficient*', pretrained=True)"
   ]
  },
  {
   "cell_type": "code",
   "execution_count": 10,
   "id": "b69571b6-f4db-471e-af4a-bc380ebf2bef",
   "metadata": {},
   "outputs": [
    {
     "data": {
      "text/plain": [
       "{'url': 'https://dl.fbaipublicfiles.com/convnext/convnext_tiny_22k_224.pth',\n",
       " 'num_classes': 21841,\n",
       " 'input_size': (3, 224, 224),\n",
       " 'pool_size': (7, 7),\n",
       " 'crop_pct': 0.875,\n",
       " 'interpolation': 'bicubic',\n",
       " 'mean': (0.485, 0.456, 0.406),\n",
       " 'std': (0.229, 0.224, 0.225),\n",
       " 'first_conv': 'stem.0',\n",
       " 'classifier': 'head.fc',\n",
       " 'architecture': 'convnext_tiny_in22k'}"
      ]
     },
     "execution_count": 10,
     "metadata": {},
     "output_type": "execute_result"
    }
   ],
   "source": [
    "# model = timm.create_model(hypp['nn_arch'], pretrained=True, num_classes=2, in_chans=3)\n",
    "model, model_cfg = create_timm_model(hypp['nn_arch'], n_out=264, pretrained=True, n_in=1)\n",
    "model_cfg"
   ]
  },
  {
   "cell_type": "code",
   "execution_count": 11,
   "id": "281fe088-e2f2-4820-8165-582bbb6c64b3",
   "metadata": {},
   "outputs": [
    {
     "data": {
      "text/plain": [
       "224"
      ]
     },
     "execution_count": 11,
     "metadata": {},
     "output_type": "execute_result"
    }
   ],
   "source": [
    "img_size = model_cfg['input_size'][1]\n",
    "img_size"
   ]
  },
  {
   "cell_type": "code",
   "execution_count": 12,
   "id": "b2831ecc-86a9-4f40-975e-1af1e8d34d39",
   "metadata": {},
   "outputs": [],
   "source": [
    "del(model)"
   ]
  },
  {
   "cell_type": "markdown",
   "id": "581968b5-78be-4540-b292-4a57eb60f3aa",
   "metadata": {},
   "source": [
    "# Splits & DataLoaders"
   ]
  },
  {
   "cell_type": "code",
   "execution_count": 13,
   "id": "337cd564-86c2-4925-ba8b-e7a8a6507af6",
   "metadata": {
    "tags": []
   },
   "outputs": [
    {
     "data": {
      "text/plain": [
       "(#9) [Path('birdclef-2023/train_audio_prep-2'),Path('birdclef-2023/eBird_Taxonomy_v2021.csv'),Path('birdclef-2023/test_soundscapes'),Path('birdclef-2023/train_metadata.csv'),Path('birdclef-2023/train_audio_prep-2b'),Path('birdclef-2023/train_audio'),Path('birdclef-2023/sample_submission.csv'),Path('birdclef-2023/train_audio_prep-30s-32k'),Path('birdclef-2023/train_audio_prep-1')]"
      ]
     },
     "execution_count": 13,
     "metadata": {},
     "output_type": "execute_result"
    }
   ],
   "source": [
    "comp_path.ls()"
   ]
  },
  {
   "cell_type": "code",
   "execution_count": 14,
   "id": "60866f3e-66b1-47e7-9850-876f87041f66",
   "metadata": {},
   "outputs": [
    {
     "data": {
      "text/html": [
       "<div>\n",
       "<style scoped>\n",
       "    .dataframe tbody tr th:only-of-type {\n",
       "        vertical-align: middle;\n",
       "    }\n",
       "\n",
       "    .dataframe tbody tr th {\n",
       "        vertical-align: top;\n",
       "    }\n",
       "\n",
       "    .dataframe thead th {\n",
       "        text-align: right;\n",
       "    }\n",
       "</style>\n",
       "<table border=\"1\" class=\"dataframe\">\n",
       "  <thead>\n",
       "    <tr style=\"text-align: right;\">\n",
       "      <th></th>\n",
       "      <th>primary_label</th>\n",
       "      <th>secondary_labels</th>\n",
       "      <th>type</th>\n",
       "      <th>latitude</th>\n",
       "      <th>longitude</th>\n",
       "      <th>scientific_name</th>\n",
       "      <th>common_name</th>\n",
       "      <th>author</th>\n",
       "      <th>license</th>\n",
       "      <th>rating</th>\n",
       "      <th>url</th>\n",
       "      <th>filename</th>\n",
       "    </tr>\n",
       "  </thead>\n",
       "  <tbody>\n",
       "    <tr>\n",
       "      <th>0</th>\n",
       "      <td>abethr1</td>\n",
       "      <td>[]</td>\n",
       "      <td>['song']</td>\n",
       "      <td>4.3906</td>\n",
       "      <td>38.2788</td>\n",
       "      <td>Turdus tephronotus</td>\n",
       "      <td>African Bare-eyed Thrush</td>\n",
       "      <td>Rolf A. de By</td>\n",
       "      <td>Creative Commons Attribution-NonCommercial-ShareAlike 3.0</td>\n",
       "      <td>4.0</td>\n",
       "      <td>https://www.xeno-canto.org/128013</td>\n",
       "      <td>abethr1/XC128013.ogg</td>\n",
       "    </tr>\n",
       "    <tr>\n",
       "      <th>1</th>\n",
       "      <td>abethr1</td>\n",
       "      <td>[]</td>\n",
       "      <td>['call']</td>\n",
       "      <td>-2.9524</td>\n",
       "      <td>38.2921</td>\n",
       "      <td>Turdus tephronotus</td>\n",
       "      <td>African Bare-eyed Thrush</td>\n",
       "      <td>James Bradley</td>\n",
       "      <td>Creative Commons Attribution-NonCommercial-ShareAlike 4.0</td>\n",
       "      <td>3.5</td>\n",
       "      <td>https://www.xeno-canto.org/363501</td>\n",
       "      <td>abethr1/XC363501.ogg</td>\n",
       "    </tr>\n",
       "    <tr>\n",
       "      <th>2</th>\n",
       "      <td>abethr1</td>\n",
       "      <td>[]</td>\n",
       "      <td>['song']</td>\n",
       "      <td>-2.9524</td>\n",
       "      <td>38.2921</td>\n",
       "      <td>Turdus tephronotus</td>\n",
       "      <td>African Bare-eyed Thrush</td>\n",
       "      <td>James Bradley</td>\n",
       "      <td>Creative Commons Attribution-NonCommercial-ShareAlike 4.0</td>\n",
       "      <td>3.5</td>\n",
       "      <td>https://www.xeno-canto.org/363502</td>\n",
       "      <td>abethr1/XC363502.ogg</td>\n",
       "    </tr>\n",
       "    <tr>\n",
       "      <th>3</th>\n",
       "      <td>abethr1</td>\n",
       "      <td>[]</td>\n",
       "      <td>['song']</td>\n",
       "      <td>-2.9524</td>\n",
       "      <td>38.2921</td>\n",
       "      <td>Turdus tephronotus</td>\n",
       "      <td>African Bare-eyed Thrush</td>\n",
       "      <td>James Bradley</td>\n",
       "      <td>Creative Commons Attribution-NonCommercial-ShareAlike 4.0</td>\n",
       "      <td>5.0</td>\n",
       "      <td>https://www.xeno-canto.org/363503</td>\n",
       "      <td>abethr1/XC363503.ogg</td>\n",
       "    </tr>\n",
       "    <tr>\n",
       "      <th>4</th>\n",
       "      <td>abethr1</td>\n",
       "      <td>[]</td>\n",
       "      <td>['call', 'song']</td>\n",
       "      <td>-2.9524</td>\n",
       "      <td>38.2921</td>\n",
       "      <td>Turdus tephronotus</td>\n",
       "      <td>African Bare-eyed Thrush</td>\n",
       "      <td>James Bradley</td>\n",
       "      <td>Creative Commons Attribution-NonCommercial-ShareAlike 4.0</td>\n",
       "      <td>4.5</td>\n",
       "      <td>https://www.xeno-canto.org/363504</td>\n",
       "      <td>abethr1/XC363504.ogg</td>\n",
       "    </tr>\n",
       "  </tbody>\n",
       "</table>\n",
       "</div>"
      ],
      "text/plain": [
       "  primary_label secondary_labels              type  latitude  longitude  \\\n",
       "0       abethr1               []          ['song']    4.3906    38.2788   \n",
       "1       abethr1               []          ['call']   -2.9524    38.2921   \n",
       "2       abethr1               []          ['song']   -2.9524    38.2921   \n",
       "3       abethr1               []          ['song']   -2.9524    38.2921   \n",
       "4       abethr1               []  ['call', 'song']   -2.9524    38.2921   \n",
       "\n",
       "      scientific_name               common_name         author  \\\n",
       "0  Turdus tephronotus  African Bare-eyed Thrush  Rolf A. de By   \n",
       "1  Turdus tephronotus  African Bare-eyed Thrush  James Bradley   \n",
       "2  Turdus tephronotus  African Bare-eyed Thrush  James Bradley   \n",
       "3  Turdus tephronotus  African Bare-eyed Thrush  James Bradley   \n",
       "4  Turdus tephronotus  African Bare-eyed Thrush  James Bradley   \n",
       "\n",
       "                                                     license  rating  \\\n",
       "0  Creative Commons Attribution-NonCommercial-ShareAlike 3.0     4.0   \n",
       "1  Creative Commons Attribution-NonCommercial-ShareAlike 4.0     3.5   \n",
       "2  Creative Commons Attribution-NonCommercial-ShareAlike 4.0     3.5   \n",
       "3  Creative Commons Attribution-NonCommercial-ShareAlike 4.0     5.0   \n",
       "4  Creative Commons Attribution-NonCommercial-ShareAlike 4.0     4.5   \n",
       "\n",
       "                                 url              filename  \n",
       "0  https://www.xeno-canto.org/128013  abethr1/XC128013.ogg  \n",
       "1  https://www.xeno-canto.org/363501  abethr1/XC363501.ogg  \n",
       "2  https://www.xeno-canto.org/363502  abethr1/XC363502.ogg  \n",
       "3  https://www.xeno-canto.org/363503  abethr1/XC363503.ogg  \n",
       "4  https://www.xeno-canto.org/363504  abethr1/XC363504.ogg  "
      ]
     },
     "execution_count": 14,
     "metadata": {},
     "output_type": "execute_result"
    }
   ],
   "source": [
    "trn_df = pd.read_csv(comp_path/'train_metadata.csv')\n",
    "if max_images:\n",
    "    trn_df = trn_df.head(n=max_images)\n",
    "trn_df.head()"
   ]
  },
  {
   "cell_type": "markdown",
   "id": "c0839667-6c30-4c08-99f7-161a891775f5",
   "metadata": {},
   "source": [
    "## Double-Up Classes with One Instance"
   ]
  },
  {
   "cell_type": "code",
   "execution_count": 15,
   "id": "e38e1fec-fd5a-4e8f-bcad-16886e5dfdb8",
   "metadata": {
    "tags": []
   },
   "outputs": [
    {
     "data": {
      "text/plain": [
       "['afpkin1', 'brtcha1', 'crefra2', 'lotcor1', 'whctur2', 'whhsaw1', 'yebsto1']"
      ]
     },
     "execution_count": 15,
     "metadata": {},
     "output_type": "execute_result"
    }
   ],
   "source": [
    "solitary_labels = trn_df.pivot_table('filename', 'primary_label', aggfunc='count').query('filename==1').index.to_list()\n",
    "solitary_labels"
   ]
  },
  {
   "cell_type": "code",
   "execution_count": 16,
   "id": "3f9a71c9-ef61-4990-9e27-56400056b097",
   "metadata": {
    "tags": []
   },
   "outputs": [],
   "source": [
    "solitary_df = trn_df[trn_df.primary_label.isin(solitary_labels)]\n",
    "trn_df = pd.concat([trn_df, solitary_df])"
   ]
  },
  {
   "cell_type": "markdown",
   "id": "95acc66d-fbe0-407c-a135-be9ee20a488d",
   "metadata": {},
   "source": [
    "## Train-Test Split\n",
    "With 5 splits, we can just take the last pair of train and test indices to have an 80:20 train:test split."
   ]
  },
  {
   "cell_type": "code",
   "execution_count": 17,
   "id": "b5a4a13d-3a73-43bf-8bb0-bbb43fd1457e",
   "metadata": {
    "tags": []
   },
   "outputs": [
    {
     "name": "stdout",
     "output_type": "stream",
     "text": [
      "15253 1695 16948\n"
     ]
    }
   ],
   "source": [
    "sss = StratifiedShuffleSplit(n_splits=1, test_size=0.1)\n",
    "splits = sss.split(trn_df, trn_df.primary_label)\n",
    "\n",
    "for trn_idx, tst_idx in splits:\n",
    "    print(len(trn_idx), len(tst_idx), len(trn_idx) + len(tst_idx))"
   ]
  },
  {
   "cell_type": "markdown",
   "id": "e0db13fc-dca5-4901-97f9-3aae4f5ce863",
   "metadata": {},
   "source": [
    "## DataBlock"
   ]
  },
  {
   "cell_type": "code",
   "execution_count": 18,
   "id": "be1be0d2-a2f3-482d-b584-ab6e28fd4d8e",
   "metadata": {},
   "outputs": [],
   "source": [
    "def _get_label(df, label_col):\n",
    "    return df[label_col]\n",
    "\n",
    "get_label = partial(_get_label, label_col='primary_label')"
   ]
  },
  {
   "cell_type": "code",
   "execution_count": 19,
   "id": "cd36eec5-b5a6-42c1-926a-20f154d09a7c",
   "metadata": {
    "tags": []
   },
   "outputs": [],
   "source": [
    "from fastcore.transform import Pipeline\n",
    "\n",
    "# cfg = AudioConfig.BasicSpectrogram()\n",
    "# cfg = AudioConfig.BasicMelSpectrogram(sample_rate=hypp['sample_rate'], n_fft=hypp['n_fft'], mel=hypp['mel'])\n",
    "cfg = AudioConfig.BasicMelSpectrogram(**hypp['audio_config'])\n",
    "a2s = AudioToSpec.from_cfg(cfg)\n",
    "mask_freq = MaskFreq(num_masks=3, size=5)\n",
    "mask_time = MaskTime(num_masks=2, size=100)\n",
    "# item_tfms = [a2s]\n",
    "# batch_tfms = Pipeline([mask_freq, mask_time])\n",
    "item_tfms = [a2s, mask_freq, mask_time]\n",
    "batch_tfms = []"
   ]
  },
  {
   "cell_type": "code",
   "execution_count": 20,
   "id": "0dc5ede0-f22a-4c24-b2c9-baabd77090b3",
   "metadata": {},
   "outputs": [],
   "source": [
    "db = DataBlock(blocks=(AudioBlock, MultiCategoryBlock),\n",
    "               get_x=ColReader('filename', pref=trn_path),\n",
    "               get_y=get_label,\n",
    "               splitter=IndexSplitter(tst_idx),\n",
    "               item_tfms = item_tfms,\n",
    "               batch_tfms = batch_tfms)"
   ]
  },
  {
   "cell_type": "code",
   "execution_count": 21,
   "id": "2d6ea060-5a4d-4fd0-ad57-ab97952cb6b8",
   "metadata": {
    "tags": []
   },
   "outputs": [
    {
     "name": "stdout",
     "output_type": "stream",
     "text": [
      "Setting-up type transforms pipelines\n",
      "Collecting items from       primary_label                  secondary_labels  \\\n",
      "0           abethr1                                []   \n",
      "1           abethr1                                []   \n",
      "2           abethr1                                []   \n",
      "3           abethr1                                []   \n",
      "4           abethr1                                []   \n",
      "...             ...                               ...   \n",
      "5529        crefra2                                []   \n",
      "10173       lotcor1  ['blakit1', 'categr', 'grbcam1']   \n",
      "15167       whctur2                                []   \n",
      "15185       whhsaw1                                []   \n",
      "16508       yebsto1                                []   \n",
      "\n",
      "                                     type  latitude  longitude  \\\n",
      "0                                ['song']    4.3906    38.2788   \n",
      "1                                ['call']   -2.9524    38.2921   \n",
      "2                                ['song']   -2.9524    38.2921   \n",
      "3                                ['song']   -2.9524    38.2921   \n",
      "4                        ['call', 'song']   -2.9524    38.2921   \n",
      "...                                   ...       ...        ...   \n",
      "5529   ['adult', 'call', 'sex uncertain']   -0.5283    31.0002   \n",
      "10173                            ['call']   14.7279   -17.4329   \n",
      "15167                            ['call']    1.3088    34.9554   \n",
      "15185                     ['flight call']    2.2100    31.5620   \n",
      "16508                            ['call']   12.5881   -16.2737   \n",
      "\n",
      "              scientific_name               common_name            author  \\\n",
      "0          Turdus tephronotus  African Bare-eyed Thrush     Rolf A. de By   \n",
      "1          Turdus tephronotus  African Bare-eyed Thrush     James Bradley   \n",
      "2          Turdus tephronotus  African Bare-eyed Thrush     James Bradley   \n",
      "3          Turdus tephronotus  African Bare-eyed Thrush     James Bradley   \n",
      "4          Turdus tephronotus  African Bare-eyed Thrush     James Bradley   \n",
      "...                       ...                       ...               ...   \n",
      "5529      Ortygornis sephaena         Crested Francolin     Niall Perrins   \n",
      "10173    Microcarbo africanus     Long-tailed Cormorant         Bram Piot   \n",
      "15167     Tauraco leucolophus      White-crested Turaco     James Bradley   \n",
      "15185  Psalidoprocne albiceps      White-headed Sawwing  Martin St-Michel   \n",
      "16508           Mycteria ibis       Yellow-billed Stork         Bram Piot   \n",
      "\n",
      "                                                         license  rating  \\\n",
      "0      Creative Commons Attribution-NonCommercial-ShareAlike 3.0     4.0   \n",
      "1      Creative Commons Attribution-NonCommercial-ShareAlike 4.0     3.5   \n",
      "2      Creative Commons Attribution-NonCommercial-ShareAlike 4.0     3.5   \n",
      "3      Creative Commons Attribution-NonCommercial-ShareAlike 4.0     5.0   \n",
      "4      Creative Commons Attribution-NonCommercial-ShareAlike 4.0     4.5   \n",
      "...                                                          ...     ...   \n",
      "5529   Creative Commons Attribution-NonCommercial-ShareAlike 4.0     3.0   \n",
      "10173  Creative Commons Attribution-NonCommercial-ShareAlike 4.0     4.5   \n",
      "15167  Creative Commons Attribution-NonCommercial-ShareAlike 4.0     4.5   \n",
      "15185  Creative Commons Attribution-NonCommercial-ShareAlike 4.0     5.0   \n",
      "16508  Creative Commons Attribution-NonCommercial-ShareAlike 4.0     4.0   \n",
      "\n",
      "                                     url              filename  \n",
      "0      https://www.xeno-canto.org/128013  abethr1/XC128013.ogg  \n",
      "1      https://www.xeno-canto.org/363501  abethr1/XC363501.ogg  \n",
      "2      https://www.xeno-canto.org/363502  abethr1/XC363502.ogg  \n",
      "3      https://www.xeno-canto.org/363503  abethr1/XC363503.ogg  \n",
      "4      https://www.xeno-canto.org/363504  abethr1/XC363504.ogg  \n",
      "...                                  ...                   ...  \n",
      "5529        http://xeno-canto.org/667443  crefra2/XC667443.ogg  \n",
      "10173  https://www.xeno-canto.org/317237  lotcor1/XC317237.ogg  \n",
      "15167  https://www.xeno-canto.org/444635  whctur2/XC444635.ogg  \n",
      "15185  https://www.xeno-canto.org/289267  whhsaw1/XC289267.ogg  \n",
      "16508  https://www.xeno-canto.org/337857  yebsto1/XC337857.ogg  \n",
      "\n",
      "[16948 rows x 12 columns]\n",
      "Found 16948 items\n",
      "2 datasets of sizes 15253,1695\n",
      "Setting up Pipeline: ColReader -- {'cols': 'filename', 'pref': Path('birdclef-2023/train_audio_prep-30s-32k'), 'suff': '', 'label_delim': None} -> partial\n",
      "Setting up Pipeline: partial -> MultiCategorize -- {'vocab': None, 'sort': True, 'add_na': False} -> OneHotEncode -- {'c': None}\n",
      "\n",
      "Building one sample\n",
      "  Pipeline: ColReader -- {'cols': 'filename', 'pref': Path('birdclef-2023/train_audio_prep-30s-32k'), 'suff': '', 'label_delim': None} -> partial\n",
      "    starting from\n",
      "      primary_label                                                         abethr1\n",
      "secondary_labels                                                           []\n",
      "type                                                                 ['call']\n",
      "latitude                                                              -2.9524\n",
      "longitude                                                             38.2921\n",
      "scientific_name                                            Turdus tephronotus\n",
      "common_name                                          African Bare-eyed Thrush\n",
      "author                                                          James Bradley\n",
      "license             Creative Commons Attribution-NonCommercial-ShareAlike 4.0\n",
      "rating                                                                    3.5\n",
      "url                                         https://www.xeno-canto.org/363501\n",
      "filename                                                 abethr1/XC363501.ogg\n",
      "Name: 1, dtype: object\n",
      "    applying ColReader -- {'cols': 'filename', 'pref': Path('birdclef-2023/train_audio_prep-30s-32k'), 'suff': '', 'label_delim': None} gives\n",
      "      birdclef-2023/train_audio_prep-30s-32k/abethr1/XC363501.ogg\n",
      "    applying partial gives\n",
      "      AudioTensor of size 1x960000\n",
      "  Pipeline: partial -> MultiCategorize -- {'vocab': None, 'sort': True, 'add_na': False} -> OneHotEncode -- {'c': None}\n",
      "    starting from\n",
      "      primary_label                                                         abethr1\n",
      "secondary_labels                                                           []\n",
      "type                                                                 ['call']\n",
      "latitude                                                              -2.9524\n",
      "longitude                                                             38.2921\n",
      "scientific_name                                            Turdus tephronotus\n",
      "common_name                                          African Bare-eyed Thrush\n",
      "author                                                          James Bradley\n",
      "license             Creative Commons Attribution-NonCommercial-ShareAlike 4.0\n",
      "rating                                                                    3.5\n",
      "url                                         https://www.xeno-canto.org/363501\n",
      "filename                                                 abethr1/XC363501.ogg\n",
      "Name: 1, dtype: object\n",
      "    applying partial gives\n",
      "      abethr1\n",
      "    applying MultiCategorize -- {'vocab': None, 'sort': True, 'add_na': False} gives\n",
      "      TensorMultiCategory([ 5,  6,  9, 24, 12, 22,  0])\n",
      "    applying OneHotEncode -- {'c': None} gives\n",
      "      TensorMultiCategory of size 31\n",
      "\n",
      "Final sample: (AudioTensor([[0., 0., 0.,  ..., 0., 0., 0.]]), TensorMultiCategory([1., 0., 0., 0., 0., 1., 1., 0., 0., 1., 0., 0., 1., 0., 0.,\n",
      "                     0., 0., 0., 0., 0., 0., 0., 1., 0., 1., 0., 0., 0., 0., 0.,\n",
      "                     0.]))\n",
      "\n",
      "\n",
      "Collecting items from       primary_label                  secondary_labels  \\\n",
      "0           abethr1                                []   \n",
      "1           abethr1                                []   \n",
      "2           abethr1                                []   \n",
      "3           abethr1                                []   \n",
      "4           abethr1                                []   \n",
      "...             ...                               ...   \n",
      "5529        crefra2                                []   \n",
      "10173       lotcor1  ['blakit1', 'categr', 'grbcam1']   \n",
      "15167       whctur2                                []   \n",
      "15185       whhsaw1                                []   \n",
      "16508       yebsto1                                []   \n",
      "\n",
      "                                     type  latitude  longitude  \\\n",
      "0                                ['song']    4.3906    38.2788   \n",
      "1                                ['call']   -2.9524    38.2921   \n",
      "2                                ['song']   -2.9524    38.2921   \n",
      "3                                ['song']   -2.9524    38.2921   \n",
      "4                        ['call', 'song']   -2.9524    38.2921   \n",
      "...                                   ...       ...        ...   \n",
      "5529   ['adult', 'call', 'sex uncertain']   -0.5283    31.0002   \n",
      "10173                            ['call']   14.7279   -17.4329   \n",
      "15167                            ['call']    1.3088    34.9554   \n",
      "15185                     ['flight call']    2.2100    31.5620   \n",
      "16508                            ['call']   12.5881   -16.2737   \n",
      "\n",
      "              scientific_name               common_name            author  \\\n",
      "0          Turdus tephronotus  African Bare-eyed Thrush     Rolf A. de By   \n",
      "1          Turdus tephronotus  African Bare-eyed Thrush     James Bradley   \n",
      "2          Turdus tephronotus  African Bare-eyed Thrush     James Bradley   \n",
      "3          Turdus tephronotus  African Bare-eyed Thrush     James Bradley   \n",
      "4          Turdus tephronotus  African Bare-eyed Thrush     James Bradley   \n",
      "...                       ...                       ...               ...   \n",
      "5529      Ortygornis sephaena         Crested Francolin     Niall Perrins   \n",
      "10173    Microcarbo africanus     Long-tailed Cormorant         Bram Piot   \n",
      "15167     Tauraco leucolophus      White-crested Turaco     James Bradley   \n",
      "15185  Psalidoprocne albiceps      White-headed Sawwing  Martin St-Michel   \n",
      "16508           Mycteria ibis       Yellow-billed Stork         Bram Piot   \n",
      "\n",
      "                                                         license  rating  \\\n",
      "0      Creative Commons Attribution-NonCommercial-ShareAlike 3.0     4.0   \n",
      "1      Creative Commons Attribution-NonCommercial-ShareAlike 4.0     3.5   \n",
      "2      Creative Commons Attribution-NonCommercial-ShareAlike 4.0     3.5   \n",
      "3      Creative Commons Attribution-NonCommercial-ShareAlike 4.0     5.0   \n",
      "4      Creative Commons Attribution-NonCommercial-ShareAlike 4.0     4.5   \n",
      "...                                                          ...     ...   \n",
      "5529   Creative Commons Attribution-NonCommercial-ShareAlike 4.0     3.0   \n",
      "10173  Creative Commons Attribution-NonCommercial-ShareAlike 4.0     4.5   \n",
      "15167  Creative Commons Attribution-NonCommercial-ShareAlike 4.0     4.5   \n",
      "15185  Creative Commons Attribution-NonCommercial-ShareAlike 4.0     5.0   \n",
      "16508  Creative Commons Attribution-NonCommercial-ShareAlike 4.0     4.0   \n",
      "\n",
      "                                     url              filename  \n",
      "0      https://www.xeno-canto.org/128013  abethr1/XC128013.ogg  \n",
      "1      https://www.xeno-canto.org/363501  abethr1/XC363501.ogg  \n",
      "2      https://www.xeno-canto.org/363502  abethr1/XC363502.ogg  \n",
      "3      https://www.xeno-canto.org/363503  abethr1/XC363503.ogg  \n",
      "4      https://www.xeno-canto.org/363504  abethr1/XC363504.ogg  \n",
      "...                                  ...                   ...  \n",
      "5529        http://xeno-canto.org/667443  crefra2/XC667443.ogg  \n",
      "10173  https://www.xeno-canto.org/317237  lotcor1/XC317237.ogg  \n",
      "15167  https://www.xeno-canto.org/444635  whctur2/XC444635.ogg  \n",
      "15185  https://www.xeno-canto.org/289267  whhsaw1/XC289267.ogg  \n",
      "16508  https://www.xeno-canto.org/337857  yebsto1/XC337857.ogg  \n",
      "\n",
      "[16948 rows x 12 columns]\n",
      "Found 16948 items\n",
      "2 datasets of sizes 15253,1695\n",
      "Setting up Pipeline: ColReader -- {'cols': 'filename', 'pref': Path('birdclef-2023/train_audio_prep-30s-32k'), 'suff': '', 'label_delim': None} -> partial\n",
      "Setting up Pipeline: partial -> MultiCategorize -- {'vocab': None, 'sort': True, 'add_na': False} -> OneHotEncode -- {'c': None}\n",
      "Setting up after_item: Pipeline: Resample -> DownmixMono -> AudioToSpec -> MaskFreq -> MaskTime -> ToTensor\n",
      "Setting up before_batch: Pipeline: \n",
      "Setting up after_batch: Pipeline: IntToFloatTensor -- {'div': 255.0, 'div_mask': 1}\n",
      "\n",
      "Building one batch\n",
      "Applying item_tfms to the first sample:\n",
      "  Pipeline: Resample -> DownmixMono -> AudioToSpec -> MaskFreq -> MaskTime -> ToTensor\n",
      "    starting from\n",
      "      (AudioTensor of size 1x960000, TensorMultiCategory of size 31)\n",
      "    applying Resample gives\n",
      "      (AudioTensor of size 1x480000, TensorMultiCategory of size 31)\n",
      "    applying DownmixMono gives\n",
      "      (AudioTensor of size 1x480000, TensorMultiCategory of size 31)\n",
      "    applying AudioToSpec gives\n",
      "      (AudioSpectrogram of size 1x64x1876, TensorMultiCategory of size 31)\n",
      "    applying MaskFreq gives\n",
      "      (AudioSpectrogram of size 1x64x1876, TensorMultiCategory of size 31)\n",
      "    applying MaskTime gives\n",
      "      (AudioSpectrogram of size 1x64x1876, TensorMultiCategory of size 31)\n",
      "    applying ToTensor gives\n",
      "      (AudioSpectrogram of size 1x64x1876, TensorMultiCategory of size 31)\n",
      "\n",
      "Adding the next 3 samples\n",
      "\n",
      "No before_batch transform to apply\n",
      "\n",
      "Collating items in a batch\n",
      "\n",
      "Applying batch_tfms to the batch built\n",
      "  Pipeline: IntToFloatTensor -- {'div': 255.0, 'div_mask': 1}\n",
      "    starting from\n",
      "      (AudioSpectrogram of size 4x1x64x1876, TensorMultiCategory of size 4x31)\n",
      "    applying IntToFloatTensor -- {'div': 255.0, 'div_mask': 1} gives\n",
      "      (AudioSpectrogram of size 4x1x64x1876, TensorMultiCategory of size 4x31)\n"
     ]
    }
   ],
   "source": [
    "db.summary(trn_df)"
   ]
  },
  {
   "cell_type": "markdown",
   "id": "1286f421-afb4-4e5d-b410-69ba690b5db2",
   "metadata": {},
   "source": [
    "## DataLoaders"
   ]
  },
  {
   "cell_type": "code",
   "execution_count": 22,
   "id": "516a3567-dea3-412c-867c-798f0e8ce459",
   "metadata": {
    "tags": []
   },
   "outputs": [],
   "source": [
    "test_dls = db.dataloaders(trn_df, bs=1, )"
   ]
  },
  {
   "cell_type": "code",
   "execution_count": 23,
   "id": "7b5d1429-b0d4-488b-93b2-460fafee0456",
   "metadata": {
    "tags": []
   },
   "outputs": [],
   "source": [
    "test_data = next(iter(test_dls.train))"
   ]
  },
  {
   "cell_type": "code",
   "execution_count": 24,
   "id": "57b74101-9286-44f6-aa2a-299ee8571f34",
   "metadata": {
    "tags": []
   },
   "outputs": [
    {
     "data": {
      "text/plain": [
       "torch.Size([1, 1, 64, 1876])"
      ]
     },
     "execution_count": 24,
     "metadata": {},
     "output_type": "execute_result"
    }
   ],
   "source": [
    "test_data[0].shape"
   ]
  },
  {
   "cell_type": "code",
   "execution_count": 25,
   "id": "6165ab9a-c6f3-4e0f-9432-e7196520bcfd",
   "metadata": {
    "tags": []
   },
   "outputs": [
    {
     "data": {
      "image/png": "[encoded data removed]",
      "text/plain": [
       "<Figure size 400x400 with 3 Axes>"
      ]
     },
     "metadata": {},
     "output_type": "display_data"
    }
   ],
   "source": [
    "test_dls.show_batch()"
   ]
  },
  {
   "cell_type": "code",
   "execution_count": 26,
   "id": "703fc3e9-7d3a-4b23-b5a0-92078f74a753",
   "metadata": {
    "tags": []
   },
   "outputs": [],
   "source": [
    "dls = db.dataloaders(trn_df, bs=hypp['batch_size'], num_workers=8, pin_memory=True, drop_last=True)"
   ]
  },
  {
   "cell_type": "markdown",
   "id": "0cff7120-2178-4b19-a4f2-3e66eb83f7fe",
   "metadata": {},
   "source": [
    "### Show Batch"
   ]
  },
  {
   "cell_type": "code",
   "execution_count": 27,
   "id": "b1a9ab17-7f80-4201-8690-6bfef9e686d9",
   "metadata": {},
   "outputs": [
    {
     "data": {
      "image/png": "[encoded data removed]",
      "text/plain": [
       "<Figure size 400x400 with 4 Axes>"
      ]
     },
     "metadata": {},
     "output_type": "display_data"
    }
   ],
   "source": [
    "dls.show_batch(max_n=10)"
   ]
  },
  {
   "cell_type": "code",
   "execution_count": 28,
   "id": "030ad0ce-83a1-4144-8d20-de5b77e5b899",
   "metadata": {},
   "outputs": [
    {
     "data": {
      "image/png": "[encoded data removed]",
      "text/plain": [
       "<Figure size 400x400 with 4 Axes>"
      ]
     },
     "metadata": {},
     "output_type": "display_data"
    }
   ],
   "source": [
    "dls.show_batch(max_n=10)"
   ]
  },
  {
   "cell_type": "code",
   "execution_count": 29,
   "id": "3fe8e58e-78c2-44e7-8f0a-6770c0a3ff7a",
   "metadata": {},
   "outputs": [
    {
     "data": {
      "image/png": "[encoded data removed]",
      "text/plain": [
       "<Figure size 400x400 with 4 Axes>"
      ]
     },
     "metadata": {},
     "output_type": "display_data"
    }
   ],
   "source": [
    "dls.show_batch(max_n=10)"
   ]
  },
  {
   "cell_type": "markdown",
   "id": "3eb38de0-ff93-462a-8b16-61f54dd4baf2",
   "metadata": {},
   "source": [
    "# Metrics"
   ]
  },
  {
   "cell_type": "markdown",
   "id": "5ec34461-be84-4587-b10c-0fa6a2aebd22",
   "metadata": {},
   "source": [
    "## plot_metrics"
   ]
  },
  {
   "cell_type": "code",
   "execution_count": 30,
   "id": "0dc82de9-64ba-4086-9ce4-c2b8d331c3e3",
   "metadata": {},
   "outputs": [],
   "source": [
    "# https://forums.fast.ai/t/plotting-metrics-after-learning/69937/3\n",
    "from fastai.imports import *\n",
    "from fastai.torch_core import *\n",
    "from fastai.learner import *\n",
    "    \n",
    "@patch\n",
    "@delegates(subplots)\n",
    "def plot_metrics(self: Recorder, nrows=None, ncols=None, figsize=None, **kwargs):\n",
    "    metrics = np.stack(self.values)\n",
    "    names = self.metric_names[1:-1]\n",
    "    n = len(names) - 1\n",
    "    if nrows is None and ncols is None:\n",
    "        nrows = int(math.sqrt(n))\n",
    "        ncols = int(np.ceil(n / nrows))\n",
    "    elif nrows is None: nrows = int(np.ceil(n / ncols))\n",
    "    elif ncols is None: ncols = int(np.ceil(n / nrows))\n",
    "    figsize = figsize or (ncols * 6, nrows * 4)\n",
    "    fig, axs = subplots(nrows, ncols, figsize=figsize, **kwargs)\n",
    "    axs = [ax if i < n else ax.set_axis_off() for i, ax in enumerate(axs.flatten())][:n]\n",
    "    for i, (name, ax) in enumerate(zip(names, [axs[0]] + axs)):\n",
    "        ax.plot(metrics[:, i], color='#1f77b4' if i == 0 else '#ff7f0e', label='valid' if i > 0 else 'train')\n",
    "        ax.set_title(name if i > 1 else 'losses')\n",
    "        ax.legend(loc='best')\n",
    "    plt.show()"
   ]
  },
  {
   "cell_type": "markdown",
   "id": "c74740e0-d775-4459-8fff-750de562e9ad",
   "metadata": {},
   "source": [
    "# Train Model"
   ]
  },
  {
   "cell_type": "code",
   "execution_count": 31,
   "id": "feeaace8-7a22-4c49-a8bb-fc97ecef10ed",
   "metadata": {},
   "outputs": [
    {
     "data": {
      "text/plain": [
       "{'batch_size': 16,\n",
       " 'effective_batch_size': 64,\n",
       " 'n_epochs': 24,\n",
       " 'nn_arch': 'convnext_tiny_in22k',\n",
       " 'freeze_epochs': 1,\n",
       " 'base_lr': 0.02,\n",
       " 'approach': 'Vanilla',\n",
       " 'to_fp16': True,\n",
       " 'audio_config': {'sample_rate': 32000,\n",
       "  'n_fft': 512,\n",
       "  'win_length': None,\n",
       "  'hop_length': None,\n",
       "  'f_min': 10.0,\n",
       "  'f_max': 16000,\n",
       "  'n_mels': 64,\n",
       "  'power': 2.0,\n",
       "  'normalized': False,\n",
       "  'center': True,\n",
       "  'pad_mode': 'reflect',\n",
       "  'mel': True,\n",
       "  'to_db': True}}"
      ]
     },
     "execution_count": 31,
     "metadata": {},
     "output_type": "execute_result"
    }
   ],
   "source": [
    "hypp"
   ]
  },
  {
   "cell_type": "markdown",
   "id": "fd89264d-8439-4e26-a412-901ce1d8c034",
   "metadata": {},
   "source": [
    "## Create Learner"
   ]
  },
  {
   "cell_type": "code",
   "execution_count": 32,
   "id": "48dc1233-fad0-4fc7-bca5-b1f8e7f99c49",
   "metadata": {},
   "outputs": [
    {
     "name": "stdout",
     "output_type": "stream",
     "text": [
      "Switching to mixed precision\n"
     ]
    }
   ],
   "source": [
    "# learn = vision_learner(dls, hypp['nn_arch'], n_in=1, n_out=264, path='.', loss_func=BCEWithLogitsLossFlat(reduction='sum'))\n",
    "# learn = vision_learner(dls, hypp['nn_arch'], n_in=1, n_out=264, path='.', metrics=[error_rate])\n",
    "learn = vision_learner(dls, hypp['nn_arch'], n_in=1, n_out=264, path='.', metrics=[accuracy_multi])\n",
    "if hypp['batch_size'] != hypp['effective_batch_size']:\n",
    "    learn.add_cb(GradientAccumulation(hypp['effective_batch_size']))\n",
    "\n",
    "if hypp['to_fp16']:\n",
    "    print('Switching to mixed precision')\n",
    "    learn = learn.to_fp16()"
   ]
  },
  {
   "cell_type": "code",
   "execution_count": 33,
   "id": "e0955e66-a644-4c12-80a5-33538c53a5fb",
   "metadata": {},
   "outputs": [
    {
     "data": {
      "text/plain": [
       "FlattenedLoss of BCEWithLogitsLoss()"
      ]
     },
     "execution_count": 33,
     "metadata": {},
     "output_type": "execute_result"
    }
   ],
   "source": [
    "learn.loss_func"
   ]
  },
  {
   "cell_type": "code",
   "execution_count": 34,
   "id": "3a43582d-76ea-48c1-b43b-3bfb2fd07ee9",
   "metadata": {},
   "outputs": [
    {
     "data": {
      "text/plain": [
       "<function fastai.optimizer.Adam(params: 'Tensor | Iterable', lr: 'float | slice', mom: 'float' = 0.9, sqr_mom: 'float' = 0.99, eps: 'float' = 1e-05, wd: 'Real' = 0.01, decouple_wd: 'bool' = True) -> 'Optimizer'>"
      ]
     },
     "execution_count": 34,
     "metadata": {},
     "output_type": "execute_result"
    }
   ],
   "source": [
    "learn.opt_func"
   ]
  },
  {
   "cell_type": "code",
   "execution_count": 35,
   "id": "84839624-3762-48ae-beb8-53d49888c00e",
   "metadata": {},
   "outputs": [
    {
     "name": "stdout",
     "output_type": "stream",
     "text": [
      "Start Fit\n",
      "   - before_fit     : [TrainEvalCallback, GradientAccumulation, MixedPrecision, Recorder, ProgressCallback]\n",
      "  Start Epoch Loop\n",
      "     - before_epoch   : [Recorder, ProgressCallback]\n",
      "    Start Train\n",
      "       - before_train   : [TrainEvalCallback, Recorder, ProgressCallback]\n",
      "      Start Batch Loop\n",
      "         - before_batch   : [CastToTensor, MixedPrecision]\n",
      "         - after_pred     : [MixedPrecision]\n",
      "         - after_loss     : [GradientAccumulation, MixedPrecision]\n",
      "         - before_backward: [MixedPrecision]\n",
      "         - before_step    : [GradientAccumulation, MixedPrecision]\n",
      "         - after_step     : [MixedPrecision]\n",
      "         - after_cancel_batch: []\n",
      "         - after_batch    : [TrainEvalCallback, Recorder, ProgressCallback]\n",
      "      End Batch Loop\n",
      "    End Train\n",
      "     - after_cancel_train: [Recorder]\n",
      "     - after_train    : [Recorder, ProgressCallback]\n",
      "    Start Valid\n",
      "       - before_validate: [TrainEvalCallback, Recorder, ProgressCallback]\n",
      "      Start Batch Loop\n",
      "         - **CBs same as train batch**: []\n",
      "      End Batch Loop\n",
      "    End Valid\n",
      "     - after_cancel_validate: [Recorder]\n",
      "     - after_validate : [Recorder, ProgressCallback]\n",
      "  End Epoch Loop\n",
      "   - after_cancel_epoch: []\n",
      "   - after_epoch    : [Recorder]\n",
      "End Fit\n",
      " - after_cancel_fit: []\n",
      " - after_fit      : [MixedPrecision, ProgressCallback]\n"
     ]
    }
   ],
   "source": [
    "learn.show_training_loop()"
   ]
  },
  {
   "cell_type": "code",
   "execution_count": 36,
   "id": "aeac5542-8455-42e5-ad71-fe5ac7b8fa41",
   "metadata": {
    "tags": []
   },
   "outputs": [
    {
     "data": {
      "text/plain": [
       "(#31) ['1','2','3','4','5','a','b','c','d','e'...]"
      ]
     },
     "execution_count": 36,
     "metadata": {},
     "output_type": "execute_result"
    }
   ],
   "source": [
    "L(dls.vocab)"
   ]
  },
  {
   "cell_type": "code",
   "execution_count": 37,
   "id": "4f14b682-dd4b-4cdf-ab22-b73fbab09972",
   "metadata": {
    "tags": []
   },
   "outputs": [
    {
     "ename": "AssertionError",
     "evalue": "Some classes are not in the training set!",
     "output_type": "error",
     "traceback": [
      "\u001b[0;31m---------------------------------------------------------------------------\u001b[0m",
      "\u001b[0;31mAssertionError\u001b[0m                            Traceback (most recent call last)",
      "Cell \u001b[0;32mIn[37], line 2\u001b[0m\n\u001b[1;32m      1\u001b[0m \u001b[38;5;28;01mif\u001b[39;00m \u001b[38;5;129;01mnot\u001b[39;00m debug_on:\n\u001b[0;32m----> 2\u001b[0m     \u001b[38;5;28;01massert\u001b[39;00m \u001b[38;5;28mlen\u001b[39m(dls\u001b[38;5;241m.\u001b[39mvocab) \u001b[38;5;241m==\u001b[39m \u001b[38;5;241m264\u001b[39m, \u001b[38;5;124m'\u001b[39m\u001b[38;5;124mSome classes are not in the training set!\u001b[39m\u001b[38;5;124m'\u001b[39m\n",
      "\u001b[0;31mAssertionError\u001b[0m: Some classes are not in the training set!"
     ]
    }
   ],
   "source": [
    "if not debug_on:\n",
    "    assert len(dls.vocab) == 264, 'Some classes are not in the training set!'"
   ]
  },
  {
   "cell_type": "markdown",
   "id": "5258c617-0a47-41c4-85c2-ec508bc48642",
   "metadata": {},
   "source": [
    "## LR Find - Head"
   ]
  },
  {
   "cell_type": "code",
   "execution_count": null,
   "id": "aab45bc4-751e-4b6a-b868-eb7fac27a819",
   "metadata": {},
   "outputs": [],
   "source": [
    "%%capture --no-stdout --no-display\n",
    "if lr_find_on:\n",
    "    learn.lr_find(suggest_funcs=(valley, minimum, steep, slide))"
   ]
  },
  {
   "cell_type": "markdown",
   "id": "cfa78784-2eb2-4bdc-b0df-c895bfceb0f9",
   "metadata": {},
   "source": [
    "## Fine Tune"
   ]
  },
  {
   "cell_type": "code",
   "execution_count": null,
   "id": "abdad613-08a9-4488-91bb-acde5dfdfa47",
   "metadata": {},
   "outputs": [],
   "source": [
    "learn.add_cb(SaveModelCallback(monitor='error_rate', fname=f\"birdclef-2023-{hypp['nn_arch']}\"))\n",
    "\n",
    "if wandb_on:\n",
    "    print('Adding wandb.ai callback')\n",
    "    learn.add_cb(wandb_callback)"
   ]
  },
  {
   "cell_type": "code",
   "execution_count": null,
   "id": "8577e9b8-0e98-4645-8a16-906acfaea0c3",
   "metadata": {},
   "outputs": [],
   "source": [
    "%%capture --no-stdout --no-display\n",
    "learn.fine_tune(hypp['n_epochs'],\n",
    "                freeze_epochs=hypp['freeze_epochs'], \n",
    "                base_lr=hypp['base_lr'])"
   ]
  },
  {
   "cell_type": "markdown",
   "id": "14fa51f4-ae12-47a2-9a3d-e7a3c08bcc17",
   "metadata": {},
   "source": [
    "## Hack transforms"
   ]
  },
  {
   "cell_type": "code",
   "execution_count": null,
   "id": "600e8666-359f-4657-9933-907db482852e",
   "metadata": {
    "tags": []
   },
   "outputs": [],
   "source": [
    "learn.dls.valid.after_item.fs"
   ]
  },
  {
   "cell_type": "code",
   "execution_count": null,
   "id": "f4b58689-845b-4c0d-8bd7-5cf4d9dded5f",
   "metadata": {
    "tags": []
   },
   "outputs": [],
   "source": [
    "learn.dls.valid.after_item.fs.pop(3)\n",
    "learn.dls.valid.after_item.fs.pop(3)\n",
    "learn.dls.valid.after_item.fs"
   ]
  },
  {
   "cell_type": "markdown",
   "id": "f289a821-d789-4ead-945c-9c1c8426e8d7",
   "metadata": {},
   "source": [
    "## Check Results"
   ]
  },
  {
   "cell_type": "code",
   "execution_count": null,
   "id": "c27b2368-807b-419e-bf84-d0130e3b4474",
   "metadata": {},
   "outputs": [],
   "source": [
    "learn.show_results()"
   ]
  },
  {
   "cell_type": "markdown",
   "id": "2e846e33-a285-40ca-ae0b-bd06f25d32e5",
   "metadata": {},
   "source": [
    "# Interpretation"
   ]
  },
  {
   "cell_type": "code",
   "execution_count": null,
   "id": "9d81559e-3fdf-4d9c-bd3e-b25f204aa7b5",
   "metadata": {},
   "outputs": [],
   "source": [
    "interp = ClassificationInterpretation.from_learner(learn)"
   ]
  },
  {
   "cell_type": "code",
   "execution_count": null,
   "id": "090fc4f9-d137-4c41-8f81-90624fdc46b8",
   "metadata": {},
   "outputs": [],
   "source": [
    "# interp.plot_top_losses(9)"
   ]
  },
  {
   "cell_type": "code",
   "execution_count": null,
   "id": "d0100199-df34-4f5a-95fa-da455d0f09fc",
   "metadata": {},
   "outputs": [],
   "source": [
    "# interp.plot_confusion_matrix()\n",
    "confusion_matrix = interp.confusion_matrix()\n",
    "confusion_matrix.shape"
   ]
  },
  {
   "cell_type": "code",
   "execution_count": null,
   "id": "2adaf50e-d49d-4890-9d87-4b67b83a3307",
   "metadata": {
    "tags": []
   },
   "outputs": [],
   "source": [
    "len(dls.vocab)"
   ]
  },
  {
   "cell_type": "code",
   "execution_count": null,
   "id": "800c4ead-23b3-4976-be80-79717da1858c",
   "metadata": {
    "tags": []
   },
   "outputs": [],
   "source": [
    "confmat_df = pd.DataFrame(confusion_matrix, columns = dls.vocab, index=dls.vocab)"
   ]
  },
  {
   "cell_type": "code",
   "execution_count": null,
   "id": "11b0d54f-8678-4e92-b7b8-fb7385d47aa2",
   "metadata": {
    "tags": []
   },
   "outputs": [],
   "source": [
    "confmat_df"
   ]
  },
  {
   "cell_type": "code",
   "execution_count": null,
   "id": "55e889d8-3a76-4f99-b412-8a1a2246a176",
   "metadata": {},
   "outputs": [],
   "source": [
    "interp.most_confused()[:20]"
   ]
  },
  {
   "cell_type": "markdown",
   "id": "4bb5ae61-544a-494b-85b5-0f462db5b7ad",
   "metadata": {},
   "source": [
    "# Full Validation Assessment"
   ]
  },
  {
   "cell_type": "code",
   "execution_count": null,
   "id": "8177c177-8a8a-4fbf-9cb9-3edc0f7dbd22",
   "metadata": {
    "tags": []
   },
   "outputs": [],
   "source": [
    "comp_path.ls()"
   ]
  },
  {
   "cell_type": "code",
   "execution_count": null,
   "id": "d2ef0728-339f-45bf-8adb-53d79e348f6a",
   "metadata": {
    "tags": []
   },
   "outputs": [],
   "source": [
    "tst_df = trn_df.loc[tst_idx]"
   ]
  },
  {
   "cell_type": "code",
   "execution_count": null,
   "id": "4da885e6-a1be-43c6-9ae4-b2cfd2ad0fc8",
   "metadata": {
    "tags": []
   },
   "outputs": [],
   "source": [
    "tst_dl = learn.dls.test_dl(tst_df)"
   ]
  },
  {
   "cell_type": "code",
   "execution_count": null,
   "id": "b8786576-cd7e-43c8-952d-115a0c9766e1",
   "metadata": {
    "tags": []
   },
   "outputs": [],
   "source": [
    "probs, _, idxs = learn.get_preds(dl=tst_dl, with_decoded=True)"
   ]
  },
  {
   "cell_type": "code",
   "execution_count": null,
   "id": "b53c1ace-ebdd-4dfb-a0ec-559541001f12",
   "metadata": {
    "tags": []
   },
   "outputs": [],
   "source": [
    "probs.shape"
   ]
  },
  {
   "cell_type": "code",
   "execution_count": null,
   "id": "fc9b1696-ab61-4909-bfad-cea38a88b5bf",
   "metadata": {
    "tags": []
   },
   "outputs": [],
   "source": [
    "idxs.shape"
   ]
  },
  {
   "cell_type": "code",
   "execution_count": null,
   "id": "bf43d2e8-9dee-448f-a3a2-5de99a46fa72",
   "metadata": {
    "tags": []
   },
   "outputs": [],
   "source": [
    "sub_sample_df = pd.read_csv(comp_path/'sample_submission.csv')\n",
    "sub_sample_df.head()"
   ]
  },
  {
   "cell_type": "code",
   "execution_count": null,
   "id": "c3eda74a-af4c-426e-93be-943392b2e1de",
   "metadata": {
    "tags": []
   },
   "outputs": [],
   "source": [
    "preds = (probs > 0.5).int()"
   ]
  },
  {
   "cell_type": "code",
   "execution_count": null,
   "id": "c91f14ec-9556-416d-8ade-9b89a0e56efe",
   "metadata": {
    "tags": []
   },
   "outputs": [],
   "source": [
    "preds[0]"
   ]
  },
  {
   "cell_type": "code",
   "execution_count": null,
   "id": "965169e8-82c0-4ce1-9737-90fb41045b1a",
   "metadata": {
    "tags": []
   },
   "outputs": [],
   "source": [
    "sub_df = pd.DataFrame(tst_df.reset_index().filename)\n",
    "sub_df.columns = ['row_id']\n",
    "sub_df = pd.concat([sub_df, pd.DataFrame(preds, columns=learn.dls.vocab)], axis=1)\n",
    "sub_df.head()"
   ]
  },
  {
   "cell_type": "code",
   "execution_count": null,
   "id": "5e7dfc1e-5e6a-4a37-a384-a645176baa94",
   "metadata": {
    "tags": []
   },
   "outputs": [],
   "source": [
    "sub_df.describe()"
   ]
  },
  {
   "cell_type": "code",
   "execution_count": null,
   "id": "72e0510b-75b1-43aa-b6d4-976673d3ee84",
   "metadata": {
    "tags": []
   },
   "outputs": [],
   "source": [
    "truth_df = sub_df.copy()\n",
    "truth_df.iloc[:, 1:] = 0\n",
    "truth_df.describe()"
   ]
  },
  {
   "cell_type": "code",
   "execution_count": null,
   "id": "946b9de4-ab3b-4dc2-8f9e-8213e415d115",
   "metadata": {
    "tags": []
   },
   "outputs": [],
   "source": [
    "for r, c in enumerate(tst_df.primary_label):\n",
    "    truth_df.loc[r, c] = 1\n",
    "truth_df.describe()"
   ]
  },
  {
   "cell_type": "code",
   "execution_count": null,
   "id": "acc0e8a1-4c8d-4854-a24c-bdd7f0bcab3b",
   "metadata": {
    "tags": []
   },
   "outputs": [],
   "source": [
    "# Function provided here: https://www.kaggle.com/competitions/birdclef-2023/overview/evaluation\n",
    "\n",
    "import pandas as pd\n",
    "import sklearn.metrics\n",
    "\n",
    "def padded_cmap(solution, submission, padding_factor=5):\n",
    "    solution = solution.drop(['row_id'], axis=1, errors='ignore')\n",
    "    submission = submission.drop(['row_id'], axis=1, errors='ignore')\n",
    "    new_rows = []\n",
    "    for i in range(padding_factor):\n",
    "        new_rows.append([1 for i in range(len(solution.columns))])\n",
    "    new_rows = pd.DataFrame(new_rows)\n",
    "    new_rows.columns = solution.columns\n",
    "    padded_solution = pd.concat([solution, new_rows]).reset_index(drop=True).copy()\n",
    "    padded_submission = pd.concat([submission, new_rows]).reset_index(drop=True).copy()\n",
    "    score = sklearn.metrics.average_precision_score(\n",
    "        padded_solution.values,\n",
    "        padded_submission.values,\n",
    "        average='macro',\n",
    "    )\n",
    "    return score"
   ]
  },
  {
   "cell_type": "code",
   "execution_count": null,
   "id": "f66fd18a-fcfc-438a-9309-5d636f5c1ae4",
   "metadata": {
    "tags": []
   },
   "outputs": [],
   "source": [
    "pcmap = padded_cmap(truth_df, sub_df)\n",
    "print(pcmap)"
   ]
  },
  {
   "cell_type": "code",
   "execution_count": null,
   "id": "e8411c93-d939-4487-ab6b-c4c3c55b33e2",
   "metadata": {
    "tags": []
   },
   "outputs": [],
   "source": [
    "sub_prob_df = pd.DataFrame(tst_df.reset_index().filename)\n",
    "sub_prob_df.columns = ['row_id']\n",
    "sub_prob_df = pd.concat([sub_prob_df, pd.DataFrame(probs, columns=learn.dls.vocab)], axis=1)\n",
    "pcmap_prob = padded_cmap(truth_df, sub_prob_df)\n",
    "print(pcmap_prob)"
   ]
  },
  {
   "cell_type": "markdown",
   "id": "130c3558-c0cd-45d4-ae76-253f1e4e2f09",
   "metadata": {},
   "source": [
    "For comparison, what is the score when we predict all zeros or all ones?"
   ]
  },
  {
   "cell_type": "code",
   "execution_count": null,
   "id": "ac601ad3-9c58-43c6-835c-ffef05d2582a",
   "metadata": {
    "tags": []
   },
   "outputs": [],
   "source": [
    "sub_df.iloc[:, 1:] = 0\n",
    "padded_cmap(truth_df, sub_df)"
   ]
  },
  {
   "cell_type": "code",
   "execution_count": null,
   "id": "602e2c47-f9fc-4191-8765-d6a5c642978e",
   "metadata": {},
   "outputs": [],
   "source": [
    "sub_df.iloc[:, 1:] = 1\n",
    "padded_cmap(truth_df, sub_df)"
   ]
  },
  {
   "cell_type": "markdown",
   "id": "8586128b-e2ea-4d54-a952-63d111c6bcc4",
   "metadata": {},
   "source": [
    "# Export"
   ]
  },
  {
   "cell_type": "code",
   "execution_count": null,
   "id": "a900d245-dc20-4a5d-8835-44d13ecaea98",
   "metadata": {},
   "outputs": [],
   "source": [
    "# Model\n",
    "# timestr = time.strftime(\"%Y%m%d-%H%M%S\")\n",
    "model_fname = Path(f\"birdclef-2023-{hypp['nn_arch']}-{timestr}.pkl\")\n",
    "if iskaggle:\n",
    "    model_fname = Path('/kaggle/working')/model_fname\n",
    "model_fname"
   ]
  },
  {
   "cell_type": "code",
   "execution_count": null,
   "id": "f0933d82-ccb2-4196-846e-b211d8b0df7f",
   "metadata": {
    "tags": []
   },
   "outputs": [],
   "source": [
    "# Confusion matrix\n",
    "confmat_df.to_csv(f'confmat-{timestr}.csv')"
   ]
  },
  {
   "cell_type": "code",
   "execution_count": null,
   "id": "21fce1ff-9888-4aa2-8374-af6b632b4b6a",
   "metadata": {},
   "outputs": [],
   "source": [
    "if wandb_on:\n",
    "    wandb.log({\n",
    "        'model_fname': str(model_fname),\n",
    "        'padded_cmap': pcmap,\n",
    "        'padded_cmap_probs': pcmap_prob,\n",
    "        'trn_sub_folder': trn_sub_folder\n",
    "    })\n",
    "    wandb.finish()\n",
    "    learn.remove_cbs(wandb_callback)"
   ]
  },
  {
   "cell_type": "code",
   "execution_count": null,
   "id": "12a97f0d-11ed-435b-a55b-15ffb67bcb89",
   "metadata": {},
   "outputs": [],
   "source": [
    "learn.export(model_fname)"
   ]
  },
  {
   "cell_type": "code",
   "execution_count": null,
   "id": "ec56c267-0877-48db-b8cc-0c9e905313cc",
   "metadata": {},
   "outputs": [],
   "source": [
    "# Also save the test indices associated with this model for separate experimentation with threholding / binarization to optimize pF1\n",
    "split_fname = Path(str(model_fname.with_suffix('')) + '-test_indices').with_suffix('.pkl')\n",
    "if iskaggle:\n",
    "    split_fname = Path('/kaggle/working')/split_fname\n",
    "    \n",
    "with open(split_fname, 'wb') as fhandle:\n",
    "    pickle.dump(tst_idx, fhandle)"
   ]
  },
  {
   "cell_type": "code",
   "execution_count": null,
   "id": "b94ff0b3-ac04-4e55-bf72-42b7f65dc3f9",
   "metadata": {},
   "outputs": [],
   "source": [
    "pcmap_prob"
   ]
  },
  {
   "cell_type": "code",
   "execution_count": null,
   "id": "520ec6cf-2d72-48c7-9677-5ae5be4109c6",
   "metadata": {},
   "outputs": [],
   "source": []
  }
 ],
 "metadata": {
  "kernelspec": {
   "display_name": "Python 3 (ipykernel)",
   "language": "python",
   "name": "python3"
  },
  "language_info": {
   "codemirror_mode": {
    "name": "ipython",
    "version": 3
   },
   "file_extension": ".py",
   "mimetype": "text/x-python",
   "name": "python",
   "nbconvert_exporter": "python",
   "pygments_lexer": "ipython3",
   "version": "3.9.16"
  }
 },
 "nbformat": 4,
 "nbformat_minor": 5
}
