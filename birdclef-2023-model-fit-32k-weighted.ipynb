{
 "cells": [
  {
   "cell_type": "markdown",
   "id": "993bf8fc-0aec-4bcf-a25b-01c369ac9945",
   "metadata": {},
   "source": [
    "# BirdCLEF 2023 - Model Fitting 1\n",
    "\n",
    "The goal here is to apply the guidelines and approach presented in the [First Steps, Road to the Top](https://www.kaggle.com/code/jhoward/first-steps-road-to-the-top-part-1) series of notebooks. Following that series, we'll look to use FastAI/PyTorch to create an effective validation set and iterate rapidly!\n",
    "\n",
    "To overall plan is to start with transfer learning to train CNNs on spectrograms.\n",
    "\n",
    "This notebook focuses transfer learning to train CNNs on spectrograms.\n",
    "\n",
    "## Competition\n",
    "https://www.kaggle.com/competitions/birdclef-2023\n",
    "\n",
    "## Inputs\n",
    "Original Ogg files with noise removed, downsampled, and resized to 30s.\n",
    "\n",
    "<!-- | Notebook | Version |\n",
    "| :-------- | :-----: |\n",
    "| https://www.kaggle.com/code/stephenhudson/rsna-smbcd-2023-eda-part-1 | 3 |\n",
    "| https://www.kaggle.com/code/stephenhudson/rsna-smbcd-2023-eda-part-2 | 2 |\n",
    "| https://www.kaggle.com/code/stephenhudson/rsna-smbcd-2023-data-prep | 3 |\n",
    "| https://www.kaggle.com/code/stephenhudson/rsna-smbcd-2023-data-prep-partition | 2 |\n",
    " -->"
   ]
  },
  {
   "cell_type": "markdown",
   "id": "5d360790-5b98-46bd-b440-a2b6a6cb3f1c",
   "metadata": {},
   "source": [
    "# Setup\n",
    "## Kaggle"
   ]
  },
  {
   "cell_type": "code",
   "execution_count": 1,
   "id": "82d64c89-6cd7-4181-9a76-e52f8173c872",
   "metadata": {},
   "outputs": [
    {
     "data": {
      "text/plain": [
       "(#12) [Path('birdclef-2023/train_audio_prep-2'),Path('birdclef-2023/eBird_Taxonomy_v2021.csv'),Path('birdclef-2023/test_soundscapes'),Path('birdclef-2023/train_metadata.csv'),Path('birdclef-2023/train_audio_prep-10s-10s-32k'),Path('birdclef-2023/train_audio_prep-2b'),Path('birdclef-2023/train_audio_prep-20-60s-32k'),Path('birdclef-2023/train_audio'),Path('birdclef-2023/sample_submission.csv'),Path('birdclef-2023/train_audio_prep')...]"
      ]
     },
     "execution_count": 1,
     "metadata": {},
     "output_type": "execute_result"
    }
   ],
   "source": [
    "from fastkaggle import setup_comp, iskaggle\n",
    "\n",
    "comp  = 'birdclef-2023'\n",
    "comp_path = setup_comp(comp, install='fastai timm fastaudio')\n",
    "comp_path.ls()"
   ]
  },
  {
   "cell_type": "markdown",
   "id": "858a85cb-5662-4f60-93b1-4b91b713fa5d",
   "metadata": {},
   "source": [
    "## Imports"
   ]
  },
  {
   "cell_type": "code",
   "execution_count": 2,
   "id": "cfcfd620-4778-48fe-920c-addd4a1c7183",
   "metadata": {},
   "outputs": [
    {
     "name": "stderr",
     "output_type": "stream",
     "text": [
      "/home/sdhca/mambaforge/envs/fastai/lib/python3.9/site-packages/torchvision/io/image.py:13: UserWarning: Failed to load image Python extension: libtorch_cuda_cu.so: cannot open shared object file: No such file or directory\n",
      "  warn(f\"Failed to load image Python extension: {e}\")\n"
     ]
    },
    {
     "name": "stdout",
     "output_type": "stream",
     "text": [
      "2.0.0+cu117\n"
     ]
    }
   ],
   "source": [
    "import pandas as pd\n",
    "\n",
    "from fastai.vision.all import *\n",
    "import torch\n",
    "import timm\n",
    "import sklearn.metrics\n",
    "from sklearn.model_selection import StratifiedKFold, StratifiedShuffleSplit\n",
    "\n",
    "from fastaudio.core.all import *\n",
    "from fastaudio.augment.all import *\n",
    "\n",
    "from pathlib import Path\n",
    "import time\n",
    "import pickle\n",
    "import warnings\n",
    "warnings.filterwarnings('ignore', category=UserWarning, message='TypedStorage is deprecated')\n",
    "\n",
    "print(torch.__version__)"
   ]
  },
  {
   "cell_type": "code",
   "execution_count": 3,
   "id": "8778c5d2-7a89-40c3-b95f-ff9650d6a0ab",
   "metadata": {
    "tags": []
   },
   "outputs": [],
   "source": [
    "assert torch.cuda.is_available(), 'Cuda is not available!'"
   ]
  },
  {
   "cell_type": "markdown",
   "id": "d88a92c9-0967-4d66-b555-9a703835d074",
   "metadata": {},
   "source": [
    "# Config"
   ]
  },
  {
   "cell_type": "code",
   "execution_count": 4,
   "id": "6af78f8a-ccab-4a46-a00b-d0f3d61ad914",
   "metadata": {},
   "outputs": [],
   "source": [
    "wandb_on = True\n",
    "wandb_project = 'birdclef-2023'\n",
    "wandb_group = 'eca_nfnet'\n",
    "\n",
    "lr_find_on = True\n",
    "max_images = None"
   ]
  },
  {
   "cell_type": "markdown",
   "id": "805d692e-0b1c-449b-bdab-dd5107b8bb37",
   "metadata": {},
   "source": [
    "## Debugging"
   ]
  },
  {
   "cell_type": "code",
   "execution_count": 5,
   "id": "1db24747-8f33-48c9-9244-b6808cb7fefc",
   "metadata": {},
   "outputs": [],
   "source": [
    "debug_on = False\n",
    "\n",
    "if debug_on:\n",
    "    lr_find_on = False\n",
    "    wandb_on = False\n",
    "    max_images = 1024  # for debugging. Set to None to use all"
   ]
  },
  {
   "cell_type": "markdown",
   "id": "79a4d62b-4551-4542-aa3f-8ce33b5a021a",
   "metadata": {},
   "source": [
    "## Hyperparameters"
   ]
  },
  {
   "cell_type": "code",
   "execution_count": 6,
   "id": "3275fe03-d7ce-4629-89a6-0bf43992d429",
   "metadata": {},
   "outputs": [],
   "source": [
    "hypp = dict(\n",
    "    wandb_group=wandb_group,\n",
    "    batch_size=8,\n",
    "    effective_batch_size=64,\n",
    "    n_epochs=6,\n",
    "    # nn_arch='mixnet_s',\n",
    "    nn_arch='eca_nfnet_l0',\n",
    "    freeze_epochs=1,\n",
    "    base_lr = 2e-2,\n",
    "    approach='Vanilla',\n",
    "    to_fp16 = True,\n",
    "    n_in=1,\n",
    "    \n",
    "    # Details about data preprocesing\n",
    "    # TODO: have the preprocessing notebook save the details or specify them in yaml so they can\n",
    "    #       be automatically picked up here\n",
    "    data_prep_details=dict(\n",
    "        prep_dir='train_audio_prep-10s-10s-32k',\n",
    "        sample_rate=32000,\n",
    "        remove_silence_type=None,\n",
    "        remove_silence_threshold=None,\n",
    "        min_size_ms=None,\n",
    "        max_size_ms=None,\n",
    "        start_size_ms=10000,\n",
    "        end_size_ms=10000,\n",
    "        train_size_ms=20000,\n",
    "        min_rating=2.5\n",
    "    ),\n",
    "\n",
    "    # Spectrogram augmentation\n",
    "    audio_augmentation=dict(\n",
    "        add_freq_mask=True,\n",
    "        freq_mask_num=3,\n",
    "        freq_mask_size=5,\n",
    "        add_time_mask=True,\n",
    "        time_mask_num=2,\n",
    "        time_mask_size=50,\n",
    "        add_delta=False\n",
    "    ),\n",
    "    \n",
    "    # For BasicMelSpectrogram\n",
    "    spectrogram_type='Mel',\n",
    "    audio_config=dict(\n",
    "        sample_rate=32000,\n",
    "        n_fft=768,      # candidate for tuning\n",
    "        win_length=None,\n",
    "        hop_length=282,  # candidate for tuning\n",
    "        f_min=80.0,\n",
    "        f_max=16000,\n",
    "        n_mels=361,      # candidate for tuning\n",
    "        # top_db=100,      # candidate for tuning\n",
    "        power=1,\n",
    "        normalized=False,\n",
    "        center=True,\n",
    "        pad_mode='reflect',\n",
    "        mel=True,\n",
    "        to_db=False\n",
    "    )\n",
    "    \n",
    "    # For BasicMFCC\n",
    "    # spectrogram_type='MFCC',\n",
    "    # audio_config=dict(\n",
    "    #     sample_rate=32000,\n",
    "    #     n_mfcc=40,\n",
    "    #     dct_type=2,\n",
    "    #     norm='ortho',\n",
    "    #     log_mels=False,\n",
    "    #     melkwargs=dict(\n",
    "    #         n_fft=512,\n",
    "    #         hop_length=None,\n",
    "    #         n_mels=64\n",
    "    #     )\n",
    "    # )\n",
    ")\n",
    "\n",
    "trn_path = comp_path/hypp['data_prep_details']['prep_dir']"
   ]
  },
  {
   "cell_type": "code",
   "execution_count": 7,
   "id": "36e9073c-b1bc-4ce0-906e-29857a5b708f",
   "metadata": {
    "tags": []
   },
   "outputs": [],
   "source": [
    "if debug_on:\n",
    "    hypp['n_epochs'] = 1"
   ]
  },
  {
   "cell_type": "markdown",
   "id": "60597128-eba2-46cf-8cb8-39a3275433c6",
   "metadata": {},
   "source": [
    "## Weights & Biases"
   ]
  },
  {
   "cell_type": "code",
   "execution_count": 8,
   "id": "e8cd61da-ea03-4d92-bea0-5469bb861ae2",
   "metadata": {},
   "outputs": [
    {
     "name": "stderr",
     "output_type": "stream",
     "text": [
      "\u001b[34m\u001b[1mwandb\u001b[0m: Currently logged in as: \u001b[33msdhca\u001b[0m. Use \u001b[1m`wandb login --relogin`\u001b[0m to force relogin\n"
     ]
    },
    {
     "data": {
      "text/html": [
       "Tracking run with wandb version 0.15.2"
      ],
      "text/plain": [
       "<IPython.core.display.HTML object>"
      ]
     },
     "metadata": {},
     "output_type": "display_data"
    },
    {
     "data": {
      "text/html": [
       "Run data is saved locally in <code>/home/sdhca/Code/kaggle/birdclef-2023/wandb/run-20230513_122319-1apur92g</code>"
      ],
      "text/plain": [
       "<IPython.core.display.HTML object>"
      ]
     },
     "metadata": {},
     "output_type": "display_data"
    },
    {
     "data": {
      "text/html": [
       "Syncing run <strong><a href='https://wandb.ai/sdhca/birdclef-2023/runs/1apur92g' target=\"_blank\">eager-sun-75</a></strong> to <a href='https://wandb.ai/sdhca/birdclef-2023' target=\"_blank\">Weights & Biases</a> (<a href='https://wandb.me/run' target=\"_blank\">docs</a>)<br/>"
      ],
      "text/plain": [
       "<IPython.core.display.HTML object>"
      ]
     },
     "metadata": {},
     "output_type": "display_data"
    },
    {
     "data": {
      "text/html": [
       " View project at <a href='https://wandb.ai/sdhca/birdclef-2023' target=\"_blank\">https://wandb.ai/sdhca/birdclef-2023</a>"
      ],
      "text/plain": [
       "<IPython.core.display.HTML object>"
      ]
     },
     "metadata": {},
     "output_type": "display_data"
    },
    {
     "data": {
      "text/html": [
       " View run at <a href='https://wandb.ai/sdhca/birdclef-2023/runs/1apur92g' target=\"_blank\">https://wandb.ai/sdhca/birdclef-2023/runs/1apur92g</a>"
      ],
      "text/plain": [
       "<IPython.core.display.HTML object>"
      ]
     },
     "metadata": {},
     "output_type": "display_data"
    }
   ],
   "source": [
    "wandb_run = None\n",
    "if wandb_on:\n",
    "    import wandb\n",
    "    from fastai.callback.wandb import *\n",
    "    wandb.init(project=wandb_project, config=hypp)\n",
    "    wandb_callback = WandbCallback(log_preds=False)"
   ]
  },
  {
   "cell_type": "markdown",
   "id": "9796e33e-dbf0-47b1-bfeb-59e617ad9a92",
   "metadata": {},
   "source": [
    "# Model Selection\n",
    "\n",
    "Useful resources:\n",
    " * https://timm.fast.ai/\n",
    " * https://huggingface.co/docs/timm/results\n",
    " * https://ai.googleblog.com/2019/05/efficientnet-improving-accuracy-and.html\n",
    " * https://towardsdatascience.com/does-imagenet-pretraining-work-for-chest-radiography-images-covid-19-2e2d9f5f0875\n",
    " * https://towardsdatascience.com/getting-started-with-pytorch-image-models-timm-a-practitioners-guide-4e77b4bf9055\n",
    " \n",
    " Let's start with `mixnet_s` for fast iteration because it has only 4 M parameters."
   ]
  },
  {
   "cell_type": "code",
   "execution_count": 9,
   "id": "ef53953b-a33b-49da-a81c-e7a8f5b3c297",
   "metadata": {},
   "outputs": [
    {
     "data": {
      "text/plain": [
       "['mixnet_l', 'mixnet_m', 'mixnet_s', 'mixnet_xl']"
      ]
     },
     "execution_count": 9,
     "metadata": {},
     "output_type": "execute_result"
    }
   ],
   "source": [
    "timm.list_models('mixnet*', pretrained=True)"
   ]
  },
  {
   "cell_type": "code",
   "execution_count": 10,
   "id": "bc905507-a3a7-4983-a836-18e08fc733dc",
   "metadata": {},
   "outputs": [
    {
     "data": {
      "text/plain": [
       "['eca_botnext26ts_256',\n",
       " 'eca_halonext26ts',\n",
       " 'eca_nfnet_l0',\n",
       " 'eca_nfnet_l1',\n",
       " 'eca_nfnet_l2',\n",
       " 'eca_resnet33ts',\n",
       " 'eca_resnext26ts',\n",
       " 'ecaresnet26t',\n",
       " 'ecaresnet50d',\n",
       " 'ecaresnet50d_pruned',\n",
       " 'ecaresnet50t',\n",
       " 'ecaresnet101d',\n",
       " 'ecaresnet101d_pruned',\n",
       " 'ecaresnet269d',\n",
       " 'ecaresnetlight']"
      ]
     },
     "execution_count": 10,
     "metadata": {},
     "output_type": "execute_result"
    }
   ],
   "source": [
    "timm.list_models('*eca*', pretrained=True)"
   ]
  },
  {
   "cell_type": "code",
   "execution_count": 11,
   "id": "b69571b6-f4db-471e-af4a-bc380ebf2bef",
   "metadata": {},
   "outputs": [
    {
     "data": {
      "text/plain": [
       "{'url': 'https://github.com/rwightman/pytorch-image-models/releases/download/v0.1-weights/ecanfnet_l0_ra2-e3e9ac50.pth',\n",
       " 'num_classes': 1000,\n",
       " 'input_size': (3, 224, 224),\n",
       " 'pool_size': (7, 7),\n",
       " 'crop_pct': 1.0,\n",
       " 'interpolation': 'bicubic',\n",
       " 'mean': (0.485, 0.456, 0.406),\n",
       " 'std': (0.229, 0.224, 0.225),\n",
       " 'first_conv': 'stem.conv1',\n",
       " 'classifier': 'head.fc',\n",
       " 'hf_hub_id': 'timm/eca_nfnet_l0',\n",
       " 'test_input_size': (3, 288, 288),\n",
       " 'architecture': 'eca_nfnet_l0'}"
      ]
     },
     "execution_count": 11,
     "metadata": {},
     "output_type": "execute_result"
    }
   ],
   "source": [
    "# model = timm.create_model(hypp['nn_arch'], pretrained=True, num_classes=2, in_chans=3)\n",
    "model, model_cfg = create_timm_model(hypp['nn_arch'], n_out=264, pretrained=True, n_in=1)\n",
    "model_cfg"
   ]
  },
  {
   "cell_type": "code",
   "execution_count": 12,
   "id": "281fe088-e2f2-4820-8165-582bbb6c64b3",
   "metadata": {},
   "outputs": [
    {
     "data": {
      "text/plain": [
       "224"
      ]
     },
     "execution_count": 12,
     "metadata": {},
     "output_type": "execute_result"
    }
   ],
   "source": [
    "img_size = model_cfg['input_size'][1]\n",
    "img_size"
   ]
  },
  {
   "cell_type": "code",
   "execution_count": 13,
   "id": "b2831ecc-86a9-4f40-975e-1af1e8d34d39",
   "metadata": {},
   "outputs": [],
   "source": [
    "del(model)"
   ]
  },
  {
   "cell_type": "markdown",
   "id": "581968b5-78be-4540-b292-4a57eb60f3aa",
   "metadata": {},
   "source": [
    "# Splits & DataLoaders"
   ]
  },
  {
   "cell_type": "code",
   "execution_count": 14,
   "id": "337cd564-86c2-4925-ba8b-e7a8a6507af6",
   "metadata": {
    "tags": []
   },
   "outputs": [
    {
     "data": {
      "text/plain": [
       "(#12) [Path('birdclef-2023/train_audio_prep-2'),Path('birdclef-2023/eBird_Taxonomy_v2021.csv'),Path('birdclef-2023/test_soundscapes'),Path('birdclef-2023/train_metadata.csv'),Path('birdclef-2023/train_audio_prep-10s-10s-32k'),Path('birdclef-2023/train_audio_prep-2b'),Path('birdclef-2023/train_audio_prep-20-60s-32k'),Path('birdclef-2023/train_audio'),Path('birdclef-2023/sample_submission.csv'),Path('birdclef-2023/train_audio_prep')...]"
      ]
     },
     "execution_count": 14,
     "metadata": {},
     "output_type": "execute_result"
    }
   ],
   "source": [
    "comp_path.ls()"
   ]
  },
  {
   "cell_type": "code",
   "execution_count": 15,
   "id": "1a77b062-7087-4079-9d91-24920a442db3",
   "metadata": {},
   "outputs": [
    {
     "data": {
      "text/html": [
       "<div>\n",
       "<style scoped>\n",
       "    .dataframe tbody tr th:only-of-type {\n",
       "        vertical-align: middle;\n",
       "    }\n",
       "\n",
       "    .dataframe tbody tr th {\n",
       "        vertical-align: top;\n",
       "    }\n",
       "\n",
       "    .dataframe thead th {\n",
       "        text-align: right;\n",
       "    }\n",
       "</style>\n",
       "<table border=\"1\" class=\"dataframe\">\n",
       "  <thead>\n",
       "    <tr style=\"text-align: right;\">\n",
       "      <th></th>\n",
       "      <th>primary_label</th>\n",
       "      <th>secondary_labels</th>\n",
       "      <th>type</th>\n",
       "      <th>latitude</th>\n",
       "      <th>longitude</th>\n",
       "      <th>scientific_name</th>\n",
       "      <th>common_name</th>\n",
       "      <th>author</th>\n",
       "      <th>license</th>\n",
       "      <th>rating</th>\n",
       "      <th>url</th>\n",
       "      <th>filename</th>\n",
       "    </tr>\n",
       "  </thead>\n",
       "  <tbody>\n",
       "    <tr>\n",
       "      <th>0</th>\n",
       "      <td>abethr1</td>\n",
       "      <td>[]</td>\n",
       "      <td>['song']</td>\n",
       "      <td>4.3906</td>\n",
       "      <td>38.2788</td>\n",
       "      <td>Turdus tephronotus</td>\n",
       "      <td>African Bare-eyed Thrush</td>\n",
       "      <td>Rolf A. de By</td>\n",
       "      <td>Creative Commons Attribution-NonCommercial-ShareAlike 3.0</td>\n",
       "      <td>4.0</td>\n",
       "      <td>https://www.xeno-canto.org/128013</td>\n",
       "      <td>abethr1/XC128013.ogg</td>\n",
       "    </tr>\n",
       "    <tr>\n",
       "      <th>1</th>\n",
       "      <td>abethr1</td>\n",
       "      <td>[]</td>\n",
       "      <td>['call']</td>\n",
       "      <td>-2.9524</td>\n",
       "      <td>38.2921</td>\n",
       "      <td>Turdus tephronotus</td>\n",
       "      <td>African Bare-eyed Thrush</td>\n",
       "      <td>James Bradley</td>\n",
       "      <td>Creative Commons Attribution-NonCommercial-ShareAlike 4.0</td>\n",
       "      <td>3.5</td>\n",
       "      <td>https://www.xeno-canto.org/363501</td>\n",
       "      <td>abethr1/XC363501.ogg</td>\n",
       "    </tr>\n",
       "    <tr>\n",
       "      <th>2</th>\n",
       "      <td>abethr1</td>\n",
       "      <td>[]</td>\n",
       "      <td>['song']</td>\n",
       "      <td>-2.9524</td>\n",
       "      <td>38.2921</td>\n",
       "      <td>Turdus tephronotus</td>\n",
       "      <td>African Bare-eyed Thrush</td>\n",
       "      <td>James Bradley</td>\n",
       "      <td>Creative Commons Attribution-NonCommercial-ShareAlike 4.0</td>\n",
       "      <td>3.5</td>\n",
       "      <td>https://www.xeno-canto.org/363502</td>\n",
       "      <td>abethr1/XC363502.ogg</td>\n",
       "    </tr>\n",
       "    <tr>\n",
       "      <th>3</th>\n",
       "      <td>abethr1</td>\n",
       "      <td>[]</td>\n",
       "      <td>['song']</td>\n",
       "      <td>-2.9524</td>\n",
       "      <td>38.2921</td>\n",
       "      <td>Turdus tephronotus</td>\n",
       "      <td>African Bare-eyed Thrush</td>\n",
       "      <td>James Bradley</td>\n",
       "      <td>Creative Commons Attribution-NonCommercial-ShareAlike 4.0</td>\n",
       "      <td>5.0</td>\n",
       "      <td>https://www.xeno-canto.org/363503</td>\n",
       "      <td>abethr1/XC363503.ogg</td>\n",
       "    </tr>\n",
       "    <tr>\n",
       "      <th>4</th>\n",
       "      <td>abethr1</td>\n",
       "      <td>[]</td>\n",
       "      <td>['call', 'song']</td>\n",
       "      <td>-2.9524</td>\n",
       "      <td>38.2921</td>\n",
       "      <td>Turdus tephronotus</td>\n",
       "      <td>African Bare-eyed Thrush</td>\n",
       "      <td>James Bradley</td>\n",
       "      <td>Creative Commons Attribution-NonCommercial-ShareAlike 4.0</td>\n",
       "      <td>4.5</td>\n",
       "      <td>https://www.xeno-canto.org/363504</td>\n",
       "      <td>abethr1/XC363504.ogg</td>\n",
       "    </tr>\n",
       "  </tbody>\n",
       "</table>\n",
       "</div>"
      ],
      "text/plain": [
       "  primary_label secondary_labels              type  latitude  longitude  \\\n",
       "0       abethr1               []          ['song']    4.3906    38.2788   \n",
       "1       abethr1               []          ['call']   -2.9524    38.2921   \n",
       "2       abethr1               []          ['song']   -2.9524    38.2921   \n",
       "3       abethr1               []          ['song']   -2.9524    38.2921   \n",
       "4       abethr1               []  ['call', 'song']   -2.9524    38.2921   \n",
       "\n",
       "      scientific_name               common_name         author  \\\n",
       "0  Turdus tephronotus  African Bare-eyed Thrush  Rolf A. de By   \n",
       "1  Turdus tephronotus  African Bare-eyed Thrush  James Bradley   \n",
       "2  Turdus tephronotus  African Bare-eyed Thrush  James Bradley   \n",
       "3  Turdus tephronotus  African Bare-eyed Thrush  James Bradley   \n",
       "4  Turdus tephronotus  African Bare-eyed Thrush  James Bradley   \n",
       "\n",
       "                                                     license  rating  \\\n",
       "0  Creative Commons Attribution-NonCommercial-ShareAlike 3.0     4.0   \n",
       "1  Creative Commons Attribution-NonCommercial-ShareAlike 4.0     3.5   \n",
       "2  Creative Commons Attribution-NonCommercial-ShareAlike 4.0     3.5   \n",
       "3  Creative Commons Attribution-NonCommercial-ShareAlike 4.0     5.0   \n",
       "4  Creative Commons Attribution-NonCommercial-ShareAlike 4.0     4.5   \n",
       "\n",
       "                                 url              filename  \n",
       "0  https://www.xeno-canto.org/128013  abethr1/XC128013.ogg  \n",
       "1  https://www.xeno-canto.org/363501  abethr1/XC363501.ogg  \n",
       "2  https://www.xeno-canto.org/363502  abethr1/XC363502.ogg  \n",
       "3  https://www.xeno-canto.org/363503  abethr1/XC363503.ogg  \n",
       "4  https://www.xeno-canto.org/363504  abethr1/XC363504.ogg  "
      ]
     },
     "execution_count": 15,
     "metadata": {},
     "output_type": "execute_result"
    }
   ],
   "source": [
    "trn_df = pd.read_csv(comp_path/'train_metadata.csv')\n",
    "if max_images:\n",
    "    trn_df = trn_df.head(n=max_images)\n",
    "trn_df.head()"
   ]
  },
  {
   "cell_type": "markdown",
   "id": "52f8c46f-71d9-4dbe-9bc8-335d8ad620ed",
   "metadata": {},
   "source": [
    "## Filter by audio rating"
   ]
  },
  {
   "cell_type": "code",
   "execution_count": 16,
   "id": "d3a80050-905e-420e-a2f5-a1e66823d3bf",
   "metadata": {
    "tags": []
   },
   "outputs": [
    {
     "data": {
      "text/plain": [
       "16941"
      ]
     },
     "execution_count": 16,
     "metadata": {},
     "output_type": "execute_result"
    }
   ],
   "source": [
    "len(trn_df)"
   ]
  },
  {
   "cell_type": "code",
   "execution_count": 17,
   "id": "28a5250e-84e9-4dce-b953-ea24e8d737e2",
   "metadata": {
    "tags": []
   },
   "outputs": [
    {
     "name": "stdout",
     "output_type": "stream",
     "text": [
      "15580\n"
     ]
    }
   ],
   "source": [
    "if hypp['data_prep_details']['min_rating']:\n",
    "    trn_df = trn_df[trn_df.rating >= hypp['data_prep_details']['min_rating']]\n",
    "    print(len(trn_df))"
   ]
  },
  {
   "cell_type": "markdown",
   "id": "c0839667-6c30-4c08-99f7-161a891775f5",
   "metadata": {},
   "source": [
    "## Double-Up Classes with One Instance"
   ]
  },
  {
   "cell_type": "code",
   "execution_count": 18,
   "id": "e38e1fec-fd5a-4e8f-bcad-16886e5dfdb8",
   "metadata": {
    "tags": []
   },
   "outputs": [
    {
     "data": {
      "text/plain": [
       "['afpkin1',\n",
       " 'brtcha1',\n",
       " 'crefra2',\n",
       " 'golher1',\n",
       " 'lotcor1',\n",
       " 'whctur2',\n",
       " 'whhsaw1',\n",
       " 'yebsto1']"
      ]
     },
     "execution_count": 18,
     "metadata": {},
     "output_type": "execute_result"
    }
   ],
   "source": [
    "solitary_labels = trn_df.pivot_table('filename', 'primary_label', aggfunc='count').query('filename==1').index.to_list()\n",
    "solitary_labels"
   ]
  },
  {
   "cell_type": "code",
   "execution_count": 19,
   "id": "3f9a71c9-ef61-4990-9e27-56400056b097",
   "metadata": {
    "tags": []
   },
   "outputs": [],
   "source": [
    "solitary_df = trn_df[trn_df.primary_label.isin(solitary_labels)]\n",
    "trn_df = pd.concat([trn_df, solitary_df])"
   ]
  },
  {
   "cell_type": "code",
   "execution_count": 20,
   "id": "1afa3d68-bbcd-4373-b5e6-10dcd68e1535",
   "metadata": {
    "tags": []
   },
   "outputs": [],
   "source": [
    "trn_df = trn_df.reset_index()"
   ]
  },
  {
   "cell_type": "markdown",
   "id": "95acc66d-fbe0-407c-a135-be9ee20a488d",
   "metadata": {},
   "source": [
    "## Train-Test Split\n",
    "With 5 splits, we can just take the last pair of train and test indices to have an 80:20 train:test split."
   ]
  },
  {
   "cell_type": "code",
   "execution_count": 21,
   "id": "b5a4a13d-3a73-43bf-8bb0-bbb43fd1457e",
   "metadata": {
    "tags": []
   },
   "outputs": [
    {
     "name": "stdout",
     "output_type": "stream",
     "text": [
      "14029 1559 15588\n"
     ]
    }
   ],
   "source": [
    "sss = StratifiedShuffleSplit(n_splits=1, test_size=0.1)\n",
    "splits = sss.split(trn_df, trn_df.primary_label)\n",
    "\n",
    "for trn_idx, tst_idx in splits:\n",
    "    print(len(trn_idx), len(tst_idx), len(trn_idx) + len(tst_idx))"
   ]
  },
  {
   "cell_type": "markdown",
   "id": "e0db13fc-dca5-4901-97f9-3aae4f5ce863",
   "metadata": {},
   "source": [
    "## DataBlock"
   ]
  },
  {
   "cell_type": "code",
   "execution_count": 22,
   "id": "be1be0d2-a2f3-482d-b584-ab6e28fd4d8e",
   "metadata": {},
   "outputs": [],
   "source": [
    "def _get_label(df, label_col):\n",
    "    return df[label_col]\n",
    "\n",
    "get_label = partial(_get_label, label_col='primary_label')"
   ]
  },
  {
   "cell_type": "code",
   "execution_count": 23,
   "id": "cd36eec5-b5a6-42c1-926a-20f154d09a7c",
   "metadata": {
    "tags": []
   },
   "outputs": [
    {
     "name": "stderr",
     "output_type": "stream",
     "text": [
      "/home/sdhca/mambaforge/envs/fastai/lib/python3.9/site-packages/torchaudio/functional/functional.py:576: UserWarning: At least one mel filterbank has all zero values. The value for `n_mels` (361) may be set too high. Or, the value for `n_freqs` (385) may be set too low.\n",
      "  warnings.warn(\n"
     ]
    }
   ],
   "source": [
    "from fastcore.transform import Pipeline\n",
    "\n",
    "# Mel Spectrogram or MFCC\n",
    "resize = ResizeSignal(duration=20e3)\n",
    "cfg = AudioConfig.BasicMelSpectrogram(**hypp['audio_config'])\n",
    "a2s = AudioToSpec.from_cfg(cfg)\n",
    "# cfg = AudioConfig.BasicMFCC(**hypp['audio_config'])\n",
    "# a2s = AudioToMFCC.from_cfg(cfg)\n",
    "item_tfms = [resize, a2s]\n",
    "batch_tfms = []\n",
    "\n",
    "# Add spectrogram augmentation\n",
    "hypp_aug=hypp['audio_augmentation']\n",
    "\n",
    "if hypp_aug['add_freq_mask']:\n",
    "    mask_freq = MaskFreq(num_masks=hypp_aug['freq_mask_num'], size=hypp_aug['freq_mask_size'])\n",
    "    item_tfms.append(mask_freq)\n",
    "    # mask_freq = MaskFreqGPU(num_masks=hypp_aug['freq_mask_num'], min_size=hypp_aug['freq_mask_size'], max_size=hypp_aug['freq_mask_size'])\n",
    "    # batch_tfms.append(mask_freq)\n",
    "\n",
    "    \n",
    "if hypp_aug['add_time_mask']:\n",
    "    mask_time = MaskTime(num_masks=hypp_aug['time_mask_num'], size=hypp_aug['time_mask_size'])\n",
    "    item_tfms.append(mask_time)\n",
    "    # mask_time = MaskTimeGPU(num_masks=hypp_aug['time_mask_num'], min_size=hypp_aug['time_mask_size'], max_size=hypp_aug['time_mask_size'])\n",
    "    # batch_tfms.append(mask_time)\n",
    "\n",
    "# delta = Delta()\n",
    "# batch_tfms = Pipeline([mask_freq, mask_time])\n",
    "# item_tfms = [a2s, delta, mask_freq, mask_time]"
   ]
  },
  {
   "cell_type": "code",
   "execution_count": 24,
   "id": "0dc5ede0-f22a-4c24-b2c9-baabd77090b3",
   "metadata": {},
   "outputs": [],
   "source": [
    "db = DataBlock(blocks=(AudioBlock, CategoryBlock),\n",
    "               get_x=ColReader('filename', pref=trn_path),\n",
    "               get_y=get_label,\n",
    "               splitter=IndexSplitter(tst_idx),\n",
    "               item_tfms = item_tfms,\n",
    "               batch_tfms = batch_tfms)"
   ]
  },
  {
   "cell_type": "code",
   "execution_count": 25,
   "id": "2d6ea060-5a4d-4fd0-ad57-ab97952cb6b8",
   "metadata": {
    "tags": []
   },
   "outputs": [
    {
     "name": "stdout",
     "output_type": "stream",
     "text": [
      "Setting-up type transforms pipelines\n",
      "Collecting items from        index primary_label                  secondary_labels  \\\n",
      "0          0       abethr1                                []   \n",
      "1          1       abethr1                                []   \n",
      "2          2       abethr1                                []   \n",
      "3          3       abethr1                                []   \n",
      "4          4       abethr1                                []   \n",
      "...      ...           ...                               ...   \n",
      "15583   7684       golher1                                []   \n",
      "15584  10173       lotcor1  ['blakit1', 'categr', 'grbcam1']   \n",
      "15585  15167       whctur2                                []   \n",
      "15586  15185       whhsaw1                                []   \n",
      "15587  16508       yebsto1                                []   \n",
      "\n",
      "                   type  latitude  longitude         scientific_name  \\\n",
      "0              ['song']    4.3906    38.2788      Turdus tephronotus   \n",
      "1              ['call']   -2.9524    38.2921      Turdus tephronotus   \n",
      "2              ['song']   -2.9524    38.2921      Turdus tephronotus   \n",
      "3              ['song']   -2.9524    38.2921      Turdus tephronotus   \n",
      "4      ['call', 'song']   -2.9524    38.2921      Turdus tephronotus   \n",
      "...                 ...       ...        ...                     ...   \n",
      "15583              ['']  -21.2489    32.3486           Ardea goliath   \n",
      "15584          ['call']   14.7279   -17.4329    Microcarbo africanus   \n",
      "15585          ['call']    1.3088    34.9554     Tauraco leucolophus   \n",
      "15586   ['flight call']    2.2100    31.5620  Psalidoprocne albiceps   \n",
      "15587          ['call']   12.5881   -16.2737           Mycteria ibis   \n",
      "\n",
      "                    common_name            author  \\\n",
      "0      African Bare-eyed Thrush     Rolf A. de By   \n",
      "1      African Bare-eyed Thrush     James Bradley   \n",
      "2      African Bare-eyed Thrush     James Bradley   \n",
      "3      African Bare-eyed Thrush     James Bradley   \n",
      "4      African Bare-eyed Thrush     James Bradley   \n",
      "...                         ...               ...   \n",
      "15583             Goliath Heron     Derek Solomon   \n",
      "15584     Long-tailed Cormorant         Bram Piot   \n",
      "15585      White-crested Turaco     James Bradley   \n",
      "15586      White-headed Sawwing  Martin St-Michel   \n",
      "15587       Yellow-billed Stork         Bram Piot   \n",
      "\n",
      "                                                         license  rating  \\\n",
      "0      Creative Commons Attribution-NonCommercial-ShareAlike 3.0     4.0   \n",
      "1      Creative Commons Attribution-NonCommercial-ShareAlike 4.0     3.5   \n",
      "2      Creative Commons Attribution-NonCommercial-ShareAlike 4.0     3.5   \n",
      "3      Creative Commons Attribution-NonCommercial-ShareAlike 4.0     5.0   \n",
      "4      Creative Commons Attribution-NonCommercial-ShareAlike 4.0     4.5   \n",
      "...                                                          ...     ...   \n",
      "15583  Creative Commons Attribution-NonCommercial-ShareAlike 4.0     4.0   \n",
      "15584  Creative Commons Attribution-NonCommercial-ShareAlike 4.0     4.5   \n",
      "15585  Creative Commons Attribution-NonCommercial-ShareAlike 4.0     4.5   \n",
      "15586  Creative Commons Attribution-NonCommercial-ShareAlike 4.0     5.0   \n",
      "15587  Creative Commons Attribution-NonCommercial-ShareAlike 4.0     4.0   \n",
      "\n",
      "                                     url              filename  \n",
      "0      https://www.xeno-canto.org/128013  abethr1/XC128013.ogg  \n",
      "1      https://www.xeno-canto.org/363501  abethr1/XC363501.ogg  \n",
      "2      https://www.xeno-canto.org/363502  abethr1/XC363502.ogg  \n",
      "3      https://www.xeno-canto.org/363503  abethr1/XC363503.ogg  \n",
      "4      https://www.xeno-canto.org/363504  abethr1/XC363504.ogg  \n",
      "...                                  ...                   ...  \n",
      "15583      https://xeno-canto.org/722271  golher1/XC722271.ogg  \n",
      "15584  https://www.xeno-canto.org/317237  lotcor1/XC317237.ogg  \n",
      "15585  https://www.xeno-canto.org/444635  whctur2/XC444635.ogg  \n",
      "15586  https://www.xeno-canto.org/289267  whhsaw1/XC289267.ogg  \n",
      "15587  https://www.xeno-canto.org/337857  yebsto1/XC337857.ogg  \n",
      "\n",
      "[15588 rows x 13 columns]\n",
      "Found 15588 items\n",
      "2 datasets of sizes 14029,1559\n",
      "Setting up Pipeline: ColReader -- {'cols': 'filename', 'pref': Path('birdclef-2023/train_audio_prep-10s-10s-32k'), 'suff': '', 'label_delim': None} -> partial\n",
      "Setting up Pipeline: partial -> Categorize -- {'vocab': None, 'sort': True, 'add_na': False}\n",
      "\n",
      "Building one sample\n",
      "  Pipeline: ColReader -- {'cols': 'filename', 'pref': Path('birdclef-2023/train_audio_prep-10s-10s-32k'), 'suff': '', 'label_delim': None} -> partial\n",
      "    starting from\n",
      "      index                                                                       0\n",
      "primary_label                                                         abethr1\n",
      "secondary_labels                                                           []\n",
      "type                                                                 ['song']\n",
      "latitude                                                               4.3906\n",
      "longitude                                                             38.2788\n",
      "scientific_name                                            Turdus tephronotus\n",
      "common_name                                          African Bare-eyed Thrush\n",
      "author                                                          Rolf A. de By\n",
      "license             Creative Commons Attribution-NonCommercial-ShareAlike 3.0\n",
      "rating                                                                    4.0\n",
      "url                                         https://www.xeno-canto.org/128013\n",
      "filename                                                 abethr1/XC128013.ogg\n",
      "Name: 0, dtype: object\n",
      "    applying ColReader -- {'cols': 'filename', 'pref': Path('birdclef-2023/train_audio_prep-10s-10s-32k'), 'suff': '', 'label_delim': None} gives\n",
      "      birdclef-2023/train_audio_prep-10s-10s-32k/abethr1/XC128013.ogg\n",
      "    applying partial gives\n",
      "      AudioTensor of size 1x640000\n",
      "  Pipeline: partial -> Categorize -- {'vocab': None, 'sort': True, 'add_na': False}\n",
      "    starting from\n",
      "      index                                                                       0\n",
      "primary_label                                                         abethr1\n",
      "secondary_labels                                                           []\n",
      "type                                                                 ['song']\n",
      "latitude                                                               4.3906\n",
      "longitude                                                             38.2788\n",
      "scientific_name                                            Turdus tephronotus\n",
      "common_name                                          African Bare-eyed Thrush\n",
      "author                                                          Rolf A. de By\n",
      "license             Creative Commons Attribution-NonCommercial-ShareAlike 3.0\n",
      "rating                                                                    4.0\n",
      "url                                         https://www.xeno-canto.org/128013\n",
      "filename                                                 abethr1/XC128013.ogg\n",
      "Name: 0, dtype: object\n",
      "    applying partial gives\n",
      "      abethr1\n",
      "    applying Categorize -- {'vocab': None, 'sort': True, 'add_na': False} gives\n",
      "      TensorCategory(0)\n",
      "\n",
      "Final sample: (AudioTensor([[ 0.0000,  0.0000,  0.0000,  ..., -0.0007,  0.0010, -0.0008]]), TensorCategory(0))\n",
      "\n",
      "\n",
      "Collecting items from        index primary_label                  secondary_labels  \\\n",
      "0          0       abethr1                                []   \n",
      "1          1       abethr1                                []   \n",
      "2          2       abethr1                                []   \n",
      "3          3       abethr1                                []   \n",
      "4          4       abethr1                                []   \n",
      "...      ...           ...                               ...   \n",
      "15583   7684       golher1                                []   \n",
      "15584  10173       lotcor1  ['blakit1', 'categr', 'grbcam1']   \n",
      "15585  15167       whctur2                                []   \n",
      "15586  15185       whhsaw1                                []   \n",
      "15587  16508       yebsto1                                []   \n",
      "\n",
      "                   type  latitude  longitude         scientific_name  \\\n",
      "0              ['song']    4.3906    38.2788      Turdus tephronotus   \n",
      "1              ['call']   -2.9524    38.2921      Turdus tephronotus   \n",
      "2              ['song']   -2.9524    38.2921      Turdus tephronotus   \n",
      "3              ['song']   -2.9524    38.2921      Turdus tephronotus   \n",
      "4      ['call', 'song']   -2.9524    38.2921      Turdus tephronotus   \n",
      "...                 ...       ...        ...                     ...   \n",
      "15583              ['']  -21.2489    32.3486           Ardea goliath   \n",
      "15584          ['call']   14.7279   -17.4329    Microcarbo africanus   \n",
      "15585          ['call']    1.3088    34.9554     Tauraco leucolophus   \n",
      "15586   ['flight call']    2.2100    31.5620  Psalidoprocne albiceps   \n",
      "15587          ['call']   12.5881   -16.2737           Mycteria ibis   \n",
      "\n",
      "                    common_name            author  \\\n",
      "0      African Bare-eyed Thrush     Rolf A. de By   \n",
      "1      African Bare-eyed Thrush     James Bradley   \n",
      "2      African Bare-eyed Thrush     James Bradley   \n",
      "3      African Bare-eyed Thrush     James Bradley   \n",
      "4      African Bare-eyed Thrush     James Bradley   \n",
      "...                         ...               ...   \n",
      "15583             Goliath Heron     Derek Solomon   \n",
      "15584     Long-tailed Cormorant         Bram Piot   \n",
      "15585      White-crested Turaco     James Bradley   \n",
      "15586      White-headed Sawwing  Martin St-Michel   \n",
      "15587       Yellow-billed Stork         Bram Piot   \n",
      "\n",
      "                                                         license  rating  \\\n",
      "0      Creative Commons Attribution-NonCommercial-ShareAlike 3.0     4.0   \n",
      "1      Creative Commons Attribution-NonCommercial-ShareAlike 4.0     3.5   \n",
      "2      Creative Commons Attribution-NonCommercial-ShareAlike 4.0     3.5   \n",
      "3      Creative Commons Attribution-NonCommercial-ShareAlike 4.0     5.0   \n",
      "4      Creative Commons Attribution-NonCommercial-ShareAlike 4.0     4.5   \n",
      "...                                                          ...     ...   \n",
      "15583  Creative Commons Attribution-NonCommercial-ShareAlike 4.0     4.0   \n",
      "15584  Creative Commons Attribution-NonCommercial-ShareAlike 4.0     4.5   \n",
      "15585  Creative Commons Attribution-NonCommercial-ShareAlike 4.0     4.5   \n",
      "15586  Creative Commons Attribution-NonCommercial-ShareAlike 4.0     5.0   \n",
      "15587  Creative Commons Attribution-NonCommercial-ShareAlike 4.0     4.0   \n",
      "\n",
      "                                     url              filename  \n",
      "0      https://www.xeno-canto.org/128013  abethr1/XC128013.ogg  \n",
      "1      https://www.xeno-canto.org/363501  abethr1/XC363501.ogg  \n",
      "2      https://www.xeno-canto.org/363502  abethr1/XC363502.ogg  \n",
      "3      https://www.xeno-canto.org/363503  abethr1/XC363503.ogg  \n",
      "4      https://www.xeno-canto.org/363504  abethr1/XC363504.ogg  \n",
      "...                                  ...                   ...  \n",
      "15583      https://xeno-canto.org/722271  golher1/XC722271.ogg  \n",
      "15584  https://www.xeno-canto.org/317237  lotcor1/XC317237.ogg  \n",
      "15585  https://www.xeno-canto.org/444635  whctur2/XC444635.ogg  \n",
      "15586  https://www.xeno-canto.org/289267  whhsaw1/XC289267.ogg  \n",
      "15587  https://www.xeno-canto.org/337857  yebsto1/XC337857.ogg  \n",
      "\n",
      "[15588 rows x 13 columns]\n",
      "Found 15588 items\n",
      "2 datasets of sizes 14029,1559\n",
      "Setting up Pipeline: ColReader -- {'cols': 'filename', 'pref': Path('birdclef-2023/train_audio_prep-10s-10s-32k'), 'suff': '', 'label_delim': None} -> partial\n",
      "Setting up Pipeline: partial -> Categorize -- {'vocab': None, 'sort': True, 'add_na': False}\n",
      "Setting up after_item: Pipeline: Resample -> DownmixMono -> ResizeSignal -> AudioToSpec -> MaskFreq -> MaskTime -> ToTensor\n",
      "Setting up before_batch: Pipeline: \n",
      "Setting up after_batch: Pipeline: IntToFloatTensor -- {'div': 255.0, 'div_mask': 1}\n",
      "\n",
      "Building one batch\n",
      "Applying item_tfms to the first sample:\n",
      "  Pipeline: Resample -> DownmixMono -> ResizeSignal -> AudioToSpec -> MaskFreq -> MaskTime -> ToTensor\n",
      "    starting from\n",
      "      (AudioTensor of size 1x640000, TensorCategory(0))\n",
      "    applying Resample gives\n",
      "      (AudioTensor of size 1x320000, TensorCategory(0))\n",
      "    applying DownmixMono gives\n",
      "      (AudioTensor of size 1x320000, TensorCategory(0))\n",
      "    applying ResizeSignal gives\n",
      "      (AudioTensor of size 1x320000, TensorCategory(0))\n",
      "    applying AudioToSpec gives\n",
      "      (AudioSpectrogram of size 1x361x1135, TensorCategory(0))\n",
      "    applying MaskFreq gives\n",
      "      (AudioSpectrogram of size 1x361x1135, TensorCategory(0))\n",
      "    applying MaskTime gives\n",
      "      (AudioSpectrogram of size 1x361x1135, TensorCategory(0))\n",
      "    applying ToTensor gives\n",
      "      (AudioSpectrogram of size 1x361x1135, TensorCategory(0))\n",
      "\n",
      "Adding the next 3 samples\n",
      "\n",
      "No before_batch transform to apply\n",
      "\n",
      "Collating items in a batch\n",
      "\n",
      "Applying batch_tfms to the batch built\n",
      "  Pipeline: IntToFloatTensor -- {'div': 255.0, 'div_mask': 1}\n",
      "    starting from\n",
      "      (AudioSpectrogram of size 4x1x361x1135, TensorCategory([0, 0, 0, 0], device='cuda:0'))\n",
      "    applying IntToFloatTensor -- {'div': 255.0, 'div_mask': 1} gives\n",
      "      (AudioSpectrogram of size 4x1x361x1135, TensorCategory([0, 0, 0, 0], device='cuda:0'))\n"
     ]
    }
   ],
   "source": [
    "db.summary(trn_df)"
   ]
  },
  {
   "cell_type": "markdown",
   "id": "1286f421-afb4-4e5d-b410-69ba690b5db2",
   "metadata": {},
   "source": [
    "## DataLoaders"
   ]
  },
  {
   "cell_type": "code",
   "execution_count": 26,
   "id": "516a3567-dea3-412c-867c-798f0e8ce459",
   "metadata": {
    "tags": []
   },
   "outputs": [],
   "source": [
    "test_dls = db.dataloaders(trn_df, bs=1)"
   ]
  },
  {
   "cell_type": "code",
   "execution_count": 27,
   "id": "7b5d1429-b0d4-488b-93b2-460fafee0456",
   "metadata": {
    "tags": []
   },
   "outputs": [],
   "source": [
    "test_data = next(iter(test_dls.train))"
   ]
  },
  {
   "cell_type": "code",
   "execution_count": 28,
   "id": "57b74101-9286-44f6-aa2a-299ee8571f34",
   "metadata": {
    "tags": []
   },
   "outputs": [
    {
     "data": {
      "text/plain": [
       "torch.Size([1, 1, 361, 1135])"
      ]
     },
     "execution_count": 28,
     "metadata": {},
     "output_type": "execute_result"
    }
   ],
   "source": [
    "test_data[0].shape"
   ]
  },
  {
   "cell_type": "code",
   "execution_count": 29,
   "id": "6165ab9a-c6f3-4e0f-9432-e7196520bcfd",
   "metadata": {
    "tags": []
   },
   "outputs": [
    {
     "data": {
      "image/png": "[encoded data removed]",
      "text/plain": [
       "<Figure size 400x400 with 3 Axes>"
      ]
     },
     "metadata": {},
     "output_type": "display_data"
    }
   ],
   "source": [
    "test_dls.show_batch()"
   ]
  },
  {
   "cell_type": "markdown",
   "id": "ca7b70ee-45fc-4cb1-aca7-70b53f6f388d",
   "metadata": {},
   "source": [
    "### Class weights"
   ]
  },
  {
   "cell_type": "code",
   "execution_count": 30,
   "id": "ec24bf75-44e9-400a-a54c-08f438babfa5",
   "metadata": {
    "tags": []
   },
   "outputs": [],
   "source": [
    "class_counts = pd.value_counts(trn_df.primary_label)\n",
    "class_wt_dict = dict(1 / class_counts)\n",
    "class_wts = trn_df.primary_label.map(class_wt_dict).values"
   ]
  },
  {
   "cell_type": "code",
   "execution_count": 31,
   "id": "f67b11ed-4198-40c7-8fd3-f8df786dc802",
   "metadata": {
    "tags": []
   },
   "outputs": [
    {
     "data": {
      "text/plain": [
       "264"
      ]
     },
     "execution_count": 31,
     "metadata": {},
     "output_type": "execute_result"
    }
   ],
   "source": [
    "len(class_wt_dict)"
   ]
  },
  {
   "cell_type": "code",
   "execution_count": 32,
   "id": "703fc3e9-7d3a-4b23-b5a0-92078f74a753",
   "metadata": {
    "tags": []
   },
   "outputs": [],
   "source": [
    "dls = db.dataloaders(trn_df, bs=hypp['batch_size'], num_workers=8, pin_memory=True, drop_last=False, wgts=class_wts)\n",
    "# dls = db.dataloaders(trn_df, bs=hypp['batch_size'], num_workers=8, pin_memory=True, drop_last=True)"
   ]
  },
  {
   "cell_type": "code",
   "execution_count": 33,
   "id": "367584ca-e393-4720-bae7-1bdc5eb947d2",
   "metadata": {},
   "outputs": [
    {
     "data": {
      "text/plain": [
       "(#264) ['abethr1','abhori1','abythr1','afbfly1','afdfly1','afecuc1','affeag1','afgfly1','afghor1','afmdov1'...]"
      ]
     },
     "execution_count": 33,
     "metadata": {},
     "output_type": "execute_result"
    }
   ],
   "source": [
    "L(dls.vocab)"
   ]
  },
  {
   "cell_type": "code",
   "execution_count": 34,
   "id": "8cdcdbea-99cb-4ee1-9a68-2a5e772a60ba",
   "metadata": {},
   "outputs": [],
   "source": [
    "if not debug_on:\n",
    "    assert len(dls.vocab) == 264, 'Some classes are not in the training set!'"
   ]
  },
  {
   "cell_type": "markdown",
   "id": "0cff7120-2178-4b19-a4f2-3e66eb83f7fe",
   "metadata": {},
   "source": [
    "### Show Batch"
   ]
  },
  {
   "cell_type": "code",
   "execution_count": 35,
   "id": "b1a9ab17-7f80-4201-8690-6bfef9e686d9",
   "metadata": {},
   "outputs": [
    {
     "data": {
      "image/png": "[encoded data removed]",
      "text/plain": [
       "<Figure size 400x400 with 4 Axes>"
      ]
     },
     "metadata": {},
     "output_type": "display_data"
    }
   ],
   "source": [
    "dls.show_batch(max_n=10)"
   ]
  },
  {
   "cell_type": "code",
   "execution_count": 36,
   "id": "030ad0ce-83a1-4144-8d20-de5b77e5b899",
   "metadata": {},
   "outputs": [
    {
     "data": {
      "image/png": "[encoded data removed]",
      "text/plain": [
       "<Figure size 400x400 with 4 Axes>"
      ]
     },
     "metadata": {},
     "output_type": "display_data"
    }
   ],
   "source": [
    "dls.show_batch(max_n=10)"
   ]
  },
  {
   "cell_type": "code",
   "execution_count": 37,
   "id": "3fe8e58e-78c2-44e7-8f0a-6770c0a3ff7a",
   "metadata": {},
   "outputs": [
    {
     "data": {
      "image/png": "[encoded data removed]",
      "text/plain": [
       "<Figure size 400x400 with 4 Axes>"
      ]
     },
     "metadata": {},
     "output_type": "display_data"
    }
   ],
   "source": [
    "dls.show_batch(max_n=10)"
   ]
  },
  {
   "cell_type": "markdown",
   "id": "3eb38de0-ff93-462a-8b16-61f54dd4baf2",
   "metadata": {},
   "source": [
    "# Metrics\n",
    "## cmAP, cmAP_probs, padded_cmAP, padded_cmAP_probs\n",
    "Metrics calculated here aren't comparable to those on the Kaggle leaderboard because the proportion of real samples to padding samples differ. \n",
    "\n",
    "On kaggle, we have 5 padding rows for about 24,000 real rows (1:4800). Here (before any major resampling), are setting the padding factor to 1 because that already gives a higher ratio of padded rows (~1:1600)"
   ]
  },
  {
   "cell_type": "code",
   "execution_count": 38,
   "id": "694dd103-dada-44f3-b165-7a69cc8ed41b",
   "metadata": {
    "tags": []
   },
   "outputs": [],
   "source": [
    "from sklearn.metrics import average_precision_score\n",
    "\n",
    "# Debugging variables and metric function\n",
    "preds_test = None\n",
    "labels_test = None\n",
    "probs_test = None\n",
    "labels_oh_test = None\n",
    "padding_test = None\n",
    "\n",
    "def cmAP_debug(preds, labels, num_classes=264):\n",
    "    global preds_test\n",
    "    preds_test = preds\n",
    "    probs = F.one_hot(torch.argmax(preds, dim=1)).cpu().numpy()\n",
    "    global probs_test\n",
    "    probs_test = probs\n",
    "    global labels_test\n",
    "    labels_test = labels\n",
    "    labels_oh = F.one_hot(labels, num_classes=num_classes).cpu().numpy()\n",
    "    global labels_oh_test\n",
    "    labels_oh_test = labels_oh\n",
    "    return average_precision_score(labels_oh, probs, average='macro')\n",
    "\n",
    "def padded_cmAP_debug(preds, labels, num_classes=264, padding_factor=1):\n",
    "    global preds_test\n",
    "    preds_test = preds\n",
    "    padding = torch.ones((padding_factor, num_classes))\n",
    "    global padding_test\n",
    "    padding_test = padding\n",
    "    probs = torch.cat((F.one_hot(torch.argmax(preds, dim=1), num_classes=num_classes).cpu(), padding)).numpy()\n",
    "    global probs_test\n",
    "    probs_test = probs\n",
    "    labels_oh = torch.cat((F.one_hot(labels, num_classes=num_classes).cpu(), padding)).numpy()\n",
    "    global labels_oh_test\n",
    "    labels_oh_test = labels_oh\n",
    "    return average_precision_score(labels_oh, probs, average='macro')\n",
    "    # return 0.0\n",
    "\n",
    "\n",
    "def cmAP(preds, labels, num_classes=264):\n",
    "    probs = F.one_hot(torch.argmax(preds, dim=1), num_classes=num_classes).cpu().numpy()\n",
    "    labels_oh = F.one_hot(labels, num_classes=num_classes).cpu().numpy()\n",
    "    return average_precision_score(labels_oh, probs, average='macro')\n",
    "\n",
    "def cmAP_probs(preds, labels, num_classes=264):\n",
    "    probs = F.softmax(preds, dim=1).cpu().numpy()\n",
    "    labels_oh = F.one_hot(labels, num_classes=num_classes).cpu().numpy()\n",
    "    return average_precision_score(labels_oh, probs, average='macro')\n",
    "\n",
    "def padded_cmAP(preds, labels, num_classes=264, padding_factor=1):\n",
    "    padding = torch.ones((padding_factor, num_classes))\n",
    "    probs = torch.cat((F.one_hot(torch.argmax(preds, dim=1), num_classes=num_classes).cpu(), padding)).numpy()\n",
    "    labels_oh = torch.cat((F.one_hot(labels, num_classes=num_classes).cpu(), padding)).numpy()\n",
    "    return average_precision_score(labels_oh, probs, average='macro')\n",
    "\n",
    "def padded_cmAP_probs(preds, labels, num_classes=264, padding_factor=1):\n",
    "    padding = torch.ones((padding_factor, num_classes))\n",
    "    probs = torch.cat((F.softmax(preds, dim=1).cpu(), padding)).numpy()\n",
    "    labels_oh = torch.cat((F.one_hot(labels, num_classes=num_classes).cpu(), padding)).numpy()\n",
    "    return average_precision_score(labels_oh, probs, average='macro')"
   ]
  },
  {
   "cell_type": "markdown",
   "id": "5ec34461-be84-4587-b10c-0fa6a2aebd22",
   "metadata": {},
   "source": [
    "## plot_metrics"
   ]
  },
  {
   "cell_type": "code",
   "execution_count": 39,
   "id": "0dc82de9-64ba-4086-9ce4-c2b8d331c3e3",
   "metadata": {},
   "outputs": [],
   "source": [
    "# https://forums.fast.ai/t/plotting-metrics-after-learning/69937/3\n",
    "from fastai.imports import *\n",
    "from fastai.torch_core import *\n",
    "from fastai.learner import *\n",
    "    \n",
    "@patch\n",
    "@delegates(subplots)\n",
    "def plot_metrics(self: Recorder, nrows=None, ncols=None, figsize=None, **kwargs):\n",
    "    metrics = np.stack(self.values)\n",
    "    names = self.metric_names[1:-1]\n",
    "    n = len(names) - 1\n",
    "    if nrows is None and ncols is None:\n",
    "        nrows = int(math.sqrt(n))\n",
    "        ncols = int(np.ceil(n / nrows))\n",
    "    elif nrows is None: nrows = int(np.ceil(n / ncols))\n",
    "    elif ncols is None: ncols = int(np.ceil(n / nrows))\n",
    "    figsize = figsize or (ncols * 6, nrows * 4)\n",
    "    fig, axs = subplots(nrows, ncols, figsize=figsize, **kwargs)\n",
    "    axs = [ax if i < n else ax.set_axis_off() for i, ax in enumerate(axs.flatten())][:n]\n",
    "    for i, (name, ax) in enumerate(zip(names, [axs[0]] + axs)):\n",
    "        ax.plot(metrics[:, i], color='#1f77b4' if i == 0 else '#ff7f0e', label='valid' if i > 0 else 'train')\n",
    "        ax.set_title(name if i > 1 else 'losses')\n",
    "        ax.legend(loc='best')\n",
    "    plt.show()"
   ]
  },
  {
   "cell_type": "markdown",
   "id": "c74740e0-d775-4459-8fff-750de562e9ad",
   "metadata": {},
   "source": [
    "# Train Model"
   ]
  },
  {
   "cell_type": "code",
   "execution_count": 40,
   "id": "feeaace8-7a22-4c49-a8bb-fc97ecef10ed",
   "metadata": {},
   "outputs": [
    {
     "data": {
      "text/plain": [
       "{'wandb_group': 'eca_nfnet',\n",
       " 'batch_size': 8,\n",
       " 'effective_batch_size': 64,\n",
       " 'n_epochs': 6,\n",
       " 'nn_arch': 'eca_nfnet_l0',\n",
       " 'freeze_epochs': 1,\n",
       " 'base_lr': 0.02,\n",
       " 'approach': 'Vanilla',\n",
       " 'to_fp16': True,\n",
       " 'n_in': 1,\n",
       " 'data_prep_details': {'prep_dir': 'train_audio_prep-10s-10s-32k',\n",
       "  'sample_rate': 32000,\n",
       "  'remove_silence_type': None,\n",
       "  'remove_silence_threshold': None,\n",
       "  'min_size_ms': None,\n",
       "  'max_size_ms': None,\n",
       "  'start_size_ms': 10000,\n",
       "  'end_size_ms': 10000,\n",
       "  'train_size_ms': 20000,\n",
       "  'min_rating': 2.5},\n",
       " 'audio_augmentation': {'add_freq_mask': True,\n",
       "  'freq_mask_num': 3,\n",
       "  'freq_mask_size': 5,\n",
       "  'add_time_mask': True,\n",
       "  'time_mask_num': 2,\n",
       "  'time_mask_size': 50,\n",
       "  'add_delta': False},\n",
       " 'spectrogram_type': 'Mel',\n",
       " 'audio_config': {'sample_rate': 32000,\n",
       "  'n_fft': 768,\n",
       "  'win_length': None,\n",
       "  'hop_length': 282,\n",
       "  'f_min': 80.0,\n",
       "  'f_max': 16000,\n",
       "  'n_mels': 361,\n",
       "  'power': 1,\n",
       "  'normalized': False,\n",
       "  'center': True,\n",
       "  'pad_mode': 'reflect',\n",
       "  'mel': True,\n",
       "  'to_db': False}}"
      ]
     },
     "execution_count": 40,
     "metadata": {},
     "output_type": "execute_result"
    }
   ],
   "source": [
    "hypp"
   ]
  },
  {
   "cell_type": "markdown",
   "id": "fd89264d-8439-4e26-a412-901ce1d8c034",
   "metadata": {},
   "source": [
    "## Create Learner"
   ]
  },
  {
   "cell_type": "code",
   "execution_count": 41,
   "id": "48dc1233-fad0-4fc7-bca5-b1f8e7f99c49",
   "metadata": {},
   "outputs": [
    {
     "name": "stdout",
     "output_type": "stream",
     "text": [
      "Switching to mixed precision\n"
     ]
    }
   ],
   "source": [
    "# learn = vision_learner(dls, hypp['nn_arch'], n_in=1, n_out=264, path='.', loss_func=BCEWithLogitsLossFlat(reduction='sum'))\n",
    "# learn = vision_learner(dls, hypp['nn_arch'], n_in=hypp['n_in'], n_out=264, path='.', metrics=[error_rate, APScoreMulti(sigmoid=False)])\n",
    "# learn = vision_learner(dls, hypp['nn_arch'], n_in=hypp['n_in'], n_out=264, path='.', metrics=[error_rate, cmAP, cmAP_probs, padded_cmAP_debug])\n",
    "# learn = vision_learner(dls, hypp['nn_arch'], n_in=hypp['n_in'], n_out=264, path='.', metrics=[error_rate, cmAP, cmAP_probs, padded_cmAP, padded_cmAP_probs])\n",
    "# learn = vision_learner(dls, hypp['nn_arch'], n_in=hypp['n_in'], n_out=264, path='.', metrics=[error_rate, padded_cmAP, padded_cmAP_probs])\n",
    "\n",
    "# We want to pad cmAP metrics once per validation epoch, not once per validation batch\n",
    "padded_cmAP_score = AccumMetric(padded_cmAP, flatten=False, name='padded_cmAP')\n",
    "padded_cmAP_probs_score = AccumMetric(padded_cmAP_probs, flatten=False, name='padded_cmAP_probs')\n",
    "learn = vision_learner(dls, hypp['nn_arch'], n_in=hypp['n_in'], n_out=264, path='.', metrics=[error_rate, padded_cmAP_score, padded_cmAP_probs_score])\n",
    "\n",
    "if hypp['batch_size'] != hypp['effective_batch_size']:\n",
    "    learn.add_cb(GradientAccumulation(hypp['effective_batch_size']))\n",
    "\n",
    "if hypp['to_fp16']:\n",
    "    print('Switching to mixed precision')\n",
    "    learn = learn.to_fp16()"
   ]
  },
  {
   "cell_type": "code",
   "execution_count": 42,
   "id": "e0955e66-a644-4c12-80a5-33538c53a5fb",
   "metadata": {},
   "outputs": [
    {
     "data": {
      "text/plain": [
       "FlattenedLoss of CrossEntropyLoss()"
      ]
     },
     "execution_count": 42,
     "metadata": {},
     "output_type": "execute_result"
    }
   ],
   "source": [
    "learn.loss_func"
   ]
  },
  {
   "cell_type": "code",
   "execution_count": 43,
   "id": "3a43582d-76ea-48c1-b43b-3bfb2fd07ee9",
   "metadata": {},
   "outputs": [
    {
     "data": {
      "text/plain": [
       "<function fastai.optimizer.Adam(params: 'Tensor | Iterable', lr: 'float | slice', mom: 'float' = 0.9, sqr_mom: 'float' = 0.99, eps: 'float' = 1e-05, wd: 'Real' = 0.01, decouple_wd: 'bool' = True) -> 'Optimizer'>"
      ]
     },
     "execution_count": 43,
     "metadata": {},
     "output_type": "execute_result"
    }
   ],
   "source": [
    "learn.opt_func"
   ]
  },
  {
   "cell_type": "code",
   "execution_count": 44,
   "id": "84839624-3762-48ae-beb8-53d49888c00e",
   "metadata": {},
   "outputs": [
    {
     "name": "stdout",
     "output_type": "stream",
     "text": [
      "Start Fit\n",
      "   - before_fit     : [TrainEvalCallback, GradientAccumulation, MixedPrecision, Recorder, ProgressCallback]\n",
      "  Start Epoch Loop\n",
      "     - before_epoch   : [Recorder, ProgressCallback]\n",
      "    Start Train\n",
      "       - before_train   : [TrainEvalCallback, Recorder, ProgressCallback]\n",
      "      Start Batch Loop\n",
      "         - before_batch   : [CastToTensor, MixedPrecision]\n",
      "         - after_pred     : [MixedPrecision]\n",
      "         - after_loss     : [GradientAccumulation, MixedPrecision]\n",
      "         - before_backward: [MixedPrecision]\n",
      "         - before_step    : [GradientAccumulation, MixedPrecision]\n",
      "         - after_step     : [MixedPrecision]\n",
      "         - after_cancel_batch: []\n",
      "         - after_batch    : [TrainEvalCallback, Recorder, ProgressCallback]\n",
      "      End Batch Loop\n",
      "    End Train\n",
      "     - after_cancel_train: [Recorder]\n",
      "     - after_train    : [Recorder, ProgressCallback]\n",
      "    Start Valid\n",
      "       - before_validate: [TrainEvalCallback, Recorder, ProgressCallback]\n",
      "      Start Batch Loop\n",
      "         - **CBs same as train batch**: []\n",
      "      End Batch Loop\n",
      "    End Valid\n",
      "     - after_cancel_validate: [Recorder]\n",
      "     - after_validate : [Recorder, ProgressCallback]\n",
      "  End Epoch Loop\n",
      "   - after_cancel_epoch: []\n",
      "   - after_epoch    : [Recorder]\n",
      "End Fit\n",
      " - after_cancel_fit: []\n",
      " - after_fit      : [MixedPrecision, ProgressCallback]\n"
     ]
    }
   ],
   "source": [
    "learn.show_training_loop()"
   ]
  },
  {
   "cell_type": "markdown",
   "id": "5258c617-0a47-41c4-85c2-ec508bc48642",
   "metadata": {},
   "source": [
    "## LR Find - Head"
   ]
  },
  {
   "cell_type": "code",
   "execution_count": 45,
   "id": "aab45bc4-751e-4b6a-b868-eb7fac27a819",
   "metadata": {},
   "outputs": [
    {
     "data": {
      "text/html": [
       "\n",
       "<style>\n",
       "    /* Turns off some styling */\n",
       "    progress {\n",
       "        /* gets rid of default border in Firefox and Opera. */\n",
       "        border: none;\n",
       "        /* Needs to be in here for Safari polyfill so background images work as expected. */\n",
       "        background-size: auto;\n",
       "    }\n",
       "    progress:not([value]), progress:not([value])::-webkit-progress-bar {\n",
       "        background: repeating-linear-gradient(45deg, #7e7e7e, #7e7e7e 10px, #5c5c5c 10px, #5c5c5c 20px);\n",
       "    }\n",
       "    .progress-bar-interrupted, .progress-bar-interrupted::-webkit-progress-bar {\n",
       "        background: #F44336;\n",
       "    }\n",
       "</style>\n"
      ],
      "text/plain": [
       "<IPython.core.display.HTML object>"
      ]
     },
     "metadata": {},
     "output_type": "display_data"
    },
    {
     "data": {
      "text/html": [],
      "text/plain": [
       "<IPython.core.display.HTML object>"
      ]
     },
     "metadata": {},
     "output_type": "display_data"
    },
    {
     "data": {
      "image/png": "[encoded data removed]",
      "text/plain": [
       "<Figure size 640x480 with 1 Axes>"
      ]
     },
     "metadata": {},
     "output_type": "display_data"
    }
   ],
   "source": [
    "# %%capture --no-stdout --no-display\n",
    "if lr_find_on:\n",
    "    learn.lr_find(suggest_funcs=(valley, minimum, steep, slide))"
   ]
  },
  {
   "cell_type": "markdown",
   "id": "cfa78784-2eb2-4bdc-b0df-c895bfceb0f9",
   "metadata": {},
   "source": [
    "## Fine Tune"
   ]
  },
  {
   "cell_type": "code",
   "execution_count": 46,
   "id": "abdad613-08a9-4488-91bb-acde5dfdfa47",
   "metadata": {},
   "outputs": [
    {
     "name": "stdout",
     "output_type": "stream",
     "text": [
      "Adding wandb.ai callback\n"
     ]
    }
   ],
   "source": [
    "learn.add_cb(SaveModelCallback(monitor='error_rate', fname=f\"birdclef-2023-{hypp['nn_arch']}\"))\n",
    "\n",
    "if wandb_on:\n",
    "    print('Adding wandb.ai callback')\n",
    "    learn.add_cb(wandb_callback)"
   ]
  },
  {
   "cell_type": "code",
   "execution_count": 47,
   "id": "8577e9b8-0e98-4645-8a16-906acfaea0c3",
   "metadata": {},
   "outputs": [
    {
     "data": {
      "text/html": [
       "\n",
       "<style>\n",
       "    /* Turns off some styling */\n",
       "    progress {\n",
       "        /* gets rid of default border in Firefox and Opera. */\n",
       "        border: none;\n",
       "        /* Needs to be in here for Safari polyfill so background images work as expected. */\n",
       "        background-size: auto;\n",
       "    }\n",
       "    progress:not([value]), progress:not([value])::-webkit-progress-bar {\n",
       "        background: repeating-linear-gradient(45deg, #7e7e7e, #7e7e7e 10px, #5c5c5c 10px, #5c5c5c 20px);\n",
       "    }\n",
       "    .progress-bar-interrupted, .progress-bar-interrupted::-webkit-progress-bar {\n",
       "        background: #F44336;\n",
       "    }\n",
       "</style>\n"
      ],
      "text/plain": [
       "<IPython.core.display.HTML object>"
      ]
     },
     "metadata": {},
     "output_type": "display_data"
    },
    {
     "data": {
      "text/html": [
       "<table border=\"1\" class=\"dataframe\">\n",
       "  <thead>\n",
       "    <tr style=\"text-align: left;\">\n",
       "      <th>epoch</th>\n",
       "      <th>train_loss</th>\n",
       "      <th>valid_loss</th>\n",
       "      <th>error_rate</th>\n",
       "      <th>padded_cmAP</th>\n",
       "      <th>padded_cmAP_probs</th>\n",
       "      <th>time</th>\n",
       "    </tr>\n",
       "  </thead>\n",
       "  <tbody>\n",
       "    <tr>\n",
       "      <td>0</td>\n",
       "      <td>3.943010</td>\n",
       "      <td>3.498568</td>\n",
       "      <td>0.737011</td>\n",
       "      <td>0.337682</td>\n",
       "      <td>0.463501</td>\n",
       "      <td>03:01</td>\n",
       "    </tr>\n",
       "  </tbody>\n",
       "</table>"
      ],
      "text/plain": [
       "<IPython.core.display.HTML object>"
      ]
     },
     "metadata": {},
     "output_type": "display_data"
    },
    {
     "name": "stdout",
     "output_type": "stream",
     "text": [
      "Better model found at epoch 0 with error_rate value: 0.7370108962059021.\n"
     ]
    },
    {
     "data": {
      "text/html": [
       "\n",
       "<style>\n",
       "    /* Turns off some styling */\n",
       "    progress {\n",
       "        /* gets rid of default border in Firefox and Opera. */\n",
       "        border: none;\n",
       "        /* Needs to be in here for Safari polyfill so background images work as expected. */\n",
       "        background-size: auto;\n",
       "    }\n",
       "    progress:not([value]), progress:not([value])::-webkit-progress-bar {\n",
       "        background: repeating-linear-gradient(45deg, #7e7e7e, #7e7e7e 10px, #5c5c5c 10px, #5c5c5c 20px);\n",
       "    }\n",
       "    .progress-bar-interrupted, .progress-bar-interrupted::-webkit-progress-bar {\n",
       "        background: #F44336;\n",
       "    }\n",
       "</style>\n"
      ],
      "text/plain": [
       "<IPython.core.display.HTML object>"
      ]
     },
     "metadata": {},
     "output_type": "display_data"
    },
    {
     "data": {
      "text/html": [
       "<table border=\"1\" class=\"dataframe\">\n",
       "  <thead>\n",
       "    <tr style=\"text-align: left;\">\n",
       "      <th>epoch</th>\n",
       "      <th>train_loss</th>\n",
       "      <th>valid_loss</th>\n",
       "      <th>error_rate</th>\n",
       "      <th>padded_cmAP</th>\n",
       "      <th>padded_cmAP_probs</th>\n",
       "      <th>time</th>\n",
       "    </tr>\n",
       "  </thead>\n",
       "  <tbody>\n",
       "    <tr>\n",
       "      <td>0</td>\n",
       "      <td>2.770494</td>\n",
       "      <td>2.191650</td>\n",
       "      <td>0.490058</td>\n",
       "      <td>0.420968</td>\n",
       "      <td>0.630120</td>\n",
       "      <td>07:39</td>\n",
       "    </tr>\n",
       "    <tr>\n",
       "      <td>1</td>\n",
       "      <td>2.118198</td>\n",
       "      <td>1.776695</td>\n",
       "      <td>0.395125</td>\n",
       "      <td>0.477634</td>\n",
       "      <td>0.709693</td>\n",
       "      <td>07:35</td>\n",
       "    </tr>\n",
       "    <tr>\n",
       "      <td>2</td>\n",
       "      <td>1.582109</td>\n",
       "      <td>1.419002</td>\n",
       "      <td>0.318794</td>\n",
       "      <td>0.541485</td>\n",
       "      <td>0.766157</td>\n",
       "      <td>07:39</td>\n",
       "    </tr>\n",
       "    <tr>\n",
       "      <td>3</td>\n",
       "      <td>1.288652</td>\n",
       "      <td>1.226309</td>\n",
       "      <td>0.266196</td>\n",
       "      <td>0.588627</td>\n",
       "      <td>0.796034</td>\n",
       "      <td>07:42</td>\n",
       "    </tr>\n",
       "    <tr>\n",
       "      <td>4</td>\n",
       "      <td>0.884286</td>\n",
       "      <td>1.156392</td>\n",
       "      <td>0.245670</td>\n",
       "      <td>0.610722</td>\n",
       "      <td>0.811898</td>\n",
       "      <td>07:32</td>\n",
       "    </tr>\n",
       "    <tr>\n",
       "      <td>5</td>\n",
       "      <td>0.574207</td>\n",
       "      <td>1.114842</td>\n",
       "      <td>0.241180</td>\n",
       "      <td>0.619916</td>\n",
       "      <td>0.823069</td>\n",
       "      <td>07:32</td>\n",
       "    </tr>\n",
       "  </tbody>\n",
       "</table>"
      ],
      "text/plain": [
       "<IPython.core.display.HTML object>"
      ]
     },
     "metadata": {},
     "output_type": "display_data"
    },
    {
     "name": "stdout",
     "output_type": "stream",
     "text": [
      "Better model found at epoch 0 with error_rate value: 0.49005773663520813.\n",
      "Better model found at epoch 1 with error_rate value: 0.3951250910758972.\n",
      "Better model found at epoch 2 with error_rate value: 0.3187941014766693.\n",
      "Better model found at epoch 3 with error_rate value: 0.26619628071784973.\n",
      "Better model found at epoch 4 with error_rate value: 0.24567030370235443.\n",
      "Better model found at epoch 5 with error_rate value: 0.24118024110794067.\n"
     ]
    }
   ],
   "source": [
    "# %%capture --no-stderr\n",
    "learn.fine_tune(hypp['n_epochs'],\n",
    "                freeze_epochs=hypp['freeze_epochs'], \n",
    "                base_lr=hypp['base_lr'])"
   ]
  },
  {
   "cell_type": "code",
   "execution_count": 48,
   "id": "efd0372d-f0bd-4407-8bf5-a52da6e4529f",
   "metadata": {},
   "outputs": [
    {
     "data": {
      "text/html": [
       "\n",
       "<style>\n",
       "    /* Turns off some styling */\n",
       "    progress {\n",
       "        /* gets rid of default border in Firefox and Opera. */\n",
       "        border: none;\n",
       "        /* Needs to be in here for Safari polyfill so background images work as expected. */\n",
       "        background-size: auto;\n",
       "    }\n",
       "    progress:not([value]), progress:not([value])::-webkit-progress-bar {\n",
       "        background: repeating-linear-gradient(45deg, #7e7e7e, #7e7e7e 10px, #5c5c5c 10px, #5c5c5c 20px);\n",
       "    }\n",
       "    .progress-bar-interrupted, .progress-bar-interrupted::-webkit-progress-bar {\n",
       "        background: #F44336;\n",
       "    }\n",
       "</style>\n"
      ],
      "text/plain": [
       "<IPython.core.display.HTML object>"
      ]
     },
     "metadata": {},
     "output_type": "display_data"
    },
    {
     "data": {
      "text/html": [
       "<table border=\"1\" class=\"dataframe\">\n",
       "  <thead>\n",
       "    <tr style=\"text-align: left;\">\n",
       "      <th>epoch</th>\n",
       "      <th>train_loss</th>\n",
       "      <th>valid_loss</th>\n",
       "      <th>error_rate</th>\n",
       "      <th>padded_cmAP</th>\n",
       "      <th>padded_cmAP_probs</th>\n",
       "      <th>time</th>\n",
       "    </tr>\n",
       "  </thead>\n",
       "  <tbody>\n",
       "    <tr>\n",
       "      <td>0</td>\n",
       "      <td>1.201230</td>\n",
       "      <td>1.330299</td>\n",
       "      <td>0.284798</td>\n",
       "      <td>0.569993</td>\n",
       "      <td>0.789936</td>\n",
       "      <td>03:09</td>\n",
       "    </tr>\n",
       "  </tbody>\n",
       "</table>"
      ],
      "text/plain": [
       "<IPython.core.display.HTML object>"
      ]
     },
     "metadata": {},
     "output_type": "display_data"
    },
    {
     "name": "stdout",
     "output_type": "stream",
     "text": [
      "Better model found at epoch 0 with error_rate value: 0.28479793667793274.\n"
     ]
    },
    {
     "data": {
      "text/html": [
       "\n",
       "<style>\n",
       "    /* Turns off some styling */\n",
       "    progress {\n",
       "        /* gets rid of default border in Firefox and Opera. */\n",
       "        border: none;\n",
       "        /* Needs to be in here for Safari polyfill so background images work as expected. */\n",
       "        background-size: auto;\n",
       "    }\n",
       "    progress:not([value]), progress:not([value])::-webkit-progress-bar {\n",
       "        background: repeating-linear-gradient(45deg, #7e7e7e, #7e7e7e 10px, #5c5c5c 10px, #5c5c5c 20px);\n",
       "    }\n",
       "    .progress-bar-interrupted, .progress-bar-interrupted::-webkit-progress-bar {\n",
       "        background: #F44336;\n",
       "    }\n",
       "</style>\n"
      ],
      "text/plain": [
       "<IPython.core.display.HTML object>"
      ]
     },
     "metadata": {},
     "output_type": "display_data"
    },
    {
     "data": {
      "text/html": [
       "<table border=\"1\" class=\"dataframe\">\n",
       "  <thead>\n",
       "    <tr style=\"text-align: left;\">\n",
       "      <th>epoch</th>\n",
       "      <th>train_loss</th>\n",
       "      <th>valid_loss</th>\n",
       "      <th>error_rate</th>\n",
       "      <th>padded_cmAP</th>\n",
       "      <th>padded_cmAP_probs</th>\n",
       "      <th>time</th>\n",
       "    </tr>\n",
       "  </thead>\n",
       "  <tbody>\n",
       "    <tr>\n",
       "      <td>0</td>\n",
       "      <td>0.731536</td>\n",
       "      <td>1.190014</td>\n",
       "      <td>0.239897</td>\n",
       "      <td>0.630493</td>\n",
       "      <td>0.822272</td>\n",
       "      <td>07:33</td>\n",
       "    </tr>\n",
       "    <tr>\n",
       "      <td>1</td>\n",
       "      <td>0.690476</td>\n",
       "      <td>1.279836</td>\n",
       "      <td>0.255292</td>\n",
       "      <td>0.615720</td>\n",
       "      <td>0.809813</td>\n",
       "      <td>07:33</td>\n",
       "    </tr>\n",
       "    <tr>\n",
       "      <td>2</td>\n",
       "      <td>0.619082</td>\n",
       "      <td>1.272982</td>\n",
       "      <td>0.252085</td>\n",
       "      <td>0.604162</td>\n",
       "      <td>0.814986</td>\n",
       "      <td>07:32</td>\n",
       "    </tr>\n",
       "    <tr>\n",
       "      <td>3</td>\n",
       "      <td>0.451237</td>\n",
       "      <td>1.266945</td>\n",
       "      <td>0.244387</td>\n",
       "      <td>0.614651</td>\n",
       "      <td>0.819884</td>\n",
       "      <td>07:31</td>\n",
       "    </tr>\n",
       "    <tr>\n",
       "      <td>4</td>\n",
       "      <td>0.237080</td>\n",
       "      <td>1.200169</td>\n",
       "      <td>0.223861</td>\n",
       "      <td>0.639125</td>\n",
       "      <td>0.826610</td>\n",
       "      <td>07:31</td>\n",
       "    </tr>\n",
       "    <tr>\n",
       "      <td>5</td>\n",
       "      <td>0.197783</td>\n",
       "      <td>1.220021</td>\n",
       "      <td>0.220013</td>\n",
       "      <td>0.651488</td>\n",
       "      <td>0.831749</td>\n",
       "      <td>07:31</td>\n",
       "    </tr>\n",
       "  </tbody>\n",
       "</table>"
      ],
      "text/plain": [
       "<IPython.core.display.HTML object>"
      ]
     },
     "metadata": {},
     "output_type": "display_data"
    },
    {
     "name": "stdout",
     "output_type": "stream",
     "text": [
      "Better model found at epoch 0 with error_rate value: 0.23989737033843994.\n",
      "Better model found at epoch 4 with error_rate value: 0.2238614559173584.\n",
      "Better model found at epoch 5 with error_rate value: 0.220012828707695.\n"
     ]
    }
   ],
   "source": [
    "learn.fine_tune(hypp['n_epochs'],\n",
    "                freeze_epochs=hypp['freeze_epochs'], \n",
    "                base_lr=0.5*hypp['base_lr'])"
   ]
  },
  {
   "cell_type": "markdown",
   "id": "19fc1d5c-4515-4cc8-bf13-34bbdc70b0b2",
   "metadata": {},
   "source": [
    "## Debug cmAP"
   ]
  },
  {
   "cell_type": "code",
   "execution_count": 49,
   "id": "1a619f2b-6ba7-48f9-b32a-6321eb86cccc",
   "metadata": {
    "tags": []
   },
   "outputs": [],
   "source": [
    "# print(preds_test.shape)\n",
    "# print(padding_test.shape)\n",
    "# print(probs_test.shape)\n",
    "# print(labels_test.shape)\n",
    "# print(labels_oh_test.shape)"
   ]
  },
  {
   "cell_type": "markdown",
   "id": "14fa51f4-ae12-47a2-9a3d-e7a3c08bcc17",
   "metadata": {},
   "source": [
    "## Hack transforms"
   ]
  },
  {
   "cell_type": "code",
   "execution_count": 50,
   "id": "600e8666-359f-4657-9933-907db482852e",
   "metadata": {
    "tags": []
   },
   "outputs": [
    {
     "data": {
      "text/plain": [
       "(#7) [Resample:\n",
       "encodes: (AudioTensor,object) -> encodes\n",
       "decodes: ,DownmixMono:\n",
       "encodes: (AudioTensor,object) -> encodes\n",
       "decodes: ,ResizeSignal:\n",
       "encodes: (AudioTensor,object) -> encodes\n",
       "decodes: ,AudioToSpec:\n",
       "encodes: (AudioTensor,object) -> encodes\n",
       "decodes: ,MaskFreq:\n",
       "encodes: (AudioSpectrogram,object) -> encodes\n",
       "(AudioTensor,object) -> encodes\n",
       "decodes: ,MaskTime:\n",
       "encodes: (AudioSpectrogram,object) -> encodes\n",
       "(AudioTensor,object) -> encodes\n",
       "decodes: ,ToTensor:\n",
       "encodes: (PILMask,object) -> encodes\n",
       "(PILBase,object) -> encodes\n",
       "decodes: ]"
      ]
     },
     "execution_count": 50,
     "metadata": {},
     "output_type": "execute_result"
    }
   ],
   "source": [
    "learn.dls.valid.after_item.fs"
   ]
  },
  {
   "cell_type": "code",
   "execution_count": 51,
   "id": "f4b58689-845b-4c0d-8bd7-5cf4d9dded5f",
   "metadata": {
    "tags": []
   },
   "outputs": [
    {
     "data": {
      "text/plain": [
       "[Resample:\n",
       " encodes: (AudioTensor,object) -> encodes\n",
       " decodes: ,\n",
       " DownmixMono:\n",
       " encodes: (AudioTensor,object) -> encodes\n",
       " decodes: ,\n",
       " ResizeSignal:\n",
       " encodes: (AudioTensor,object) -> encodes\n",
       " decodes: ,\n",
       " AudioToSpec:\n",
       " encodes: (AudioTensor,object) -> encodes\n",
       " decodes: ,\n",
       " ToTensor:\n",
       " encodes: (PILMask,object) -> encodes\n",
       " (PILBase,object) -> encodes\n",
       " decodes: ]"
      ]
     },
     "execution_count": 51,
     "metadata": {},
     "output_type": "execute_result"
    }
   ],
   "source": [
    "transforms_to_remove = ['MaskFreq', 'MaskTime']\n",
    "new_fs = [tfm for tfm in learn.dls.valid.after_item.fs if tfm.name not in transforms_to_remove]\n",
    "learn.dls.valid.after_item.fs = new_fs\n",
    "learn.dls.valid.after_item.fs"
   ]
  },
  {
   "cell_type": "markdown",
   "id": "f289a821-d789-4ead-945c-9c1c8426e8d7",
   "metadata": {},
   "source": [
    "## Check Results"
   ]
  },
  {
   "cell_type": "code",
   "execution_count": 52,
   "id": "c27b2368-807b-419e-bf84-d0130e3b4474",
   "metadata": {},
   "outputs": [
    {
     "data": {
      "text/html": [
       "\n",
       "<style>\n",
       "    /* Turns off some styling */\n",
       "    progress {\n",
       "        /* gets rid of default border in Firefox and Opera. */\n",
       "        border: none;\n",
       "        /* Needs to be in here for Safari polyfill so background images work as expected. */\n",
       "        background-size: auto;\n",
       "    }\n",
       "    progress:not([value]), progress:not([value])::-webkit-progress-bar {\n",
       "        background: repeating-linear-gradient(45deg, #7e7e7e, #7e7e7e 10px, #5c5c5c 10px, #5c5c5c 20px);\n",
       "    }\n",
       "    .progress-bar-interrupted, .progress-bar-interrupted::-webkit-progress-bar {\n",
       "        background: #F44336;\n",
       "    }\n",
       "</style>\n"
      ],
      "text/plain": [
       "<IPython.core.display.HTML object>"
      ]
     },
     "metadata": {},
     "output_type": "display_data"
    },
    {
     "data": {
      "text/html": [],
      "text/plain": [
       "<IPython.core.display.HTML object>"
      ]
     },
     "metadata": {},
     "output_type": "display_data"
    },
    {
     "data": {
      "image/png": "[encoded data removed]",
      "text/plain": [
       "<Figure size 640x480 with 2 Axes>"
      ]
     },
     "metadata": {},
     "output_type": "display_data"
    },
    {
     "data": {
      "image/png": "[encoded data removed]",
      "text/plain": [
       "<Figure size 640x480 with 2 Axes>"
      ]
     },
     "metadata": {},
     "output_type": "display_data"
    },
    {
     "data": {
      "image/png": "[encoded data removed]",
      "text/plain": [
       "<Figure size 640x480 with 2 Axes>"
      ]
     },
     "metadata": {},
     "output_type": "display_data"
    },
    {
     "data": {
      "image/png": "[encoded data removed]",
      "text/plain": [
       "<Figure size 640x480 with 2 Axes>"
      ]
     },
     "metadata": {},
     "output_type": "display_data"
    },
    {
     "data": {
      "image/png": "[encoded data removed]",
      "text/plain": [
       "<Figure size 640x480 with 2 Axes>"
      ]
     },
     "metadata": {},
     "output_type": "display_data"
    },
    {
     "data": {
      "image/png": "[encoded data removed]",
      "text/plain": [
       "<Figure size 640x480 with 2 Axes>"
      ]
     },
     "metadata": {},
     "output_type": "display_data"
    },
    {
     "data": {
      "image/png": "[encoded data removed]",
      "text/plain": [
       "<Figure size 640x480 with 2 Axes>"
      ]
     },
     "metadata": {},
     "output_type": "display_data"
    },
    {
     "data": {
      "image/png": "[encoded data removed]",
      "text/plain": [
       "<Figure size 640x480 with 2 Axes>"
      ]
     },
     "metadata": {},
     "output_type": "display_data"
    }
   ],
   "source": [
    "# with warnings.catch_warnings():\n",
    "#     warnings.filterwarnings(\"ignore\", message=\"No positive class found in y_true, recall is set to one for all thresholds.\")\n",
    "learn.show_results()"
   ]
  },
  {
   "cell_type": "markdown",
   "id": "2e846e33-a285-40ca-ae0b-bd06f25d32e5",
   "metadata": {},
   "source": [
    "# Interpretation"
   ]
  },
  {
   "cell_type": "code",
   "execution_count": 53,
   "id": "9d81559e-3fdf-4d9c-bd3e-b25f204aa7b5",
   "metadata": {},
   "outputs": [
    {
     "data": {
      "text/html": [
       "\n",
       "<style>\n",
       "    /* Turns off some styling */\n",
       "    progress {\n",
       "        /* gets rid of default border in Firefox and Opera. */\n",
       "        border: none;\n",
       "        /* Needs to be in here for Safari polyfill so background images work as expected. */\n",
       "        background-size: auto;\n",
       "    }\n",
       "    progress:not([value]), progress:not([value])::-webkit-progress-bar {\n",
       "        background: repeating-linear-gradient(45deg, #7e7e7e, #7e7e7e 10px, #5c5c5c 10px, #5c5c5c 20px);\n",
       "    }\n",
       "    .progress-bar-interrupted, .progress-bar-interrupted::-webkit-progress-bar {\n",
       "        background: #F44336;\n",
       "    }\n",
       "</style>\n"
      ],
      "text/plain": [
       "<IPython.core.display.HTML object>"
      ]
     },
     "metadata": {},
     "output_type": "display_data"
    },
    {
     "data": {
      "text/html": [],
      "text/plain": [
       "<IPython.core.display.HTML object>"
      ]
     },
     "metadata": {},
     "output_type": "display_data"
    }
   ],
   "source": [
    "# with warnings.catch_warnings():\n",
    "#     warnings.filterwarnings(\"ignore\", message=\"No positive class found in y_true, recall is set to one for all thresholds.\")\n",
    "interp = ClassificationInterpretation.from_learner(learn)"
   ]
  },
  {
   "cell_type": "code",
   "execution_count": 54,
   "id": "090fc4f9-d137-4c41-8f81-90624fdc46b8",
   "metadata": {},
   "outputs": [],
   "source": [
    "# interp.plot_top_losses(9)"
   ]
  },
  {
   "cell_type": "code",
   "execution_count": 55,
   "id": "d0100199-df34-4f5a-95fa-da455d0f09fc",
   "metadata": {},
   "outputs": [
    {
     "data": {
      "text/html": [
       "\n",
       "<style>\n",
       "    /* Turns off some styling */\n",
       "    progress {\n",
       "        /* gets rid of default border in Firefox and Opera. */\n",
       "        border: none;\n",
       "        /* Needs to be in here for Safari polyfill so background images work as expected. */\n",
       "        background-size: auto;\n",
       "    }\n",
       "    progress:not([value]), progress:not([value])::-webkit-progress-bar {\n",
       "        background: repeating-linear-gradient(45deg, #7e7e7e, #7e7e7e 10px, #5c5c5c 10px, #5c5c5c 20px);\n",
       "    }\n",
       "    .progress-bar-interrupted, .progress-bar-interrupted::-webkit-progress-bar {\n",
       "        background: #F44336;\n",
       "    }\n",
       "</style>\n"
      ],
      "text/plain": [
       "<IPython.core.display.HTML object>"
      ]
     },
     "metadata": {},
     "output_type": "display_data"
    },
    {
     "data": {
      "text/html": [],
      "text/plain": [
       "<IPython.core.display.HTML object>"
      ]
     },
     "metadata": {},
     "output_type": "display_data"
    },
    {
     "data": {
      "text/plain": [
       "(264, 264)"
      ]
     },
     "execution_count": 55,
     "metadata": {},
     "output_type": "execute_result"
    }
   ],
   "source": [
    "# with warnings.catch_warnings():\n",
    "#     warnings.filterwarnings(\"ignore\", message=\"No positive class found in y_true, recall is set to one for all thresholds.\")\n",
    "    # interp.plot_confusion_matrix()\n",
    "confusion_matrix = interp.confusion_matrix()\n",
    "confusion_matrix.shape"
   ]
  },
  {
   "cell_type": "code",
   "execution_count": 56,
   "id": "2adaf50e-d49d-4890-9d87-4b67b83a3307",
   "metadata": {
    "tags": []
   },
   "outputs": [
    {
     "data": {
      "text/plain": [
       "264"
      ]
     },
     "execution_count": 56,
     "metadata": {},
     "output_type": "execute_result"
    }
   ],
   "source": [
    "len(dls.vocab)"
   ]
  },
  {
   "cell_type": "code",
   "execution_count": 57,
   "id": "800c4ead-23b3-4976-be80-79717da1858c",
   "metadata": {
    "tags": []
   },
   "outputs": [],
   "source": [
    "confmat_df = pd.DataFrame(confusion_matrix, columns = dls.vocab, index=dls.vocab)"
   ]
  },
  {
   "cell_type": "code",
   "execution_count": 58,
   "id": "11b0d54f-8678-4e92-b7b8-fb7385d47aa2",
   "metadata": {
    "tags": []
   },
   "outputs": [
    {
     "data": {
      "text/html": [
       "<div>\n",
       "<style scoped>\n",
       "    .dataframe tbody tr th:only-of-type {\n",
       "        vertical-align: middle;\n",
       "    }\n",
       "\n",
       "    .dataframe tbody tr th {\n",
       "        vertical-align: top;\n",
       "    }\n",
       "\n",
       "    .dataframe thead th {\n",
       "        text-align: right;\n",
       "    }\n",
       "</style>\n",
       "<table border=\"1\" class=\"dataframe\">\n",
       "  <thead>\n",
       "    <tr style=\"text-align: right;\">\n",
       "      <th></th>\n",
       "      <th>abethr1</th>\n",
       "      <th>abhori1</th>\n",
       "      <th>abythr1</th>\n",
       "      <th>afbfly1</th>\n",
       "      <th>afdfly1</th>\n",
       "      <th>afecuc1</th>\n",
       "      <th>affeag1</th>\n",
       "      <th>afgfly1</th>\n",
       "      <th>afghor1</th>\n",
       "      <th>afmdov1</th>\n",
       "      <th>...</th>\n",
       "      <th>yebsto1</th>\n",
       "      <th>yeccan1</th>\n",
       "      <th>yefcan</th>\n",
       "      <th>yelbis1</th>\n",
       "      <th>yenspu1</th>\n",
       "      <th>yertin1</th>\n",
       "      <th>yesbar1</th>\n",
       "      <th>yespet1</th>\n",
       "      <th>yetgre1</th>\n",
       "      <th>yewgre1</th>\n",
       "    </tr>\n",
       "  </thead>\n",
       "  <tbody>\n",
       "    <tr>\n",
       "      <th>abethr1</th>\n",
       "      <td>0</td>\n",
       "      <td>0</td>\n",
       "      <td>0</td>\n",
       "      <td>0</td>\n",
       "      <td>0</td>\n",
       "      <td>0</td>\n",
       "      <td>0</td>\n",
       "      <td>0</td>\n",
       "      <td>0</td>\n",
       "      <td>0</td>\n",
       "      <td>...</td>\n",
       "      <td>0</td>\n",
       "      <td>0</td>\n",
       "      <td>0</td>\n",
       "      <td>0</td>\n",
       "      <td>0</td>\n",
       "      <td>0</td>\n",
       "      <td>0</td>\n",
       "      <td>0</td>\n",
       "      <td>0</td>\n",
       "      <td>0</td>\n",
       "    </tr>\n",
       "    <tr>\n",
       "      <th>abhori1</th>\n",
       "      <td>0</td>\n",
       "      <td>11</td>\n",
       "      <td>0</td>\n",
       "      <td>0</td>\n",
       "      <td>0</td>\n",
       "      <td>0</td>\n",
       "      <td>0</td>\n",
       "      <td>0</td>\n",
       "      <td>0</td>\n",
       "      <td>0</td>\n",
       "      <td>...</td>\n",
       "      <td>0</td>\n",
       "      <td>0</td>\n",
       "      <td>0</td>\n",
       "      <td>0</td>\n",
       "      <td>0</td>\n",
       "      <td>0</td>\n",
       "      <td>0</td>\n",
       "      <td>0</td>\n",
       "      <td>0</td>\n",
       "      <td>0</td>\n",
       "    </tr>\n",
       "    <tr>\n",
       "      <th>abythr1</th>\n",
       "      <td>0</td>\n",
       "      <td>0</td>\n",
       "      <td>0</td>\n",
       "      <td>0</td>\n",
       "      <td>0</td>\n",
       "      <td>0</td>\n",
       "      <td>0</td>\n",
       "      <td>0</td>\n",
       "      <td>0</td>\n",
       "      <td>0</td>\n",
       "      <td>...</td>\n",
       "      <td>0</td>\n",
       "      <td>0</td>\n",
       "      <td>0</td>\n",
       "      <td>0</td>\n",
       "      <td>0</td>\n",
       "      <td>0</td>\n",
       "      <td>0</td>\n",
       "      <td>0</td>\n",
       "      <td>0</td>\n",
       "      <td>0</td>\n",
       "    </tr>\n",
       "    <tr>\n",
       "      <th>afbfly1</th>\n",
       "      <td>0</td>\n",
       "      <td>0</td>\n",
       "      <td>0</td>\n",
       "      <td>1</td>\n",
       "      <td>0</td>\n",
       "      <td>0</td>\n",
       "      <td>0</td>\n",
       "      <td>0</td>\n",
       "      <td>0</td>\n",
       "      <td>0</td>\n",
       "      <td>...</td>\n",
       "      <td>0</td>\n",
       "      <td>0</td>\n",
       "      <td>0</td>\n",
       "      <td>0</td>\n",
       "      <td>0</td>\n",
       "      <td>0</td>\n",
       "      <td>0</td>\n",
       "      <td>0</td>\n",
       "      <td>0</td>\n",
       "      <td>0</td>\n",
       "    </tr>\n",
       "    <tr>\n",
       "      <th>afdfly1</th>\n",
       "      <td>0</td>\n",
       "      <td>0</td>\n",
       "      <td>0</td>\n",
       "      <td>0</td>\n",
       "      <td>0</td>\n",
       "      <td>0</td>\n",
       "      <td>0</td>\n",
       "      <td>0</td>\n",
       "      <td>0</td>\n",
       "      <td>0</td>\n",
       "      <td>...</td>\n",
       "      <td>0</td>\n",
       "      <td>0</td>\n",
       "      <td>0</td>\n",
       "      <td>0</td>\n",
       "      <td>0</td>\n",
       "      <td>0</td>\n",
       "      <td>0</td>\n",
       "      <td>0</td>\n",
       "      <td>0</td>\n",
       "      <td>0</td>\n",
       "    </tr>\n",
       "    <tr>\n",
       "      <th>...</th>\n",
       "      <td>...</td>\n",
       "      <td>...</td>\n",
       "      <td>...</td>\n",
       "      <td>...</td>\n",
       "      <td>...</td>\n",
       "      <td>...</td>\n",
       "      <td>...</td>\n",
       "      <td>...</td>\n",
       "      <td>...</td>\n",
       "      <td>...</td>\n",
       "      <td>...</td>\n",
       "      <td>...</td>\n",
       "      <td>...</td>\n",
       "      <td>...</td>\n",
       "      <td>...</td>\n",
       "      <td>...</td>\n",
       "      <td>...</td>\n",
       "      <td>...</td>\n",
       "      <td>...</td>\n",
       "      <td>...</td>\n",
       "      <td>...</td>\n",
       "    </tr>\n",
       "    <tr>\n",
       "      <th>yertin1</th>\n",
       "      <td>0</td>\n",
       "      <td>0</td>\n",
       "      <td>0</td>\n",
       "      <td>0</td>\n",
       "      <td>0</td>\n",
       "      <td>0</td>\n",
       "      <td>0</td>\n",
       "      <td>0</td>\n",
       "      <td>0</td>\n",
       "      <td>0</td>\n",
       "      <td>...</td>\n",
       "      <td>0</td>\n",
       "      <td>0</td>\n",
       "      <td>0</td>\n",
       "      <td>0</td>\n",
       "      <td>0</td>\n",
       "      <td>12</td>\n",
       "      <td>0</td>\n",
       "      <td>0</td>\n",
       "      <td>0</td>\n",
       "      <td>0</td>\n",
       "    </tr>\n",
       "    <tr>\n",
       "      <th>yesbar1</th>\n",
       "      <td>0</td>\n",
       "      <td>0</td>\n",
       "      <td>0</td>\n",
       "      <td>0</td>\n",
       "      <td>0</td>\n",
       "      <td>0</td>\n",
       "      <td>0</td>\n",
       "      <td>0</td>\n",
       "      <td>0</td>\n",
       "      <td>0</td>\n",
       "      <td>...</td>\n",
       "      <td>0</td>\n",
       "      <td>0</td>\n",
       "      <td>0</td>\n",
       "      <td>0</td>\n",
       "      <td>0</td>\n",
       "      <td>0</td>\n",
       "      <td>3</td>\n",
       "      <td>0</td>\n",
       "      <td>0</td>\n",
       "      <td>0</td>\n",
       "    </tr>\n",
       "    <tr>\n",
       "      <th>yespet1</th>\n",
       "      <td>0</td>\n",
       "      <td>0</td>\n",
       "      <td>0</td>\n",
       "      <td>0</td>\n",
       "      <td>0</td>\n",
       "      <td>0</td>\n",
       "      <td>0</td>\n",
       "      <td>0</td>\n",
       "      <td>0</td>\n",
       "      <td>0</td>\n",
       "      <td>...</td>\n",
       "      <td>0</td>\n",
       "      <td>0</td>\n",
       "      <td>0</td>\n",
       "      <td>0</td>\n",
       "      <td>0</td>\n",
       "      <td>0</td>\n",
       "      <td>0</td>\n",
       "      <td>1</td>\n",
       "      <td>0</td>\n",
       "      <td>0</td>\n",
       "    </tr>\n",
       "    <tr>\n",
       "      <th>yetgre1</th>\n",
       "      <td>0</td>\n",
       "      <td>0</td>\n",
       "      <td>0</td>\n",
       "      <td>0</td>\n",
       "      <td>0</td>\n",
       "      <td>0</td>\n",
       "      <td>0</td>\n",
       "      <td>0</td>\n",
       "      <td>0</td>\n",
       "      <td>0</td>\n",
       "      <td>...</td>\n",
       "      <td>0</td>\n",
       "      <td>0</td>\n",
       "      <td>0</td>\n",
       "      <td>0</td>\n",
       "      <td>0</td>\n",
       "      <td>0</td>\n",
       "      <td>0</td>\n",
       "      <td>0</td>\n",
       "      <td>3</td>\n",
       "      <td>0</td>\n",
       "    </tr>\n",
       "    <tr>\n",
       "      <th>yewgre1</th>\n",
       "      <td>0</td>\n",
       "      <td>0</td>\n",
       "      <td>0</td>\n",
       "      <td>0</td>\n",
       "      <td>0</td>\n",
       "      <td>0</td>\n",
       "      <td>0</td>\n",
       "      <td>0</td>\n",
       "      <td>0</td>\n",
       "      <td>0</td>\n",
       "      <td>...</td>\n",
       "      <td>0</td>\n",
       "      <td>0</td>\n",
       "      <td>0</td>\n",
       "      <td>0</td>\n",
       "      <td>0</td>\n",
       "      <td>0</td>\n",
       "      <td>0</td>\n",
       "      <td>0</td>\n",
       "      <td>0</td>\n",
       "      <td>10</td>\n",
       "    </tr>\n",
       "  </tbody>\n",
       "</table>\n",
       "<p>264 rows × 264 columns</p>\n",
       "</div>"
      ],
      "text/plain": [
       "         abethr1  abhori1  abythr1  afbfly1  afdfly1  afecuc1  affeag1  \\\n",
       "abethr1        0        0        0        0        0        0        0   \n",
       "abhori1        0       11        0        0        0        0        0   \n",
       "abythr1        0        0        0        0        0        0        0   \n",
       "afbfly1        0        0        0        1        0        0        0   \n",
       "afdfly1        0        0        0        0        0        0        0   \n",
       "...          ...      ...      ...      ...      ...      ...      ...   \n",
       "yertin1        0        0        0        0        0        0        0   \n",
       "yesbar1        0        0        0        0        0        0        0   \n",
       "yespet1        0        0        0        0        0        0        0   \n",
       "yetgre1        0        0        0        0        0        0        0   \n",
       "yewgre1        0        0        0        0        0        0        0   \n",
       "\n",
       "         afgfly1  afghor1  afmdov1  ...  yebsto1  yeccan1  yefcan  yelbis1  \\\n",
       "abethr1        0        0        0  ...        0        0       0        0   \n",
       "abhori1        0        0        0  ...        0        0       0        0   \n",
       "abythr1        0        0        0  ...        0        0       0        0   \n",
       "afbfly1        0        0        0  ...        0        0       0        0   \n",
       "afdfly1        0        0        0  ...        0        0       0        0   \n",
       "...          ...      ...      ...  ...      ...      ...     ...      ...   \n",
       "yertin1        0        0        0  ...        0        0       0        0   \n",
       "yesbar1        0        0        0  ...        0        0       0        0   \n",
       "yespet1        0        0        0  ...        0        0       0        0   \n",
       "yetgre1        0        0        0  ...        0        0       0        0   \n",
       "yewgre1        0        0        0  ...        0        0       0        0   \n",
       "\n",
       "         yenspu1  yertin1  yesbar1  yespet1  yetgre1  yewgre1  \n",
       "abethr1        0        0        0        0        0        0  \n",
       "abhori1        0        0        0        0        0        0  \n",
       "abythr1        0        0        0        0        0        0  \n",
       "afbfly1        0        0        0        0        0        0  \n",
       "afdfly1        0        0        0        0        0        0  \n",
       "...          ...      ...      ...      ...      ...      ...  \n",
       "yertin1        0       12        0        0        0        0  \n",
       "yesbar1        0        0        3        0        0        0  \n",
       "yespet1        0        0        0        1        0        0  \n",
       "yetgre1        0        0        0        0        3        0  \n",
       "yewgre1        0        0        0        0        0       10  \n",
       "\n",
       "[264 rows x 264 columns]"
      ]
     },
     "execution_count": 58,
     "metadata": {},
     "output_type": "execute_result"
    }
   ],
   "source": [
    "confmat_df"
   ]
  },
  {
   "cell_type": "code",
   "execution_count": 59,
   "id": "55e889d8-3a76-4f99-b412-8a1a2246a176",
   "metadata": {},
   "outputs": [
    {
     "data": {
      "text/html": [
       "\n",
       "<style>\n",
       "    /* Turns off some styling */\n",
       "    progress {\n",
       "        /* gets rid of default border in Firefox and Opera. */\n",
       "        border: none;\n",
       "        /* Needs to be in here for Safari polyfill so background images work as expected. */\n",
       "        background-size: auto;\n",
       "    }\n",
       "    progress:not([value]), progress:not([value])::-webkit-progress-bar {\n",
       "        background: repeating-linear-gradient(45deg, #7e7e7e, #7e7e7e 10px, #5c5c5c 10px, #5c5c5c 20px);\n",
       "    }\n",
       "    .progress-bar-interrupted, .progress-bar-interrupted::-webkit-progress-bar {\n",
       "        background: #F44336;\n",
       "    }\n",
       "</style>\n"
      ],
      "text/plain": [
       "<IPython.core.display.HTML object>"
      ]
     },
     "metadata": {},
     "output_type": "display_data"
    },
    {
     "data": {
      "text/html": [],
      "text/plain": [
       "<IPython.core.display.HTML object>"
      ]
     },
     "metadata": {},
     "output_type": "display_data"
    },
    {
     "name": "stdout",
     "output_type": "stream",
     "text": [
      "[('greegr', 'litegr', 4), ('litegr', 'greegr', 3), ('abythr1', 'gnbcam2', 2), ('afrthr1', 'wbrcha2', 2), ('amesun2', 'sccsun2', 2), ('broman1', 'vilwea1', 2), ('fotdro5', 'combul2', 2), ('grbcam1', 'gnbcam2', 2), ('rerswa1', 'somgre1', 2), ('tafpri1', 'gnbcam2', 2), ('vilwea1', 'hadibi1', 2), ('abethr1', 'combuz1', 1), ('abhori1', 'wbrcha2', 1), ('abythr1', 'colsun2', 1), ('afbfly1', 'barswa', 1), ('afdfly1', 'barswa', 1), ('afdfly1', 'ratcis1', 1), ('afecuc1', 'abethr1', 1), ('afgfly1', 'ratcis1', 1), ('afghor1', 'yespet1', 1)]\n"
     ]
    }
   ],
   "source": [
    "with warnings.catch_warnings():\n",
    "    warnings.filterwarnings(\"ignore\", message=\"No positive class found in y_true, recall is set to one for all thresholds.\")\n",
    "    print(interp.most_confused()[:20])"
   ]
  },
  {
   "cell_type": "markdown",
   "id": "4bb5ae61-544a-494b-85b5-0f462db5b7ad",
   "metadata": {},
   "source": [
    "# Full Validation Assessment"
   ]
  },
  {
   "cell_type": "code",
   "execution_count": 60,
   "id": "8177c177-8a8a-4fbf-9cb9-3edc0f7dbd22",
   "metadata": {
    "tags": []
   },
   "outputs": [
    {
     "data": {
      "text/plain": [
       "(#12) [Path('birdclef-2023/train_audio_prep-2'),Path('birdclef-2023/eBird_Taxonomy_v2021.csv'),Path('birdclef-2023/test_soundscapes'),Path('birdclef-2023/train_metadata.csv'),Path('birdclef-2023/train_audio_prep-10s-10s-32k'),Path('birdclef-2023/train_audio_prep-2b'),Path('birdclef-2023/train_audio_prep-20-60s-32k'),Path('birdclef-2023/train_audio'),Path('birdclef-2023/sample_submission.csv'),Path('birdclef-2023/train_audio_prep')...]"
      ]
     },
     "execution_count": 60,
     "metadata": {},
     "output_type": "execute_result"
    }
   ],
   "source": [
    "comp_path.ls()"
   ]
  },
  {
   "cell_type": "code",
   "execution_count": 61,
   "id": "d2ef0728-339f-45bf-8adb-53d79e348f6a",
   "metadata": {
    "tags": []
   },
   "outputs": [],
   "source": [
    "tst_df = trn_df.loc[tst_idx]"
   ]
  },
  {
   "cell_type": "code",
   "execution_count": 62,
   "id": "4da885e6-a1be-43c6-9ae4-b2cfd2ad0fc8",
   "metadata": {
    "tags": []
   },
   "outputs": [],
   "source": [
    "tst_dl = learn.dls.test_dl(tst_df)"
   ]
  },
  {
   "cell_type": "code",
   "execution_count": 63,
   "id": "b8786576-cd7e-43c8-952d-115a0c9766e1",
   "metadata": {
    "tags": []
   },
   "outputs": [
    {
     "data": {
      "text/html": [
       "\n",
       "<style>\n",
       "    /* Turns off some styling */\n",
       "    progress {\n",
       "        /* gets rid of default border in Firefox and Opera. */\n",
       "        border: none;\n",
       "        /* Needs to be in here for Safari polyfill so background images work as expected. */\n",
       "        background-size: auto;\n",
       "    }\n",
       "    progress:not([value]), progress:not([value])::-webkit-progress-bar {\n",
       "        background: repeating-linear-gradient(45deg, #7e7e7e, #7e7e7e 10px, #5c5c5c 10px, #5c5c5c 20px);\n",
       "    }\n",
       "    .progress-bar-interrupted, .progress-bar-interrupted::-webkit-progress-bar {\n",
       "        background: #F44336;\n",
       "    }\n",
       "</style>\n"
      ],
      "text/plain": [
       "<IPython.core.display.HTML object>"
      ]
     },
     "metadata": {},
     "output_type": "display_data"
    },
    {
     "data": {
      "text/html": [],
      "text/plain": [
       "<IPython.core.display.HTML object>"
      ]
     },
     "metadata": {},
     "output_type": "display_data"
    }
   ],
   "source": [
    "probs, _, idxs = learn.get_preds(dl=tst_dl, with_decoded=True)"
   ]
  },
  {
   "cell_type": "code",
   "execution_count": 64,
   "id": "b53c1ace-ebdd-4dfb-a0ec-559541001f12",
   "metadata": {
    "tags": []
   },
   "outputs": [
    {
     "data": {
      "text/plain": [
       "torch.Size([1559, 264])"
      ]
     },
     "execution_count": 64,
     "metadata": {},
     "output_type": "execute_result"
    }
   ],
   "source": [
    "probs.shape"
   ]
  },
  {
   "cell_type": "code",
   "execution_count": 65,
   "id": "fc9b1696-ab61-4909-bfad-cea38a88b5bf",
   "metadata": {
    "tags": []
   },
   "outputs": [
    {
     "data": {
      "text/plain": [
       "torch.Size([1559])"
      ]
     },
     "execution_count": 65,
     "metadata": {},
     "output_type": "execute_result"
    }
   ],
   "source": [
    "idxs.shape"
   ]
  },
  {
   "cell_type": "code",
   "execution_count": 66,
   "id": "bf43d2e8-9dee-448f-a3a2-5de99a46fa72",
   "metadata": {
    "tags": []
   },
   "outputs": [
    {
     "data": {
      "text/html": [
       "<div>\n",
       "<style scoped>\n",
       "    .dataframe tbody tr th:only-of-type {\n",
       "        vertical-align: middle;\n",
       "    }\n",
       "\n",
       "    .dataframe tbody tr th {\n",
       "        vertical-align: top;\n",
       "    }\n",
       "\n",
       "    .dataframe thead th {\n",
       "        text-align: right;\n",
       "    }\n",
       "</style>\n",
       "<table border=\"1\" class=\"dataframe\">\n",
       "  <thead>\n",
       "    <tr style=\"text-align: right;\">\n",
       "      <th></th>\n",
       "      <th>row_id</th>\n",
       "      <th>abethr1</th>\n",
       "      <th>abhori1</th>\n",
       "      <th>abythr1</th>\n",
       "      <th>afbfly1</th>\n",
       "      <th>afdfly1</th>\n",
       "      <th>afecuc1</th>\n",
       "      <th>affeag1</th>\n",
       "      <th>afgfly1</th>\n",
       "      <th>afghor1</th>\n",
       "      <th>...</th>\n",
       "      <th>yebsto1</th>\n",
       "      <th>yeccan1</th>\n",
       "      <th>yefcan</th>\n",
       "      <th>yelbis1</th>\n",
       "      <th>yenspu1</th>\n",
       "      <th>yertin1</th>\n",
       "      <th>yesbar1</th>\n",
       "      <th>yespet1</th>\n",
       "      <th>yetgre1</th>\n",
       "      <th>yewgre1</th>\n",
       "    </tr>\n",
       "  </thead>\n",
       "  <tbody>\n",
       "    <tr>\n",
       "      <th>0</th>\n",
       "      <td>soundscape_29201_5</td>\n",
       "      <td>0</td>\n",
       "      <td>0</td>\n",
       "      <td>0</td>\n",
       "      <td>0</td>\n",
       "      <td>0</td>\n",
       "      <td>0</td>\n",
       "      <td>0</td>\n",
       "      <td>0</td>\n",
       "      <td>0</td>\n",
       "      <td>...</td>\n",
       "      <td>0</td>\n",
       "      <td>0</td>\n",
       "      <td>0</td>\n",
       "      <td>0</td>\n",
       "      <td>0</td>\n",
       "      <td>0</td>\n",
       "      <td>0</td>\n",
       "      <td>0</td>\n",
       "      <td>0</td>\n",
       "      <td>0</td>\n",
       "    </tr>\n",
       "    <tr>\n",
       "      <th>1</th>\n",
       "      <td>soundscape_29201_10</td>\n",
       "      <td>0</td>\n",
       "      <td>0</td>\n",
       "      <td>0</td>\n",
       "      <td>0</td>\n",
       "      <td>0</td>\n",
       "      <td>0</td>\n",
       "      <td>0</td>\n",
       "      <td>0</td>\n",
       "      <td>0</td>\n",
       "      <td>...</td>\n",
       "      <td>0</td>\n",
       "      <td>0</td>\n",
       "      <td>0</td>\n",
       "      <td>0</td>\n",
       "      <td>0</td>\n",
       "      <td>0</td>\n",
       "      <td>0</td>\n",
       "      <td>0</td>\n",
       "      <td>0</td>\n",
       "      <td>0</td>\n",
       "    </tr>\n",
       "    <tr>\n",
       "      <th>2</th>\n",
       "      <td>soundscape_29201_15</td>\n",
       "      <td>0</td>\n",
       "      <td>0</td>\n",
       "      <td>0</td>\n",
       "      <td>0</td>\n",
       "      <td>0</td>\n",
       "      <td>0</td>\n",
       "      <td>0</td>\n",
       "      <td>0</td>\n",
       "      <td>0</td>\n",
       "      <td>...</td>\n",
       "      <td>0</td>\n",
       "      <td>0</td>\n",
       "      <td>0</td>\n",
       "      <td>0</td>\n",
       "      <td>0</td>\n",
       "      <td>0</td>\n",
       "      <td>0</td>\n",
       "      <td>0</td>\n",
       "      <td>0</td>\n",
       "      <td>0</td>\n",
       "    </tr>\n",
       "  </tbody>\n",
       "</table>\n",
       "<p>3 rows × 265 columns</p>\n",
       "</div>"
      ],
      "text/plain": [
       "                row_id  abethr1  abhori1  abythr1  afbfly1  afdfly1  afecuc1  \\\n",
       "0   soundscape_29201_5        0        0        0        0        0        0   \n",
       "1  soundscape_29201_10        0        0        0        0        0        0   \n",
       "2  soundscape_29201_15        0        0        0        0        0        0   \n",
       "\n",
       "   affeag1  afgfly1  afghor1  ...  yebsto1  yeccan1  yefcan  yelbis1  yenspu1  \\\n",
       "0        0        0        0  ...        0        0       0        0        0   \n",
       "1        0        0        0  ...        0        0       0        0        0   \n",
       "2        0        0        0  ...        0        0       0        0        0   \n",
       "\n",
       "   yertin1  yesbar1  yespet1  yetgre1  yewgre1  \n",
       "0        0        0        0        0        0  \n",
       "1        0        0        0        0        0  \n",
       "2        0        0        0        0        0  \n",
       "\n",
       "[3 rows x 265 columns]"
      ]
     },
     "execution_count": 66,
     "metadata": {},
     "output_type": "execute_result"
    }
   ],
   "source": [
    "sub_sample_df = pd.read_csv(comp_path/'sample_submission.csv')\n",
    "sub_sample_df.head()"
   ]
  },
  {
   "cell_type": "code",
   "execution_count": 67,
   "id": "c3eda74a-af4c-426e-93be-943392b2e1de",
   "metadata": {
    "tags": []
   },
   "outputs": [],
   "source": [
    "preds = (probs > 0.5).int()"
   ]
  },
  {
   "cell_type": "code",
   "execution_count": 68,
   "id": "c91f14ec-9556-416d-8ade-9b89a0e56efe",
   "metadata": {
    "tags": []
   },
   "outputs": [
    {
     "data": {
      "text/plain": [
       "TensorBase([0, 0, 0, 0, 0, 0, 0, 0, 0, 0, 0, 0, 0, 0, 0, 0, 0, 0, 0, 0, 0, 0, 0,\n",
       "            0, 0, 0, 0, 0, 0, 0, 0, 0, 0, 0, 0, 0, 0, 0, 0, 0, 0, 0, 0, 0, 0, 0,\n",
       "            0, 0, 0, 0, 0, 0, 0, 0, 0, 0, 0, 0, 0, 0, 0, 0, 0, 0, 0, 0, 0, 0, 0,\n",
       "            0, 0, 0, 0, 0, 0, 0, 0, 0, 0, 0, 0, 0, 0, 0, 0, 0, 0, 0, 0, 0, 0, 0,\n",
       "            0, 0, 0, 0, 0, 0, 0, 0, 0, 0, 0, 0, 0, 0, 0, 0, 0, 0, 0, 0, 0, 0, 0,\n",
       "            0, 0, 0, 0, 0, 0, 0, 0, 0, 0, 0, 0, 0, 0, 0, 0, 0, 0, 0, 0, 0, 0, 0,\n",
       "            0, 0, 0, 0, 0, 0, 0, 0, 0, 0, 0, 0, 0, 0, 0, 0, 0, 0, 0, 0, 0, 0, 0,\n",
       "            0, 0, 0, 0, 0, 0, 0, 0, 0, 0, 0, 0, 0, 0, 0, 0, 0, 0, 0, 0, 0, 0, 0,\n",
       "            0, 0, 0, 0, 0, 0, 0, 0, 0, 0, 0, 0, 0, 0, 0, 0, 0, 0, 0, 0, 0, 0, 0,\n",
       "            0, 0, 0, 0, 0, 0, 0, 0, 0, 0, 0, 0, 0, 0, 0, 0, 0, 0, 0, 0, 0, 0, 0,\n",
       "            0, 0, 0, 0, 0, 0, 0, 0, 0, 0, 0, 0, 0, 0, 0, 1, 0, 0, 0, 0, 0, 0, 0,\n",
       "            0, 0, 0, 0, 0, 0, 0, 0, 0, 0, 0], dtype=torch.int32)"
      ]
     },
     "execution_count": 68,
     "metadata": {},
     "output_type": "execute_result"
    }
   ],
   "source": [
    "preds[0]"
   ]
  },
  {
   "cell_type": "code",
   "execution_count": 69,
   "id": "965169e8-82c0-4ce1-9737-90fb41045b1a",
   "metadata": {
    "tags": []
   },
   "outputs": [
    {
     "data": {
      "text/html": [
       "<div>\n",
       "<style scoped>\n",
       "    .dataframe tbody tr th:only-of-type {\n",
       "        vertical-align: middle;\n",
       "    }\n",
       "\n",
       "    .dataframe tbody tr th {\n",
       "        vertical-align: top;\n",
       "    }\n",
       "\n",
       "    .dataframe thead th {\n",
       "        text-align: right;\n",
       "    }\n",
       "</style>\n",
       "<table border=\"1\" class=\"dataframe\">\n",
       "  <thead>\n",
       "    <tr style=\"text-align: right;\">\n",
       "      <th></th>\n",
       "      <th>row_id</th>\n",
       "      <th>abethr1</th>\n",
       "      <th>abhori1</th>\n",
       "      <th>abythr1</th>\n",
       "      <th>afbfly1</th>\n",
       "      <th>afdfly1</th>\n",
       "      <th>afecuc1</th>\n",
       "      <th>affeag1</th>\n",
       "      <th>afgfly1</th>\n",
       "      <th>afghor1</th>\n",
       "      <th>...</th>\n",
       "      <th>yebsto1</th>\n",
       "      <th>yeccan1</th>\n",
       "      <th>yefcan</th>\n",
       "      <th>yelbis1</th>\n",
       "      <th>yenspu1</th>\n",
       "      <th>yertin1</th>\n",
       "      <th>yesbar1</th>\n",
       "      <th>yespet1</th>\n",
       "      <th>yetgre1</th>\n",
       "      <th>yewgre1</th>\n",
       "    </tr>\n",
       "  </thead>\n",
       "  <tbody>\n",
       "    <tr>\n",
       "      <th>0</th>\n",
       "      <td>wlwwar/XC582018.ogg</td>\n",
       "      <td>0</td>\n",
       "      <td>0</td>\n",
       "      <td>0</td>\n",
       "      <td>0</td>\n",
       "      <td>0</td>\n",
       "      <td>0</td>\n",
       "      <td>0</td>\n",
       "      <td>0</td>\n",
       "      <td>0</td>\n",
       "      <td>...</td>\n",
       "      <td>0</td>\n",
       "      <td>0</td>\n",
       "      <td>0</td>\n",
       "      <td>0</td>\n",
       "      <td>0</td>\n",
       "      <td>0</td>\n",
       "      <td>0</td>\n",
       "      <td>0</td>\n",
       "      <td>0</td>\n",
       "      <td>0</td>\n",
       "    </tr>\n",
       "    <tr>\n",
       "      <th>1</th>\n",
       "      <td>woosan/XC599910.ogg</td>\n",
       "      <td>0</td>\n",
       "      <td>0</td>\n",
       "      <td>0</td>\n",
       "      <td>0</td>\n",
       "      <td>0</td>\n",
       "      <td>0</td>\n",
       "      <td>0</td>\n",
       "      <td>0</td>\n",
       "      <td>0</td>\n",
       "      <td>...</td>\n",
       "      <td>0</td>\n",
       "      <td>0</td>\n",
       "      <td>0</td>\n",
       "      <td>0</td>\n",
       "      <td>0</td>\n",
       "      <td>0</td>\n",
       "      <td>0</td>\n",
       "      <td>0</td>\n",
       "      <td>0</td>\n",
       "      <td>0</td>\n",
       "    </tr>\n",
       "    <tr>\n",
       "      <th>2</th>\n",
       "      <td>woosan/XC545085.ogg</td>\n",
       "      <td>0</td>\n",
       "      <td>0</td>\n",
       "      <td>0</td>\n",
       "      <td>0</td>\n",
       "      <td>0</td>\n",
       "      <td>0</td>\n",
       "      <td>0</td>\n",
       "      <td>0</td>\n",
       "      <td>0</td>\n",
       "      <td>...</td>\n",
       "      <td>0</td>\n",
       "      <td>0</td>\n",
       "      <td>0</td>\n",
       "      <td>0</td>\n",
       "      <td>0</td>\n",
       "      <td>0</td>\n",
       "      <td>0</td>\n",
       "      <td>0</td>\n",
       "      <td>0</td>\n",
       "      <td>0</td>\n",
       "    </tr>\n",
       "    <tr>\n",
       "      <th>3</th>\n",
       "      <td>spwlap1/XC472381.ogg</td>\n",
       "      <td>0</td>\n",
       "      <td>0</td>\n",
       "      <td>0</td>\n",
       "      <td>0</td>\n",
       "      <td>0</td>\n",
       "      <td>0</td>\n",
       "      <td>0</td>\n",
       "      <td>0</td>\n",
       "      <td>0</td>\n",
       "      <td>...</td>\n",
       "      <td>0</td>\n",
       "      <td>0</td>\n",
       "      <td>0</td>\n",
       "      <td>0</td>\n",
       "      <td>0</td>\n",
       "      <td>0</td>\n",
       "      <td>0</td>\n",
       "      <td>0</td>\n",
       "      <td>0</td>\n",
       "      <td>0</td>\n",
       "    </tr>\n",
       "    <tr>\n",
       "      <th>4</th>\n",
       "      <td>bltapa1/XC753135.ogg</td>\n",
       "      <td>0</td>\n",
       "      <td>0</td>\n",
       "      <td>0</td>\n",
       "      <td>0</td>\n",
       "      <td>0</td>\n",
       "      <td>0</td>\n",
       "      <td>0</td>\n",
       "      <td>0</td>\n",
       "      <td>0</td>\n",
       "      <td>...</td>\n",
       "      <td>0</td>\n",
       "      <td>0</td>\n",
       "      <td>0</td>\n",
       "      <td>0</td>\n",
       "      <td>0</td>\n",
       "      <td>0</td>\n",
       "      <td>0</td>\n",
       "      <td>0</td>\n",
       "      <td>0</td>\n",
       "      <td>0</td>\n",
       "    </tr>\n",
       "  </tbody>\n",
       "</table>\n",
       "<p>5 rows × 265 columns</p>\n",
       "</div>"
      ],
      "text/plain": [
       "                 row_id  abethr1  abhori1  abythr1  afbfly1  afdfly1  afecuc1  \\\n",
       "0   wlwwar/XC582018.ogg        0        0        0        0        0        0   \n",
       "1   woosan/XC599910.ogg        0        0        0        0        0        0   \n",
       "2   woosan/XC545085.ogg        0        0        0        0        0        0   \n",
       "3  spwlap1/XC472381.ogg        0        0        0        0        0        0   \n",
       "4  bltapa1/XC753135.ogg        0        0        0        0        0        0   \n",
       "\n",
       "   affeag1  afgfly1  afghor1  ...  yebsto1  yeccan1  yefcan  yelbis1  yenspu1  \\\n",
       "0        0        0        0  ...        0        0       0        0        0   \n",
       "1        0        0        0  ...        0        0       0        0        0   \n",
       "2        0        0        0  ...        0        0       0        0        0   \n",
       "3        0        0        0  ...        0        0       0        0        0   \n",
       "4        0        0        0  ...        0        0       0        0        0   \n",
       "\n",
       "   yertin1  yesbar1  yespet1  yetgre1  yewgre1  \n",
       "0        0        0        0        0        0  \n",
       "1        0        0        0        0        0  \n",
       "2        0        0        0        0        0  \n",
       "3        0        0        0        0        0  \n",
       "4        0        0        0        0        0  \n",
       "\n",
       "[5 rows x 265 columns]"
      ]
     },
     "execution_count": 69,
     "metadata": {},
     "output_type": "execute_result"
    }
   ],
   "source": [
    "sub_df = pd.DataFrame(tst_df.reset_index().filename)\n",
    "sub_df.columns = ['row_id']\n",
    "# sub_df = pd.concat([sub_df, pd.DataFrame(preds, columns=learn.dls.vocab)], axis=1)  # breaks when debugging with a small number of images where classes are missing\n",
    "sub_df = pd.concat([sub_df, pd.DataFrame(preds, columns=sub_sample_df.columns[1:])], axis=1)\n",
    "sub_df.head()"
   ]
  },
  {
   "cell_type": "code",
   "execution_count": 70,
   "id": "72e0510b-75b1-43aa-b6d4-976673d3ee84",
   "metadata": {
    "tags": []
   },
   "outputs": [
    {
     "data": {
      "text/html": [
       "<div>\n",
       "<style scoped>\n",
       "    .dataframe tbody tr th:only-of-type {\n",
       "        vertical-align: middle;\n",
       "    }\n",
       "\n",
       "    .dataframe tbody tr th {\n",
       "        vertical-align: top;\n",
       "    }\n",
       "\n",
       "    .dataframe thead th {\n",
       "        text-align: right;\n",
       "    }\n",
       "</style>\n",
       "<table border=\"1\" class=\"dataframe\">\n",
       "  <thead>\n",
       "    <tr style=\"text-align: right;\">\n",
       "      <th></th>\n",
       "      <th>abethr1</th>\n",
       "      <th>abhori1</th>\n",
       "      <th>abythr1</th>\n",
       "      <th>afbfly1</th>\n",
       "      <th>afdfly1</th>\n",
       "      <th>afecuc1</th>\n",
       "      <th>affeag1</th>\n",
       "      <th>afgfly1</th>\n",
       "      <th>afghor1</th>\n",
       "      <th>afmdov1</th>\n",
       "      <th>...</th>\n",
       "      <th>yebsto1</th>\n",
       "      <th>yeccan1</th>\n",
       "      <th>yefcan</th>\n",
       "      <th>yelbis1</th>\n",
       "      <th>yenspu1</th>\n",
       "      <th>yertin1</th>\n",
       "      <th>yesbar1</th>\n",
       "      <th>yespet1</th>\n",
       "      <th>yetgre1</th>\n",
       "      <th>yewgre1</th>\n",
       "    </tr>\n",
       "  </thead>\n",
       "  <tbody>\n",
       "    <tr>\n",
       "      <th>count</th>\n",
       "      <td>1559.0</td>\n",
       "      <td>1559.0</td>\n",
       "      <td>1559.0</td>\n",
       "      <td>1559.0</td>\n",
       "      <td>1559.0</td>\n",
       "      <td>1559.0</td>\n",
       "      <td>1559.0</td>\n",
       "      <td>1559.0</td>\n",
       "      <td>1559.0</td>\n",
       "      <td>1559.0</td>\n",
       "      <td>...</td>\n",
       "      <td>1559.0</td>\n",
       "      <td>1559.0</td>\n",
       "      <td>1559.0</td>\n",
       "      <td>1559.0</td>\n",
       "      <td>1559.0</td>\n",
       "      <td>1559.0</td>\n",
       "      <td>1559.0</td>\n",
       "      <td>1559.0</td>\n",
       "      <td>1559.0</td>\n",
       "      <td>1559.0</td>\n",
       "    </tr>\n",
       "    <tr>\n",
       "      <th>mean</th>\n",
       "      <td>0.0</td>\n",
       "      <td>0.0</td>\n",
       "      <td>0.0</td>\n",
       "      <td>0.0</td>\n",
       "      <td>0.0</td>\n",
       "      <td>0.0</td>\n",
       "      <td>0.0</td>\n",
       "      <td>0.0</td>\n",
       "      <td>0.0</td>\n",
       "      <td>0.0</td>\n",
       "      <td>...</td>\n",
       "      <td>0.0</td>\n",
       "      <td>0.0</td>\n",
       "      <td>0.0</td>\n",
       "      <td>0.0</td>\n",
       "      <td>0.0</td>\n",
       "      <td>0.0</td>\n",
       "      <td>0.0</td>\n",
       "      <td>0.0</td>\n",
       "      <td>0.0</td>\n",
       "      <td>0.0</td>\n",
       "    </tr>\n",
       "    <tr>\n",
       "      <th>std</th>\n",
       "      <td>0.0</td>\n",
       "      <td>0.0</td>\n",
       "      <td>0.0</td>\n",
       "      <td>0.0</td>\n",
       "      <td>0.0</td>\n",
       "      <td>0.0</td>\n",
       "      <td>0.0</td>\n",
       "      <td>0.0</td>\n",
       "      <td>0.0</td>\n",
       "      <td>0.0</td>\n",
       "      <td>...</td>\n",
       "      <td>0.0</td>\n",
       "      <td>0.0</td>\n",
       "      <td>0.0</td>\n",
       "      <td>0.0</td>\n",
       "      <td>0.0</td>\n",
       "      <td>0.0</td>\n",
       "      <td>0.0</td>\n",
       "      <td>0.0</td>\n",
       "      <td>0.0</td>\n",
       "      <td>0.0</td>\n",
       "    </tr>\n",
       "    <tr>\n",
       "      <th>min</th>\n",
       "      <td>0.0</td>\n",
       "      <td>0.0</td>\n",
       "      <td>0.0</td>\n",
       "      <td>0.0</td>\n",
       "      <td>0.0</td>\n",
       "      <td>0.0</td>\n",
       "      <td>0.0</td>\n",
       "      <td>0.0</td>\n",
       "      <td>0.0</td>\n",
       "      <td>0.0</td>\n",
       "      <td>...</td>\n",
       "      <td>0.0</td>\n",
       "      <td>0.0</td>\n",
       "      <td>0.0</td>\n",
       "      <td>0.0</td>\n",
       "      <td>0.0</td>\n",
       "      <td>0.0</td>\n",
       "      <td>0.0</td>\n",
       "      <td>0.0</td>\n",
       "      <td>0.0</td>\n",
       "      <td>0.0</td>\n",
       "    </tr>\n",
       "    <tr>\n",
       "      <th>25%</th>\n",
       "      <td>0.0</td>\n",
       "      <td>0.0</td>\n",
       "      <td>0.0</td>\n",
       "      <td>0.0</td>\n",
       "      <td>0.0</td>\n",
       "      <td>0.0</td>\n",
       "      <td>0.0</td>\n",
       "      <td>0.0</td>\n",
       "      <td>0.0</td>\n",
       "      <td>0.0</td>\n",
       "      <td>...</td>\n",
       "      <td>0.0</td>\n",
       "      <td>0.0</td>\n",
       "      <td>0.0</td>\n",
       "      <td>0.0</td>\n",
       "      <td>0.0</td>\n",
       "      <td>0.0</td>\n",
       "      <td>0.0</td>\n",
       "      <td>0.0</td>\n",
       "      <td>0.0</td>\n",
       "      <td>0.0</td>\n",
       "    </tr>\n",
       "    <tr>\n",
       "      <th>50%</th>\n",
       "      <td>0.0</td>\n",
       "      <td>0.0</td>\n",
       "      <td>0.0</td>\n",
       "      <td>0.0</td>\n",
       "      <td>0.0</td>\n",
       "      <td>0.0</td>\n",
       "      <td>0.0</td>\n",
       "      <td>0.0</td>\n",
       "      <td>0.0</td>\n",
       "      <td>0.0</td>\n",
       "      <td>...</td>\n",
       "      <td>0.0</td>\n",
       "      <td>0.0</td>\n",
       "      <td>0.0</td>\n",
       "      <td>0.0</td>\n",
       "      <td>0.0</td>\n",
       "      <td>0.0</td>\n",
       "      <td>0.0</td>\n",
       "      <td>0.0</td>\n",
       "      <td>0.0</td>\n",
       "      <td>0.0</td>\n",
       "    </tr>\n",
       "    <tr>\n",
       "      <th>75%</th>\n",
       "      <td>0.0</td>\n",
       "      <td>0.0</td>\n",
       "      <td>0.0</td>\n",
       "      <td>0.0</td>\n",
       "      <td>0.0</td>\n",
       "      <td>0.0</td>\n",
       "      <td>0.0</td>\n",
       "      <td>0.0</td>\n",
       "      <td>0.0</td>\n",
       "      <td>0.0</td>\n",
       "      <td>...</td>\n",
       "      <td>0.0</td>\n",
       "      <td>0.0</td>\n",
       "      <td>0.0</td>\n",
       "      <td>0.0</td>\n",
       "      <td>0.0</td>\n",
       "      <td>0.0</td>\n",
       "      <td>0.0</td>\n",
       "      <td>0.0</td>\n",
       "      <td>0.0</td>\n",
       "      <td>0.0</td>\n",
       "    </tr>\n",
       "    <tr>\n",
       "      <th>max</th>\n",
       "      <td>0.0</td>\n",
       "      <td>0.0</td>\n",
       "      <td>0.0</td>\n",
       "      <td>0.0</td>\n",
       "      <td>0.0</td>\n",
       "      <td>0.0</td>\n",
       "      <td>0.0</td>\n",
       "      <td>0.0</td>\n",
       "      <td>0.0</td>\n",
       "      <td>0.0</td>\n",
       "      <td>...</td>\n",
       "      <td>0.0</td>\n",
       "      <td>0.0</td>\n",
       "      <td>0.0</td>\n",
       "      <td>0.0</td>\n",
       "      <td>0.0</td>\n",
       "      <td>0.0</td>\n",
       "      <td>0.0</td>\n",
       "      <td>0.0</td>\n",
       "      <td>0.0</td>\n",
       "      <td>0.0</td>\n",
       "    </tr>\n",
       "  </tbody>\n",
       "</table>\n",
       "<p>8 rows × 264 columns</p>\n",
       "</div>"
      ],
      "text/plain": [
       "       abethr1  abhori1  abythr1  afbfly1  afdfly1  afecuc1  affeag1  afgfly1  \\\n",
       "count   1559.0   1559.0   1559.0   1559.0   1559.0   1559.0   1559.0   1559.0   \n",
       "mean       0.0      0.0      0.0      0.0      0.0      0.0      0.0      0.0   \n",
       "std        0.0      0.0      0.0      0.0      0.0      0.0      0.0      0.0   \n",
       "min        0.0      0.0      0.0      0.0      0.0      0.0      0.0      0.0   \n",
       "25%        0.0      0.0      0.0      0.0      0.0      0.0      0.0      0.0   \n",
       "50%        0.0      0.0      0.0      0.0      0.0      0.0      0.0      0.0   \n",
       "75%        0.0      0.0      0.0      0.0      0.0      0.0      0.0      0.0   \n",
       "max        0.0      0.0      0.0      0.0      0.0      0.0      0.0      0.0   \n",
       "\n",
       "       afghor1  afmdov1  ...  yebsto1  yeccan1  yefcan  yelbis1  yenspu1  \\\n",
       "count   1559.0   1559.0  ...   1559.0   1559.0  1559.0   1559.0   1559.0   \n",
       "mean       0.0      0.0  ...      0.0      0.0     0.0      0.0      0.0   \n",
       "std        0.0      0.0  ...      0.0      0.0     0.0      0.0      0.0   \n",
       "min        0.0      0.0  ...      0.0      0.0     0.0      0.0      0.0   \n",
       "25%        0.0      0.0  ...      0.0      0.0     0.0      0.0      0.0   \n",
       "50%        0.0      0.0  ...      0.0      0.0     0.0      0.0      0.0   \n",
       "75%        0.0      0.0  ...      0.0      0.0     0.0      0.0      0.0   \n",
       "max        0.0      0.0  ...      0.0      0.0     0.0      0.0      0.0   \n",
       "\n",
       "       yertin1  yesbar1  yespet1  yetgre1  yewgre1  \n",
       "count   1559.0   1559.0   1559.0   1559.0   1559.0  \n",
       "mean       0.0      0.0      0.0      0.0      0.0  \n",
       "std        0.0      0.0      0.0      0.0      0.0  \n",
       "min        0.0      0.0      0.0      0.0      0.0  \n",
       "25%        0.0      0.0      0.0      0.0      0.0  \n",
       "50%        0.0      0.0      0.0      0.0      0.0  \n",
       "75%        0.0      0.0      0.0      0.0      0.0  \n",
       "max        0.0      0.0      0.0      0.0      0.0  \n",
       "\n",
       "[8 rows x 264 columns]"
      ]
     },
     "execution_count": 70,
     "metadata": {},
     "output_type": "execute_result"
    }
   ],
   "source": [
    "truth_df = sub_df.copy()\n",
    "truth_df.iloc[:, 1:] = 0\n",
    "truth_df.describe()"
   ]
  },
  {
   "cell_type": "code",
   "execution_count": 71,
   "id": "946b9de4-ab3b-4dc2-8f9e-8213e415d115",
   "metadata": {
    "tags": []
   },
   "outputs": [
    {
     "data": {
      "text/html": [
       "<div>\n",
       "<style scoped>\n",
       "    .dataframe tbody tr th:only-of-type {\n",
       "        vertical-align: middle;\n",
       "    }\n",
       "\n",
       "    .dataframe tbody tr th {\n",
       "        vertical-align: top;\n",
       "    }\n",
       "\n",
       "    .dataframe thead th {\n",
       "        text-align: right;\n",
       "    }\n",
       "</style>\n",
       "<table border=\"1\" class=\"dataframe\">\n",
       "  <thead>\n",
       "    <tr style=\"text-align: right;\">\n",
       "      <th></th>\n",
       "      <th>abethr1</th>\n",
       "      <th>abhori1</th>\n",
       "      <th>abythr1</th>\n",
       "      <th>afbfly1</th>\n",
       "      <th>afdfly1</th>\n",
       "      <th>afecuc1</th>\n",
       "      <th>affeag1</th>\n",
       "      <th>afgfly1</th>\n",
       "      <th>afghor1</th>\n",
       "      <th>afmdov1</th>\n",
       "      <th>...</th>\n",
       "      <th>yebsto1</th>\n",
       "      <th>yeccan1</th>\n",
       "      <th>yefcan</th>\n",
       "      <th>yelbis1</th>\n",
       "      <th>yenspu1</th>\n",
       "      <th>yertin1</th>\n",
       "      <th>yesbar1</th>\n",
       "      <th>yespet1</th>\n",
       "      <th>yetgre1</th>\n",
       "      <th>yewgre1</th>\n",
       "    </tr>\n",
       "  </thead>\n",
       "  <tbody>\n",
       "    <tr>\n",
       "      <th>count</th>\n",
       "      <td>1559.000000</td>\n",
       "      <td>1559.000000</td>\n",
       "      <td>1559.000000</td>\n",
       "      <td>1559.000000</td>\n",
       "      <td>1559.000000</td>\n",
       "      <td>1559.000000</td>\n",
       "      <td>1559.000000</td>\n",
       "      <td>1559.000000</td>\n",
       "      <td>1559.000000</td>\n",
       "      <td>1559.000000</td>\n",
       "      <td>...</td>\n",
       "      <td>1559.0</td>\n",
       "      <td>1559.000000</td>\n",
       "      <td>1559.000000</td>\n",
       "      <td>1559.000000</td>\n",
       "      <td>1559.000000</td>\n",
       "      <td>1559.000000</td>\n",
       "      <td>1559.000000</td>\n",
       "      <td>1559.000000</td>\n",
       "      <td>1559.000000</td>\n",
       "      <td>1559.000000</td>\n",
       "    </tr>\n",
       "    <tr>\n",
       "      <th>mean</th>\n",
       "      <td>0.000641</td>\n",
       "      <td>0.007697</td>\n",
       "      <td>0.001924</td>\n",
       "      <td>0.001283</td>\n",
       "      <td>0.001283</td>\n",
       "      <td>0.005773</td>\n",
       "      <td>0.002566</td>\n",
       "      <td>0.000641</td>\n",
       "      <td>0.004490</td>\n",
       "      <td>0.001924</td>\n",
       "      <td>...</td>\n",
       "      <td>0.0</td>\n",
       "      <td>0.000641</td>\n",
       "      <td>0.004490</td>\n",
       "      <td>0.001283</td>\n",
       "      <td>0.000641</td>\n",
       "      <td>0.008339</td>\n",
       "      <td>0.001924</td>\n",
       "      <td>0.000641</td>\n",
       "      <td>0.001924</td>\n",
       "      <td>0.006414</td>\n",
       "    </tr>\n",
       "    <tr>\n",
       "      <th>std</th>\n",
       "      <td>0.025327</td>\n",
       "      <td>0.087424</td>\n",
       "      <td>0.043839</td>\n",
       "      <td>0.035806</td>\n",
       "      <td>0.035806</td>\n",
       "      <td>0.075784</td>\n",
       "      <td>0.050604</td>\n",
       "      <td>0.025327</td>\n",
       "      <td>0.066879</td>\n",
       "      <td>0.043839</td>\n",
       "      <td>...</td>\n",
       "      <td>0.0</td>\n",
       "      <td>0.025327</td>\n",
       "      <td>0.066879</td>\n",
       "      <td>0.035806</td>\n",
       "      <td>0.025327</td>\n",
       "      <td>0.090964</td>\n",
       "      <td>0.043839</td>\n",
       "      <td>0.025327</td>\n",
       "      <td>0.043839</td>\n",
       "      <td>0.079858</td>\n",
       "    </tr>\n",
       "    <tr>\n",
       "      <th>min</th>\n",
       "      <td>0.000000</td>\n",
       "      <td>0.000000</td>\n",
       "      <td>0.000000</td>\n",
       "      <td>0.000000</td>\n",
       "      <td>0.000000</td>\n",
       "      <td>0.000000</td>\n",
       "      <td>0.000000</td>\n",
       "      <td>0.000000</td>\n",
       "      <td>0.000000</td>\n",
       "      <td>0.000000</td>\n",
       "      <td>...</td>\n",
       "      <td>0.0</td>\n",
       "      <td>0.000000</td>\n",
       "      <td>0.000000</td>\n",
       "      <td>0.000000</td>\n",
       "      <td>0.000000</td>\n",
       "      <td>0.000000</td>\n",
       "      <td>0.000000</td>\n",
       "      <td>0.000000</td>\n",
       "      <td>0.000000</td>\n",
       "      <td>0.000000</td>\n",
       "    </tr>\n",
       "    <tr>\n",
       "      <th>25%</th>\n",
       "      <td>0.000000</td>\n",
       "      <td>0.000000</td>\n",
       "      <td>0.000000</td>\n",
       "      <td>0.000000</td>\n",
       "      <td>0.000000</td>\n",
       "      <td>0.000000</td>\n",
       "      <td>0.000000</td>\n",
       "      <td>0.000000</td>\n",
       "      <td>0.000000</td>\n",
       "      <td>0.000000</td>\n",
       "      <td>...</td>\n",
       "      <td>0.0</td>\n",
       "      <td>0.000000</td>\n",
       "      <td>0.000000</td>\n",
       "      <td>0.000000</td>\n",
       "      <td>0.000000</td>\n",
       "      <td>0.000000</td>\n",
       "      <td>0.000000</td>\n",
       "      <td>0.000000</td>\n",
       "      <td>0.000000</td>\n",
       "      <td>0.000000</td>\n",
       "    </tr>\n",
       "    <tr>\n",
       "      <th>50%</th>\n",
       "      <td>0.000000</td>\n",
       "      <td>0.000000</td>\n",
       "      <td>0.000000</td>\n",
       "      <td>0.000000</td>\n",
       "      <td>0.000000</td>\n",
       "      <td>0.000000</td>\n",
       "      <td>0.000000</td>\n",
       "      <td>0.000000</td>\n",
       "      <td>0.000000</td>\n",
       "      <td>0.000000</td>\n",
       "      <td>...</td>\n",
       "      <td>0.0</td>\n",
       "      <td>0.000000</td>\n",
       "      <td>0.000000</td>\n",
       "      <td>0.000000</td>\n",
       "      <td>0.000000</td>\n",
       "      <td>0.000000</td>\n",
       "      <td>0.000000</td>\n",
       "      <td>0.000000</td>\n",
       "      <td>0.000000</td>\n",
       "      <td>0.000000</td>\n",
       "    </tr>\n",
       "    <tr>\n",
       "      <th>75%</th>\n",
       "      <td>0.000000</td>\n",
       "      <td>0.000000</td>\n",
       "      <td>0.000000</td>\n",
       "      <td>0.000000</td>\n",
       "      <td>0.000000</td>\n",
       "      <td>0.000000</td>\n",
       "      <td>0.000000</td>\n",
       "      <td>0.000000</td>\n",
       "      <td>0.000000</td>\n",
       "      <td>0.000000</td>\n",
       "      <td>...</td>\n",
       "      <td>0.0</td>\n",
       "      <td>0.000000</td>\n",
       "      <td>0.000000</td>\n",
       "      <td>0.000000</td>\n",
       "      <td>0.000000</td>\n",
       "      <td>0.000000</td>\n",
       "      <td>0.000000</td>\n",
       "      <td>0.000000</td>\n",
       "      <td>0.000000</td>\n",
       "      <td>0.000000</td>\n",
       "    </tr>\n",
       "    <tr>\n",
       "      <th>max</th>\n",
       "      <td>1.000000</td>\n",
       "      <td>1.000000</td>\n",
       "      <td>1.000000</td>\n",
       "      <td>1.000000</td>\n",
       "      <td>1.000000</td>\n",
       "      <td>1.000000</td>\n",
       "      <td>1.000000</td>\n",
       "      <td>1.000000</td>\n",
       "      <td>1.000000</td>\n",
       "      <td>1.000000</td>\n",
       "      <td>...</td>\n",
       "      <td>0.0</td>\n",
       "      <td>1.000000</td>\n",
       "      <td>1.000000</td>\n",
       "      <td>1.000000</td>\n",
       "      <td>1.000000</td>\n",
       "      <td>1.000000</td>\n",
       "      <td>1.000000</td>\n",
       "      <td>1.000000</td>\n",
       "      <td>1.000000</td>\n",
       "      <td>1.000000</td>\n",
       "    </tr>\n",
       "  </tbody>\n",
       "</table>\n",
       "<p>8 rows × 264 columns</p>\n",
       "</div>"
      ],
      "text/plain": [
       "           abethr1      abhori1      abythr1      afbfly1      afdfly1  \\\n",
       "count  1559.000000  1559.000000  1559.000000  1559.000000  1559.000000   \n",
       "mean      0.000641     0.007697     0.001924     0.001283     0.001283   \n",
       "std       0.025327     0.087424     0.043839     0.035806     0.035806   \n",
       "min       0.000000     0.000000     0.000000     0.000000     0.000000   \n",
       "25%       0.000000     0.000000     0.000000     0.000000     0.000000   \n",
       "50%       0.000000     0.000000     0.000000     0.000000     0.000000   \n",
       "75%       0.000000     0.000000     0.000000     0.000000     0.000000   \n",
       "max       1.000000     1.000000     1.000000     1.000000     1.000000   \n",
       "\n",
       "           afecuc1      affeag1      afgfly1      afghor1      afmdov1  ...  \\\n",
       "count  1559.000000  1559.000000  1559.000000  1559.000000  1559.000000  ...   \n",
       "mean      0.005773     0.002566     0.000641     0.004490     0.001924  ...   \n",
       "std       0.075784     0.050604     0.025327     0.066879     0.043839  ...   \n",
       "min       0.000000     0.000000     0.000000     0.000000     0.000000  ...   \n",
       "25%       0.000000     0.000000     0.000000     0.000000     0.000000  ...   \n",
       "50%       0.000000     0.000000     0.000000     0.000000     0.000000  ...   \n",
       "75%       0.000000     0.000000     0.000000     0.000000     0.000000  ...   \n",
       "max       1.000000     1.000000     1.000000     1.000000     1.000000  ...   \n",
       "\n",
       "       yebsto1      yeccan1       yefcan      yelbis1      yenspu1  \\\n",
       "count   1559.0  1559.000000  1559.000000  1559.000000  1559.000000   \n",
       "mean       0.0     0.000641     0.004490     0.001283     0.000641   \n",
       "std        0.0     0.025327     0.066879     0.035806     0.025327   \n",
       "min        0.0     0.000000     0.000000     0.000000     0.000000   \n",
       "25%        0.0     0.000000     0.000000     0.000000     0.000000   \n",
       "50%        0.0     0.000000     0.000000     0.000000     0.000000   \n",
       "75%        0.0     0.000000     0.000000     0.000000     0.000000   \n",
       "max        0.0     1.000000     1.000000     1.000000     1.000000   \n",
       "\n",
       "           yertin1      yesbar1      yespet1      yetgre1      yewgre1  \n",
       "count  1559.000000  1559.000000  1559.000000  1559.000000  1559.000000  \n",
       "mean      0.008339     0.001924     0.000641     0.001924     0.006414  \n",
       "std       0.090964     0.043839     0.025327     0.043839     0.079858  \n",
       "min       0.000000     0.000000     0.000000     0.000000     0.000000  \n",
       "25%       0.000000     0.000000     0.000000     0.000000     0.000000  \n",
       "50%       0.000000     0.000000     0.000000     0.000000     0.000000  \n",
       "75%       0.000000     0.000000     0.000000     0.000000     0.000000  \n",
       "max       1.000000     1.000000     1.000000     1.000000     1.000000  \n",
       "\n",
       "[8 rows x 264 columns]"
      ]
     },
     "execution_count": 71,
     "metadata": {},
     "output_type": "execute_result"
    }
   ],
   "source": [
    "for r, c in enumerate(tst_df.primary_label):\n",
    "    truth_df.loc[r, c] = 1\n",
    "truth_df.describe()"
   ]
  },
  {
   "cell_type": "code",
   "execution_count": 72,
   "id": "acc0e8a1-4c8d-4854-a24c-bdd7f0bcab3b",
   "metadata": {
    "tags": []
   },
   "outputs": [],
   "source": [
    "# Function provided here: https://www.kaggle.com/competitions/birdclef-2023/overview/evaluation\n",
    "\n",
    "def padded_cmap_for_df(solution, submission, padding_factor=5):\n",
    "    solution = solution.drop(['row_id'], axis=1, errors='ignore')\n",
    "    submission = submission.drop(['row_id'], axis=1, errors='ignore')\n",
    "    new_rows = []\n",
    "    for i in range(padding_factor):\n",
    "        new_rows.append([1 for i in range(len(solution.columns))])\n",
    "    # print(new_rows)\n",
    "    new_rows = pd.DataFrame(new_rows)\n",
    "    new_rows.columns = solution.columns\n",
    "    padded_solution = pd.concat([solution, new_rows]).reset_index(drop=True).copy()\n",
    "    padded_submission = pd.concat([submission, new_rows]).reset_index(drop=True).copy()\n",
    "    # print(padded_solution.shape)\n",
    "    # print(padded_submission.shape)\n",
    "    score = sklearn.metrics.average_precision_score(\n",
    "        padded_solution.values,\n",
    "        padded_submission.values,\n",
    "        average='macro',\n",
    "    )\n",
    "    return score"
   ]
  },
  {
   "cell_type": "code",
   "execution_count": 73,
   "id": "72c8543f-246a-4158-9b06-ea5cc64f0c74",
   "metadata": {
    "tags": []
   },
   "outputs": [
    {
     "data": {
      "text/html": [
       "<div>\n",
       "<style scoped>\n",
       "    .dataframe tbody tr th:only-of-type {\n",
       "        vertical-align: middle;\n",
       "    }\n",
       "\n",
       "    .dataframe tbody tr th {\n",
       "        vertical-align: top;\n",
       "    }\n",
       "\n",
       "    .dataframe thead th {\n",
       "        text-align: right;\n",
       "    }\n",
       "</style>\n",
       "<table border=\"1\" class=\"dataframe\">\n",
       "  <thead>\n",
       "    <tr style=\"text-align: right;\">\n",
       "      <th></th>\n",
       "      <th>row_id</th>\n",
       "      <th>abethr1</th>\n",
       "      <th>abhori1</th>\n",
       "      <th>abythr1</th>\n",
       "      <th>afbfly1</th>\n",
       "      <th>afdfly1</th>\n",
       "      <th>afecuc1</th>\n",
       "      <th>affeag1</th>\n",
       "      <th>afgfly1</th>\n",
       "      <th>afghor1</th>\n",
       "      <th>...</th>\n",
       "      <th>yebsto1</th>\n",
       "      <th>yeccan1</th>\n",
       "      <th>yefcan</th>\n",
       "      <th>yelbis1</th>\n",
       "      <th>yenspu1</th>\n",
       "      <th>yertin1</th>\n",
       "      <th>yesbar1</th>\n",
       "      <th>yespet1</th>\n",
       "      <th>yetgre1</th>\n",
       "      <th>yewgre1</th>\n",
       "    </tr>\n",
       "  </thead>\n",
       "  <tbody>\n",
       "    <tr>\n",
       "      <th>0</th>\n",
       "      <td>wlwwar/XC582018.ogg</td>\n",
       "      <td>0</td>\n",
       "      <td>0</td>\n",
       "      <td>0</td>\n",
       "      <td>0</td>\n",
       "      <td>0</td>\n",
       "      <td>0</td>\n",
       "      <td>0</td>\n",
       "      <td>0</td>\n",
       "      <td>0</td>\n",
       "      <td>...</td>\n",
       "      <td>0</td>\n",
       "      <td>0</td>\n",
       "      <td>0</td>\n",
       "      <td>0</td>\n",
       "      <td>0</td>\n",
       "      <td>0</td>\n",
       "      <td>0</td>\n",
       "      <td>0</td>\n",
       "      <td>0</td>\n",
       "      <td>0</td>\n",
       "    </tr>\n",
       "    <tr>\n",
       "      <th>1</th>\n",
       "      <td>woosan/XC599910.ogg</td>\n",
       "      <td>0</td>\n",
       "      <td>0</td>\n",
       "      <td>0</td>\n",
       "      <td>0</td>\n",
       "      <td>0</td>\n",
       "      <td>0</td>\n",
       "      <td>0</td>\n",
       "      <td>0</td>\n",
       "      <td>0</td>\n",
       "      <td>...</td>\n",
       "      <td>0</td>\n",
       "      <td>0</td>\n",
       "      <td>0</td>\n",
       "      <td>0</td>\n",
       "      <td>0</td>\n",
       "      <td>0</td>\n",
       "      <td>0</td>\n",
       "      <td>0</td>\n",
       "      <td>0</td>\n",
       "      <td>0</td>\n",
       "    </tr>\n",
       "    <tr>\n",
       "      <th>2</th>\n",
       "      <td>woosan/XC545085.ogg</td>\n",
       "      <td>0</td>\n",
       "      <td>0</td>\n",
       "      <td>0</td>\n",
       "      <td>0</td>\n",
       "      <td>0</td>\n",
       "      <td>0</td>\n",
       "      <td>0</td>\n",
       "      <td>0</td>\n",
       "      <td>0</td>\n",
       "      <td>...</td>\n",
       "      <td>0</td>\n",
       "      <td>0</td>\n",
       "      <td>0</td>\n",
       "      <td>0</td>\n",
       "      <td>0</td>\n",
       "      <td>0</td>\n",
       "      <td>0</td>\n",
       "      <td>0</td>\n",
       "      <td>0</td>\n",
       "      <td>0</td>\n",
       "    </tr>\n",
       "    <tr>\n",
       "      <th>3</th>\n",
       "      <td>spwlap1/XC472381.ogg</td>\n",
       "      <td>0</td>\n",
       "      <td>0</td>\n",
       "      <td>0</td>\n",
       "      <td>0</td>\n",
       "      <td>0</td>\n",
       "      <td>0</td>\n",
       "      <td>0</td>\n",
       "      <td>0</td>\n",
       "      <td>0</td>\n",
       "      <td>...</td>\n",
       "      <td>0</td>\n",
       "      <td>0</td>\n",
       "      <td>0</td>\n",
       "      <td>0</td>\n",
       "      <td>0</td>\n",
       "      <td>0</td>\n",
       "      <td>0</td>\n",
       "      <td>0</td>\n",
       "      <td>0</td>\n",
       "      <td>0</td>\n",
       "    </tr>\n",
       "    <tr>\n",
       "      <th>4</th>\n",
       "      <td>bltapa1/XC753135.ogg</td>\n",
       "      <td>0</td>\n",
       "      <td>0</td>\n",
       "      <td>0</td>\n",
       "      <td>0</td>\n",
       "      <td>0</td>\n",
       "      <td>0</td>\n",
       "      <td>0</td>\n",
       "      <td>0</td>\n",
       "      <td>0</td>\n",
       "      <td>...</td>\n",
       "      <td>0</td>\n",
       "      <td>0</td>\n",
       "      <td>0</td>\n",
       "      <td>0</td>\n",
       "      <td>0</td>\n",
       "      <td>0</td>\n",
       "      <td>0</td>\n",
       "      <td>0</td>\n",
       "      <td>0</td>\n",
       "      <td>0</td>\n",
       "    </tr>\n",
       "    <tr>\n",
       "      <th>...</th>\n",
       "      <td>...</td>\n",
       "      <td>...</td>\n",
       "      <td>...</td>\n",
       "      <td>...</td>\n",
       "      <td>...</td>\n",
       "      <td>...</td>\n",
       "      <td>...</td>\n",
       "      <td>...</td>\n",
       "      <td>...</td>\n",
       "      <td>...</td>\n",
       "      <td>...</td>\n",
       "      <td>...</td>\n",
       "      <td>...</td>\n",
       "      <td>...</td>\n",
       "      <td>...</td>\n",
       "      <td>...</td>\n",
       "      <td>...</td>\n",
       "      <td>...</td>\n",
       "      <td>...</td>\n",
       "      <td>...</td>\n",
       "      <td>...</td>\n",
       "    </tr>\n",
       "    <tr>\n",
       "      <th>1554</th>\n",
       "      <td>bkctch1/XC403426.ogg</td>\n",
       "      <td>0</td>\n",
       "      <td>0</td>\n",
       "      <td>0</td>\n",
       "      <td>0</td>\n",
       "      <td>0</td>\n",
       "      <td>0</td>\n",
       "      <td>0</td>\n",
       "      <td>0</td>\n",
       "      <td>0</td>\n",
       "      <td>...</td>\n",
       "      <td>0</td>\n",
       "      <td>0</td>\n",
       "      <td>0</td>\n",
       "      <td>0</td>\n",
       "      <td>0</td>\n",
       "      <td>0</td>\n",
       "      <td>0</td>\n",
       "      <td>0</td>\n",
       "      <td>0</td>\n",
       "      <td>0</td>\n",
       "    </tr>\n",
       "    <tr>\n",
       "      <th>1555</th>\n",
       "      <td>blbpuf2/XC621047.ogg</td>\n",
       "      <td>0</td>\n",
       "      <td>0</td>\n",
       "      <td>0</td>\n",
       "      <td>0</td>\n",
       "      <td>0</td>\n",
       "      <td>0</td>\n",
       "      <td>0</td>\n",
       "      <td>0</td>\n",
       "      <td>0</td>\n",
       "      <td>...</td>\n",
       "      <td>0</td>\n",
       "      <td>0</td>\n",
       "      <td>0</td>\n",
       "      <td>0</td>\n",
       "      <td>0</td>\n",
       "      <td>0</td>\n",
       "      <td>0</td>\n",
       "      <td>0</td>\n",
       "      <td>0</td>\n",
       "      <td>0</td>\n",
       "    </tr>\n",
       "    <tr>\n",
       "      <th>1556</th>\n",
       "      <td>wbrcha2/XC317506.ogg</td>\n",
       "      <td>0</td>\n",
       "      <td>0</td>\n",
       "      <td>0</td>\n",
       "      <td>0</td>\n",
       "      <td>0</td>\n",
       "      <td>0</td>\n",
       "      <td>0</td>\n",
       "      <td>0</td>\n",
       "      <td>0</td>\n",
       "      <td>...</td>\n",
       "      <td>0</td>\n",
       "      <td>0</td>\n",
       "      <td>0</td>\n",
       "      <td>0</td>\n",
       "      <td>0</td>\n",
       "      <td>0</td>\n",
       "      <td>0</td>\n",
       "      <td>0</td>\n",
       "      <td>0</td>\n",
       "      <td>0</td>\n",
       "    </tr>\n",
       "    <tr>\n",
       "      <th>1557</th>\n",
       "      <td>rbsrob1/XC388988.ogg</td>\n",
       "      <td>0</td>\n",
       "      <td>0</td>\n",
       "      <td>0</td>\n",
       "      <td>0</td>\n",
       "      <td>0</td>\n",
       "      <td>0</td>\n",
       "      <td>0</td>\n",
       "      <td>0</td>\n",
       "      <td>0</td>\n",
       "      <td>...</td>\n",
       "      <td>0</td>\n",
       "      <td>0</td>\n",
       "      <td>0</td>\n",
       "      <td>0</td>\n",
       "      <td>0</td>\n",
       "      <td>0</td>\n",
       "      <td>0</td>\n",
       "      <td>0</td>\n",
       "      <td>0</td>\n",
       "      <td>0</td>\n",
       "    </tr>\n",
       "    <tr>\n",
       "      <th>1558</th>\n",
       "      <td>blwlap1/XC332052.ogg</td>\n",
       "      <td>0</td>\n",
       "      <td>0</td>\n",
       "      <td>0</td>\n",
       "      <td>0</td>\n",
       "      <td>0</td>\n",
       "      <td>0</td>\n",
       "      <td>0</td>\n",
       "      <td>0</td>\n",
       "      <td>0</td>\n",
       "      <td>...</td>\n",
       "      <td>0</td>\n",
       "      <td>0</td>\n",
       "      <td>0</td>\n",
       "      <td>0</td>\n",
       "      <td>0</td>\n",
       "      <td>0</td>\n",
       "      <td>0</td>\n",
       "      <td>0</td>\n",
       "      <td>0</td>\n",
       "      <td>0</td>\n",
       "    </tr>\n",
       "  </tbody>\n",
       "</table>\n",
       "<p>1559 rows × 265 columns</p>\n",
       "</div>"
      ],
      "text/plain": [
       "                    row_id  abethr1  abhori1  abythr1  afbfly1  afdfly1  \\\n",
       "0      wlwwar/XC582018.ogg        0        0        0        0        0   \n",
       "1      woosan/XC599910.ogg        0        0        0        0        0   \n",
       "2      woosan/XC545085.ogg        0        0        0        0        0   \n",
       "3     spwlap1/XC472381.ogg        0        0        0        0        0   \n",
       "4     bltapa1/XC753135.ogg        0        0        0        0        0   \n",
       "...                    ...      ...      ...      ...      ...      ...   \n",
       "1554  bkctch1/XC403426.ogg        0        0        0        0        0   \n",
       "1555  blbpuf2/XC621047.ogg        0        0        0        0        0   \n",
       "1556  wbrcha2/XC317506.ogg        0        0        0        0        0   \n",
       "1557  rbsrob1/XC388988.ogg        0        0        0        0        0   \n",
       "1558  blwlap1/XC332052.ogg        0        0        0        0        0   \n",
       "\n",
       "      afecuc1  affeag1  afgfly1  afghor1  ...  yebsto1  yeccan1  yefcan  \\\n",
       "0           0        0        0        0  ...        0        0       0   \n",
       "1           0        0        0        0  ...        0        0       0   \n",
       "2           0        0        0        0  ...        0        0       0   \n",
       "3           0        0        0        0  ...        0        0       0   \n",
       "4           0        0        0        0  ...        0        0       0   \n",
       "...       ...      ...      ...      ...  ...      ...      ...     ...   \n",
       "1554        0        0        0        0  ...        0        0       0   \n",
       "1555        0        0        0        0  ...        0        0       0   \n",
       "1556        0        0        0        0  ...        0        0       0   \n",
       "1557        0        0        0        0  ...        0        0       0   \n",
       "1558        0        0        0        0  ...        0        0       0   \n",
       "\n",
       "      yelbis1  yenspu1  yertin1  yesbar1  yespet1  yetgre1  yewgre1  \n",
       "0           0        0        0        0        0        0        0  \n",
       "1           0        0        0        0        0        0        0  \n",
       "2           0        0        0        0        0        0        0  \n",
       "3           0        0        0        0        0        0        0  \n",
       "4           0        0        0        0        0        0        0  \n",
       "...       ...      ...      ...      ...      ...      ...      ...  \n",
       "1554        0        0        0        0        0        0        0  \n",
       "1555        0        0        0        0        0        0        0  \n",
       "1556        0        0        0        0        0        0        0  \n",
       "1557        0        0        0        0        0        0        0  \n",
       "1558        0        0        0        0        0        0        0  \n",
       "\n",
       "[1559 rows x 265 columns]"
      ]
     },
     "execution_count": 73,
     "metadata": {},
     "output_type": "execute_result"
    }
   ],
   "source": [
    "# temporary for testing\n",
    "truth_df"
   ]
  },
  {
   "cell_type": "code",
   "execution_count": 74,
   "id": "f66fd18a-fcfc-438a-9309-5d636f5c1ae4",
   "metadata": {
    "tags": []
   },
   "outputs": [
    {
     "name": "stdout",
     "output_type": "stream",
     "text": [
      "0.8286376986259428\n"
     ]
    }
   ],
   "source": [
    "pcmap = padded_cmap_for_df(truth_df, sub_df)\n",
    "print(pcmap)"
   ]
  },
  {
   "cell_type": "code",
   "execution_count": 75,
   "id": "e8411c93-d939-4487-ab6b-c4c3c55b33e2",
   "metadata": {
    "tags": []
   },
   "outputs": [
    {
     "name": "stdout",
     "output_type": "stream",
     "text": [
      "0.9313944384344792\n"
     ]
    }
   ],
   "source": [
    "sub_prob_df = pd.DataFrame(tst_df.reset_index().filename)\n",
    "sub_prob_df.columns = ['row_id']\n",
    "# sub_prob_df = pd.concat([sub_prob_df, pd.DataFrame(probs, columns=learn.dls.vocab)], axis=1)\n",
    "sub_prob_df = pd.concat([sub_prob_df, pd.DataFrame(probs, columns=sub_sample_df.columns[1:])], axis=1)\n",
    "pcmap_prob = padded_cmap_for_df(truth_df, sub_prob_df)\n",
    "print(pcmap_prob)"
   ]
  },
  {
   "cell_type": "markdown",
   "id": "130c3558-c0cd-45d4-ae76-253f1e4e2f09",
   "metadata": {},
   "source": [
    "For comparison, what is the score when we predict all zeros or all ones?"
   ]
  },
  {
   "cell_type": "code",
   "execution_count": 76,
   "id": "ac601ad3-9c58-43c6-835c-ffef05d2582a",
   "metadata": {
    "tags": []
   },
   "outputs": [
    {
     "data": {
      "text/plain": [
       "0.6191115788609122"
      ]
     },
     "execution_count": 76,
     "metadata": {},
     "output_type": "execute_result"
    }
   ],
   "source": [
    "sub_df.iloc[:, 1:] = 0\n",
    "padded_cmap_for_df(truth_df, sub_df)"
   ]
  },
  {
   "cell_type": "code",
   "execution_count": 77,
   "id": "602e2c47-f9fc-4191-8765-d6a5c642978e",
   "metadata": {},
   "outputs": [
    {
     "data": {
      "text/plain": [
       "0.006972700147252577"
      ]
     },
     "execution_count": 77,
     "metadata": {},
     "output_type": "execute_result"
    }
   ],
   "source": [
    "sub_df.iloc[:, 1:] = 1\n",
    "padded_cmap_for_df(truth_df, sub_df)"
   ]
  },
  {
   "cell_type": "markdown",
   "id": "8586128b-e2ea-4d54-a952-63d111c6bcc4",
   "metadata": {},
   "source": [
    "# Export"
   ]
  },
  {
   "cell_type": "code",
   "execution_count": 78,
   "id": "2c6ae027-01e8-4e6d-b22e-4dcbd0238006",
   "metadata": {},
   "outputs": [
    {
     "data": {
      "text/plain": [
       "[Resample:\n",
       " encodes: (AudioTensor,object) -> encodes\n",
       " decodes: ,\n",
       " DownmixMono:\n",
       " encodes: (AudioTensor,object) -> encodes\n",
       " decodes: ,\n",
       " AudioToSpec:\n",
       " encodes: (AudioTensor,object) -> encodes\n",
       " decodes: ,\n",
       " ToTensor:\n",
       " encodes: (PILMask,object) -> encodes\n",
       " (PILBase,object) -> encodes\n",
       " decodes: ]"
      ]
     },
     "execution_count": 78,
     "metadata": {},
     "output_type": "execute_result"
    }
   ],
   "source": [
    "transforms_to_remove = ['ResizeSignal']\n",
    "new_fs = [tfm for tfm in learn.dls.valid.after_item.fs if tfm.name not in transforms_to_remove]\n",
    "learn.dls.valid.after_item.fs = new_fs\n",
    "learn.dls.valid.after_item.fs"
   ]
  },
  {
   "cell_type": "code",
   "execution_count": 79,
   "id": "a900d245-dc20-4a5d-8835-44d13ecaea98",
   "metadata": {},
   "outputs": [
    {
     "data": {
      "text/plain": [
       "Path('birdclef-2023-eca_nfnet_l0-20230513-140227.pkl')"
      ]
     },
     "execution_count": 79,
     "metadata": {},
     "output_type": "execute_result"
    }
   ],
   "source": [
    "# Model\n",
    "timestr = time.strftime(\"%Y%m%d-%H%M%S\")\n",
    "model_fname = Path(f\"birdclef-2023-{hypp['nn_arch']}-{timestr}.pkl\")\n",
    "if iskaggle:\n",
    "    model_fname = Path('/kaggle/working')/model_fname\n",
    "model_fname"
   ]
  },
  {
   "cell_type": "code",
   "execution_count": 80,
   "id": "f0933d82-ccb2-4196-846e-b211d8b0df7f",
   "metadata": {
    "tags": []
   },
   "outputs": [],
   "source": [
    "# Confusion matrix\n",
    "confmat_df.to_csv(f'confmat-{timestr}.csv')"
   ]
  },
  {
   "cell_type": "code",
   "execution_count": 81,
   "id": "21fce1ff-9888-4aa2-8374-af6b632b4b6a",
   "metadata": {},
   "outputs": [
    {
     "data": {
      "text/html": [
       "Waiting for W&B process to finish... <strong style=\"color:green\">(success).</strong>"
      ],
      "text/plain": [
       "<IPython.core.display.HTML object>"
      ]
     },
     "metadata": {},
     "output_type": "display_data"
    },
    {
     "data": {
      "text/html": [
       "<style>\n",
       "    table.wandb td:nth-child(1) { padding: 0 10px; text-align: left ; width: auto;} td:nth-child(2) {text-align: left ; width: 100%}\n",
       "    .wandb-row { display: flex; flex-direction: row; flex-wrap: wrap; justify-content: flex-start; width: 100% }\n",
       "    .wandb-col { display: flex; flex-direction: column; flex-basis: 100%; flex: 1; padding: 10px; }\n",
       "    </style>\n",
       "<div class=\"wandb-row\"><div class=\"wandb-col\"><h3>Run history:</h3><br/><table class=\"wandb\"><tr><td>epoch</td><td>▁▁▁▂▂▂▂▂▂▃▃▃▃▃▃▄▄▄▄▄▅▅▅▅▅▅▆▆▆▆▆▇▇▇▇▇▇███</td></tr><tr><td>eps_0</td><td>▁▁▁▁▁▁▁▁▁▁▁▁▁▁▁▁▁▁▁▁▁▁▁▁▁▁▁▁▁▁▁▁▁▁▁▁▁▁▁▁</td></tr><tr><td>eps_1</td><td>▁▁▁▁▁▁▁▁▁▁▁▁▁▁▁▁▁▁▁▁▁▁▁▁▁▁▁▁▁▁▁▁▁▁▁▁▁▁▁▁</td></tr><tr><td>error_rate</td><td>█▅▃▂▂▁▁▂▁▁▁▁▁▁</td></tr><tr><td>lr_0</td><td>▂▅█▁▁▁▁▁▁▁▁▁▁▁▁▁▁▁▁▁▁▃▅▁▁▁▁▁▁▁▁▁▁▁▁▁▁▁▁▁</td></tr><tr><td>lr_1</td><td>▂▅█▂▂▃▄▅▅▅▅▄▄▃▃▂▂▂▁▁▁▃▅▁▂▂▃▃▃▃▃▃▂▂▂▂▁▁▁▁</td></tr><tr><td>mom_0</td><td>█▅▂█▇▅▃▂▁▁▂▂▃▄▅▆▆▇███▅▁█▇▄▃▁▁▁▂▂▃▄▅▆▆▇██</td></tr><tr><td>mom_1</td><td>█▅▂█▇▅▃▂▁▁▂▂▃▄▅▆▆▇███▅▁█▇▄▃▁▁▁▂▂▃▄▅▆▆▇██</td></tr><tr><td>padded_cmAP</td><td>▁▃▄▆▇▇▇▆█▇▇▇██</td></tr><tr><td>padded_cmAP_probs</td><td>▁▄▆▇▇██▇██████</td></tr><tr><td>padded_cmap</td><td>▁</td></tr><tr><td>padded_cmap_probs</td><td>▁</td></tr><tr><td>raw_loss</td><td>█▅▅▄▆▄▄▄▆▂▂▃▂▃▂▂▂▁▂▂▂▃▂▂▁▁▁▁▂▁▂▁▁▁▁▁▁▁▁▁</td></tr><tr><td>sqr_mom_0</td><td>▁▁▁▁▁▁▁▁▁▁▁▁▁▁▁▁▁▁▁▁▁▁▁▁▁▁▁▁▁▁▁▁▁▁▁▁▁▁▁▁</td></tr><tr><td>sqr_mom_1</td><td>▁▁▁▁▁▁▁▁▁▁▁▁▁▁▁▁▁▁▁▁▁▁▁▁▁▁▁▁▁▁▁▁▁▁▁▁▁▁▁▁</td></tr><tr><td>train_loss</td><td>█▇▇▅▅▄▄▄▃▃▃▃▂▂▂▂▂▂▁▂▂▂▂▂▂▂▁▂▂▁▂▁▁▁▁▁▁▁▁▁</td></tr><tr><td>train_samples_per_sec</td><td>███▁▁▁▁▁▁▁▁▁▁▁▁▁▁▁▁▁███▁▁▁▁▁▁▁▁▁▁▁▁▁▁▁▁▁</td></tr><tr><td>valid_loss</td><td>█▄▃▂▁▁▁▂▁▁▁▁▁▁</td></tr><tr><td>wd_0</td><td>▁▁▁▁▁▁▁▁▁▁▁▁▁▁▁▁▁▁▁▁▁▁▁▁▁▁▁▁▁▁▁▁▁▁▁▁▁▁▁▁</td></tr><tr><td>wd_1</td><td>▁▁▁▁▁▁▁▁▁▁▁▁▁▁▁▁▁▁▁▁▁▁▁▁▁▁▁▁▁▁▁▁▁▁▁▁▁▁▁▁</td></tr></table><br/></div><div class=\"wandb-col\"><h3>Run summary:</h3><br/><table class=\"wandb\"><tr><td>epoch</td><td>14</td></tr><tr><td>eps_0</td><td>1e-05</td></tr><tr><td>eps_1</td><td>1e-05</td></tr><tr><td>error_rate</td><td>0.22001</td></tr><tr><td>lr_0</td><td>0.0</td></tr><tr><td>lr_1</td><td>0.0</td></tr><tr><td>model_fname</td><td>birdclef-2023-eca_nf...</td></tr><tr><td>mom_0</td><td>0.95</td></tr><tr><td>mom_1</td><td>0.95</td></tr><tr><td>padded_cmAP</td><td>0.65149</td></tr><tr><td>padded_cmAP_probs</td><td>0.83175</td></tr><tr><td>padded_cmap</td><td>0.82864</td></tr><tr><td>padded_cmap_probs</td><td>0.93139</td></tr><tr><td>raw_loss</td><td>0.23123</td></tr><tr><td>sqr_mom_0</td><td>0.99</td></tr><tr><td>sqr_mom_1</td><td>0.99</td></tr><tr><td>train_loss</td><td>0.19778</td></tr><tr><td>train_samples_per_sec</td><td>29.66895</td></tr><tr><td>trn_sub_folder</td><td>train_audio_prep-10s...</td></tr><tr><td>valid_loss</td><td>1.22002</td></tr><tr><td>wd_0</td><td>0.01</td></tr><tr><td>wd_1</td><td>0.01</td></tr></table><br/></div></div>"
      ],
      "text/plain": [
       "<IPython.core.display.HTML object>"
      ]
     },
     "metadata": {},
     "output_type": "display_data"
    },
    {
     "data": {
      "text/html": [
       " View run <strong style=\"color:#cdcd00\">eager-sun-75</strong> at: <a href='https://wandb.ai/sdhca/birdclef-2023/runs/1apur92g' target=\"_blank\">https://wandb.ai/sdhca/birdclef-2023/runs/1apur92g</a><br/>Synced 6 W&B file(s), 0 media file(s), 0 artifact file(s) and 0 other file(s)"
      ],
      "text/plain": [
       "<IPython.core.display.HTML object>"
      ]
     },
     "metadata": {},
     "output_type": "display_data"
    },
    {
     "data": {
      "text/html": [
       "Find logs at: <code>./wandb/run-20230513_122319-1apur92g/logs</code>"
      ],
      "text/plain": [
       "<IPython.core.display.HTML object>"
      ]
     },
     "metadata": {},
     "output_type": "display_data"
    }
   ],
   "source": [
    "if wandb_on:\n",
    "    wandb.log({\n",
    "        'model_fname': str(model_fname),\n",
    "        'padded_cmap': pcmap,\n",
    "        'padded_cmap_probs': pcmap_prob,\n",
    "        'trn_sub_folder': hypp['data_prep_details']['prep_dir']\n",
    "    })\n",
    "    wandb.finish()\n",
    "    learn.remove_cbs(wandb_callback)"
   ]
  },
  {
   "cell_type": "code",
   "execution_count": 82,
   "id": "12a97f0d-11ed-435b-a55b-15ffb67bcb89",
   "metadata": {},
   "outputs": [],
   "source": [
    "learn.export(model_fname)"
   ]
  },
  {
   "cell_type": "code",
   "execution_count": 83,
   "id": "ec56c267-0877-48db-b8cc-0c9e905313cc",
   "metadata": {},
   "outputs": [],
   "source": [
    "# Also save the test indices associated with this model for separate experimentation with threholding / binarization to optimize pF1\n",
    "split_fname = Path(str(model_fname.with_suffix('')) + '-test_indices').with_suffix('.pkl')\n",
    "if iskaggle:\n",
    "    split_fname = Path('/kaggle/working')/split_fname\n",
    "    \n",
    "with open(split_fname, 'wb') as fhandle:\n",
    "    pickle.dump(tst_idx, fhandle)"
   ]
  },
  {
   "cell_type": "code",
   "execution_count": 84,
   "id": "b94ff0b3-ac04-4e55-bf72-42b7f65dc3f9",
   "metadata": {},
   "outputs": [
    {
     "data": {
      "text/plain": [
       "0.9313944384344792"
      ]
     },
     "execution_count": 84,
     "metadata": {},
     "output_type": "execute_result"
    }
   ],
   "source": [
    "pcmap_prob"
   ]
  },
  {
   "cell_type": "markdown",
   "id": "742f4e4a-55a6-4275-ae3e-13e20296af8c",
   "metadata": {},
   "source": [
    "## "
   ]
  }
 ],
 "metadata": {
  "kernelspec": {
   "display_name": "Python 3 (ipykernel)",
   "language": "python",
   "name": "python3"
  },
  "language_info": {
   "codemirror_mode": {
    "name": "ipython",
    "version": 3
   },
   "file_extension": ".py",
   "mimetype": "text/x-python",
   "name": "python",
   "nbconvert_exporter": "python",
   "pygments_lexer": "ipython3",
   "version": "3.9.16"
  }
 },
 "nbformat": 4,
 "nbformat_minor": 5
}
